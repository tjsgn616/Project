{
 "cells": [
  {
   "cell_type": "code",
   "execution_count": 1,
   "id": "7dfc0d50",
   "metadata": {
    "_cell_guid": "b1076dfc-b9ad-4769-8c92-a6c4dae69d19",
    "_uuid": "8f2839f25d086af736a60e9eeb907d3b93b6e0e5",
    "execution": {
     "iopub.execute_input": "2022-04-01T08:37:42.092516Z",
     "iopub.status.busy": "2022-04-01T08:37:42.091916Z",
     "iopub.status.idle": "2022-04-01T08:37:42.102469Z",
     "shell.execute_reply": "2022-04-01T08:37:42.103116Z",
     "shell.execute_reply.started": "2022-04-01T08:11:00.341570Z"
    },
    "papermill": {
     "duration": 0.035388,
     "end_time": "2022-04-01T08:37:42.103491",
     "exception": false,
     "start_time": "2022-04-01T08:37:42.068103",
     "status": "completed"
    },
    "tags": []
   },
   "outputs": [
    {
     "name": "stdout",
     "output_type": "stream",
     "text": [
      "/kaggle/input/spaceship-titanic/sample_submission.csv\n",
      "/kaggle/input/spaceship-titanic/train.csv\n",
      "/kaggle/input/spaceship-titanic/test.csv\n"
     ]
    }
   ],
   "source": [
    "# This Python 3 environment comes with many helpful analytics libraries installed\n",
    "# It is defined by the kaggle/python Docker image: https://github.com/kaggle/docker-python\n",
    "# For example, here's several helpful packages to load\n",
    "\n",
    "import numpy as np # linear algebra\n",
    "import pandas as pd # data processing, CSV file I/O (e.g. pd.read_csv)\n",
    "\n",
    "# Input data files are available in the read-only \"../input/\" directory\n",
    "# For example, running this (by clicking run or pressing Shift+Enter) will list all files under the input directory\n",
    "\n",
    "import os\n",
    "for dirname, _, filenames in os.walk('/kaggle/input'):\n",
    "    for filename in filenames:\n",
    "        print(os.path.join(dirname, filename))\n",
    "\n",
    "# You can write up to 20GB to the current directory (/kaggle/working/) that gets preserved as output when you create a version using \"Save & Run All\" \n",
    "# You can also write temporary files to /kaggle/temp/, but they won't be saved outside of the current session"
   ]
  },
  {
   "cell_type": "code",
   "execution_count": 2,
   "id": "246d6ae9",
   "metadata": {
    "execution": {
     "iopub.execute_input": "2022-04-01T08:37:42.140141Z",
     "iopub.status.busy": "2022-04-01T08:37:42.139521Z",
     "iopub.status.idle": "2022-04-01T08:37:44.033315Z",
     "shell.execute_reply": "2022-04-01T08:37:44.033948Z",
     "shell.execute_reply.started": "2022-04-01T08:12:09.564723Z"
    },
    "papermill": {
     "duration": 1.913006,
     "end_time": "2022-04-01T08:37:44.034120",
     "exception": false,
     "start_time": "2022-04-01T08:37:42.121114",
     "status": "completed"
    },
    "tags": []
   },
   "outputs": [],
   "source": [
    "import seaborn as sns\n",
    "import matplotlib.pyplot as plt\n",
    "\n",
    "import plotly.express as px\n",
    "import plotly.graph_objects as go"
   ]
  },
  {
   "cell_type": "code",
   "execution_count": 3,
   "id": "1f784395",
   "metadata": {
    "execution": {
     "iopub.execute_input": "2022-04-01T08:37:44.067435Z",
     "iopub.status.busy": "2022-04-01T08:37:44.066579Z",
     "iopub.status.idle": "2022-04-01T08:37:44.135849Z",
     "shell.execute_reply": "2022-04-01T08:37:44.136252Z",
     "shell.execute_reply.started": "2022-04-01T08:12:26.092824Z"
    },
    "papermill": {
     "duration": 0.087128,
     "end_time": "2022-04-01T08:37:44.136475",
     "exception": false,
     "start_time": "2022-04-01T08:37:44.049347",
     "status": "completed"
    },
    "tags": []
   },
   "outputs": [
    {
     "data": {
      "text/html": [
       "<div>\n",
       "<style scoped>\n",
       "    .dataframe tbody tr th:only-of-type {\n",
       "        vertical-align: middle;\n",
       "    }\n",
       "\n",
       "    .dataframe tbody tr th {\n",
       "        vertical-align: top;\n",
       "    }\n",
       "\n",
       "    .dataframe thead th {\n",
       "        text-align: right;\n",
       "    }\n",
       "</style>\n",
       "<table border=\"1\" class=\"dataframe\">\n",
       "  <thead>\n",
       "    <tr style=\"text-align: right;\">\n",
       "      <th></th>\n",
       "      <th>PassengerId</th>\n",
       "      <th>HomePlanet</th>\n",
       "      <th>CryoSleep</th>\n",
       "      <th>Cabin</th>\n",
       "      <th>Destination</th>\n",
       "      <th>Age</th>\n",
       "      <th>VIP</th>\n",
       "      <th>RoomService</th>\n",
       "      <th>FoodCourt</th>\n",
       "      <th>ShoppingMall</th>\n",
       "      <th>Spa</th>\n",
       "      <th>VRDeck</th>\n",
       "      <th>Name</th>\n",
       "      <th>Transported</th>\n",
       "    </tr>\n",
       "  </thead>\n",
       "  <tbody>\n",
       "    <tr>\n",
       "      <th>0</th>\n",
       "      <td>0001_01</td>\n",
       "      <td>Europa</td>\n",
       "      <td>False</td>\n",
       "      <td>B/0/P</td>\n",
       "      <td>TRAPPIST-1e</td>\n",
       "      <td>39.0</td>\n",
       "      <td>False</td>\n",
       "      <td>0.0</td>\n",
       "      <td>0.0</td>\n",
       "      <td>0.0</td>\n",
       "      <td>0.0</td>\n",
       "      <td>0.0</td>\n",
       "      <td>Maham Ofracculy</td>\n",
       "      <td>False</td>\n",
       "    </tr>\n",
       "    <tr>\n",
       "      <th>1</th>\n",
       "      <td>0002_01</td>\n",
       "      <td>Earth</td>\n",
       "      <td>False</td>\n",
       "      <td>F/0/S</td>\n",
       "      <td>TRAPPIST-1e</td>\n",
       "      <td>24.0</td>\n",
       "      <td>False</td>\n",
       "      <td>109.0</td>\n",
       "      <td>9.0</td>\n",
       "      <td>25.0</td>\n",
       "      <td>549.0</td>\n",
       "      <td>44.0</td>\n",
       "      <td>Juanna Vines</td>\n",
       "      <td>True</td>\n",
       "    </tr>\n",
       "    <tr>\n",
       "      <th>2</th>\n",
       "      <td>0003_01</td>\n",
       "      <td>Europa</td>\n",
       "      <td>False</td>\n",
       "      <td>A/0/S</td>\n",
       "      <td>TRAPPIST-1e</td>\n",
       "      <td>58.0</td>\n",
       "      <td>True</td>\n",
       "      <td>43.0</td>\n",
       "      <td>3576.0</td>\n",
       "      <td>0.0</td>\n",
       "      <td>6715.0</td>\n",
       "      <td>49.0</td>\n",
       "      <td>Altark Susent</td>\n",
       "      <td>False</td>\n",
       "    </tr>\n",
       "    <tr>\n",
       "      <th>3</th>\n",
       "      <td>0003_02</td>\n",
       "      <td>Europa</td>\n",
       "      <td>False</td>\n",
       "      <td>A/0/S</td>\n",
       "      <td>TRAPPIST-1e</td>\n",
       "      <td>33.0</td>\n",
       "      <td>False</td>\n",
       "      <td>0.0</td>\n",
       "      <td>1283.0</td>\n",
       "      <td>371.0</td>\n",
       "      <td>3329.0</td>\n",
       "      <td>193.0</td>\n",
       "      <td>Solam Susent</td>\n",
       "      <td>False</td>\n",
       "    </tr>\n",
       "    <tr>\n",
       "      <th>4</th>\n",
       "      <td>0004_01</td>\n",
       "      <td>Earth</td>\n",
       "      <td>False</td>\n",
       "      <td>F/1/S</td>\n",
       "      <td>TRAPPIST-1e</td>\n",
       "      <td>16.0</td>\n",
       "      <td>False</td>\n",
       "      <td>303.0</td>\n",
       "      <td>70.0</td>\n",
       "      <td>151.0</td>\n",
       "      <td>565.0</td>\n",
       "      <td>2.0</td>\n",
       "      <td>Willy Santantines</td>\n",
       "      <td>True</td>\n",
       "    </tr>\n",
       "  </tbody>\n",
       "</table>\n",
       "</div>"
      ],
      "text/plain": [
       "  PassengerId HomePlanet CryoSleep  Cabin  Destination   Age    VIP  \\\n",
       "0     0001_01     Europa     False  B/0/P  TRAPPIST-1e  39.0  False   \n",
       "1     0002_01      Earth     False  F/0/S  TRAPPIST-1e  24.0  False   \n",
       "2     0003_01     Europa     False  A/0/S  TRAPPIST-1e  58.0   True   \n",
       "3     0003_02     Europa     False  A/0/S  TRAPPIST-1e  33.0  False   \n",
       "4     0004_01      Earth     False  F/1/S  TRAPPIST-1e  16.0  False   \n",
       "\n",
       "   RoomService  FoodCourt  ShoppingMall     Spa  VRDeck               Name  \\\n",
       "0          0.0        0.0           0.0     0.0     0.0    Maham Ofracculy   \n",
       "1        109.0        9.0          25.0   549.0    44.0       Juanna Vines   \n",
       "2         43.0     3576.0           0.0  6715.0    49.0      Altark Susent   \n",
       "3          0.0     1283.0         371.0  3329.0   193.0       Solam Susent   \n",
       "4        303.0       70.0         151.0   565.0     2.0  Willy Santantines   \n",
       "\n",
       "   Transported  \n",
       "0        False  \n",
       "1         True  \n",
       "2        False  \n",
       "3        False  \n",
       "4         True  "
      ]
     },
     "execution_count": 3,
     "metadata": {},
     "output_type": "execute_result"
    }
   ],
   "source": [
    "train = pd.read_csv(r'../input/spaceship-titanic/train.csv')\n",
    "train.head()"
   ]
  },
  {
   "cell_type": "code",
   "execution_count": 4,
   "id": "9ef687a1",
   "metadata": {
    "execution": {
     "iopub.execute_input": "2022-04-01T08:37:44.172282Z",
     "iopub.status.busy": "2022-04-01T08:37:44.171492Z",
     "iopub.status.idle": "2022-04-01T08:37:44.207800Z",
     "shell.execute_reply": "2022-04-01T08:37:44.207314Z",
     "shell.execute_reply.started": "2022-04-01T08:13:00.071794Z"
    },
    "papermill": {
     "duration": 0.05593,
     "end_time": "2022-04-01T08:37:44.207931",
     "exception": false,
     "start_time": "2022-04-01T08:37:44.152001",
     "status": "completed"
    },
    "tags": []
   },
   "outputs": [
    {
     "data": {
      "text/html": [
       "<div>\n",
       "<style scoped>\n",
       "    .dataframe tbody tr th:only-of-type {\n",
       "        vertical-align: middle;\n",
       "    }\n",
       "\n",
       "    .dataframe tbody tr th {\n",
       "        vertical-align: top;\n",
       "    }\n",
       "\n",
       "    .dataframe thead th {\n",
       "        text-align: right;\n",
       "    }\n",
       "</style>\n",
       "<table border=\"1\" class=\"dataframe\">\n",
       "  <thead>\n",
       "    <tr style=\"text-align: right;\">\n",
       "      <th></th>\n",
       "      <th>PassengerId</th>\n",
       "      <th>HomePlanet</th>\n",
       "      <th>CryoSleep</th>\n",
       "      <th>Cabin</th>\n",
       "      <th>Destination</th>\n",
       "      <th>Age</th>\n",
       "      <th>VIP</th>\n",
       "      <th>RoomService</th>\n",
       "      <th>FoodCourt</th>\n",
       "      <th>ShoppingMall</th>\n",
       "      <th>Spa</th>\n",
       "      <th>VRDeck</th>\n",
       "      <th>Name</th>\n",
       "    </tr>\n",
       "  </thead>\n",
       "  <tbody>\n",
       "    <tr>\n",
       "      <th>0</th>\n",
       "      <td>0013_01</td>\n",
       "      <td>Earth</td>\n",
       "      <td>True</td>\n",
       "      <td>G/3/S</td>\n",
       "      <td>TRAPPIST-1e</td>\n",
       "      <td>27.0</td>\n",
       "      <td>False</td>\n",
       "      <td>0.0</td>\n",
       "      <td>0.0</td>\n",
       "      <td>0.0</td>\n",
       "      <td>0.0</td>\n",
       "      <td>0.0</td>\n",
       "      <td>Nelly Carsoning</td>\n",
       "    </tr>\n",
       "    <tr>\n",
       "      <th>1</th>\n",
       "      <td>0018_01</td>\n",
       "      <td>Earth</td>\n",
       "      <td>False</td>\n",
       "      <td>F/4/S</td>\n",
       "      <td>TRAPPIST-1e</td>\n",
       "      <td>19.0</td>\n",
       "      <td>False</td>\n",
       "      <td>0.0</td>\n",
       "      <td>9.0</td>\n",
       "      <td>0.0</td>\n",
       "      <td>2823.0</td>\n",
       "      <td>0.0</td>\n",
       "      <td>Lerome Peckers</td>\n",
       "    </tr>\n",
       "    <tr>\n",
       "      <th>2</th>\n",
       "      <td>0019_01</td>\n",
       "      <td>Europa</td>\n",
       "      <td>True</td>\n",
       "      <td>C/0/S</td>\n",
       "      <td>55 Cancri e</td>\n",
       "      <td>31.0</td>\n",
       "      <td>False</td>\n",
       "      <td>0.0</td>\n",
       "      <td>0.0</td>\n",
       "      <td>0.0</td>\n",
       "      <td>0.0</td>\n",
       "      <td>0.0</td>\n",
       "      <td>Sabih Unhearfus</td>\n",
       "    </tr>\n",
       "    <tr>\n",
       "      <th>3</th>\n",
       "      <td>0021_01</td>\n",
       "      <td>Europa</td>\n",
       "      <td>False</td>\n",
       "      <td>C/1/S</td>\n",
       "      <td>TRAPPIST-1e</td>\n",
       "      <td>38.0</td>\n",
       "      <td>False</td>\n",
       "      <td>0.0</td>\n",
       "      <td>6652.0</td>\n",
       "      <td>0.0</td>\n",
       "      <td>181.0</td>\n",
       "      <td>585.0</td>\n",
       "      <td>Meratz Caltilter</td>\n",
       "    </tr>\n",
       "    <tr>\n",
       "      <th>4</th>\n",
       "      <td>0023_01</td>\n",
       "      <td>Earth</td>\n",
       "      <td>False</td>\n",
       "      <td>F/5/S</td>\n",
       "      <td>TRAPPIST-1e</td>\n",
       "      <td>20.0</td>\n",
       "      <td>False</td>\n",
       "      <td>10.0</td>\n",
       "      <td>0.0</td>\n",
       "      <td>635.0</td>\n",
       "      <td>0.0</td>\n",
       "      <td>0.0</td>\n",
       "      <td>Brence Harperez</td>\n",
       "    </tr>\n",
       "  </tbody>\n",
       "</table>\n",
       "</div>"
      ],
      "text/plain": [
       "  PassengerId HomePlanet CryoSleep  Cabin  Destination   Age    VIP  \\\n",
       "0     0013_01      Earth      True  G/3/S  TRAPPIST-1e  27.0  False   \n",
       "1     0018_01      Earth     False  F/4/S  TRAPPIST-1e  19.0  False   \n",
       "2     0019_01     Europa      True  C/0/S  55 Cancri e  31.0  False   \n",
       "3     0021_01     Europa     False  C/1/S  TRAPPIST-1e  38.0  False   \n",
       "4     0023_01      Earth     False  F/5/S  TRAPPIST-1e  20.0  False   \n",
       "\n",
       "   RoomService  FoodCourt  ShoppingMall     Spa  VRDeck              Name  \n",
       "0          0.0        0.0           0.0     0.0     0.0   Nelly Carsoning  \n",
       "1          0.0        9.0           0.0  2823.0     0.0    Lerome Peckers  \n",
       "2          0.0        0.0           0.0     0.0     0.0   Sabih Unhearfus  \n",
       "3          0.0     6652.0           0.0   181.0   585.0  Meratz Caltilter  \n",
       "4         10.0        0.0         635.0     0.0     0.0   Brence Harperez  "
      ]
     },
     "execution_count": 4,
     "metadata": {},
     "output_type": "execute_result"
    }
   ],
   "source": [
    "test = pd.read_csv(r'../input/spaceship-titanic/test.csv')\n",
    "test.head()"
   ]
  },
  {
   "cell_type": "code",
   "execution_count": 5,
   "id": "f380e51a",
   "metadata": {
    "execution": {
     "iopub.execute_input": "2022-04-01T08:37:44.243874Z",
     "iopub.status.busy": "2022-04-01T08:37:44.243102Z",
     "iopub.status.idle": "2022-04-01T08:37:44.256866Z",
     "shell.execute_reply": "2022-04-01T08:37:44.257235Z",
     "shell.execute_reply.started": "2022-04-01T08:13:37.776764Z"
    },
    "papermill": {
     "duration": 0.033472,
     "end_time": "2022-04-01T08:37:44.257433",
     "exception": false,
     "start_time": "2022-04-01T08:37:44.223961",
     "status": "completed"
    },
    "tags": []
   },
   "outputs": [
    {
     "data": {
      "text/html": [
       "<div>\n",
       "<style scoped>\n",
       "    .dataframe tbody tr th:only-of-type {\n",
       "        vertical-align: middle;\n",
       "    }\n",
       "\n",
       "    .dataframe tbody tr th {\n",
       "        vertical-align: top;\n",
       "    }\n",
       "\n",
       "    .dataframe thead th {\n",
       "        text-align: right;\n",
       "    }\n",
       "</style>\n",
       "<table border=\"1\" class=\"dataframe\">\n",
       "  <thead>\n",
       "    <tr style=\"text-align: right;\">\n",
       "      <th></th>\n",
       "      <th>PassengerId</th>\n",
       "      <th>Transported</th>\n",
       "    </tr>\n",
       "  </thead>\n",
       "  <tbody>\n",
       "    <tr>\n",
       "      <th>0</th>\n",
       "      <td>0013_01</td>\n",
       "      <td>False</td>\n",
       "    </tr>\n",
       "    <tr>\n",
       "      <th>1</th>\n",
       "      <td>0018_01</td>\n",
       "      <td>False</td>\n",
       "    </tr>\n",
       "    <tr>\n",
       "      <th>2</th>\n",
       "      <td>0019_01</td>\n",
       "      <td>False</td>\n",
       "    </tr>\n",
       "    <tr>\n",
       "      <th>3</th>\n",
       "      <td>0021_01</td>\n",
       "      <td>False</td>\n",
       "    </tr>\n",
       "    <tr>\n",
       "      <th>4</th>\n",
       "      <td>0023_01</td>\n",
       "      <td>False</td>\n",
       "    </tr>\n",
       "  </tbody>\n",
       "</table>\n",
       "</div>"
      ],
      "text/plain": [
       "  PassengerId  Transported\n",
       "0     0013_01        False\n",
       "1     0018_01        False\n",
       "2     0019_01        False\n",
       "3     0021_01        False\n",
       "4     0023_01        False"
      ]
     },
     "execution_count": 5,
     "metadata": {},
     "output_type": "execute_result"
    }
   ],
   "source": [
    "sub = pd.read_csv(r'../input/spaceship-titanic/sample_submission.csv')\n",
    "sub.head()"
   ]
  },
  {
   "cell_type": "code",
   "execution_count": 6,
   "id": "c82128a1",
   "metadata": {
    "execution": {
     "iopub.execute_input": "2022-04-01T08:37:44.293130Z",
     "iopub.status.busy": "2022-04-01T08:37:44.292178Z",
     "iopub.status.idle": "2022-04-01T08:37:44.298842Z",
     "shell.execute_reply": "2022-04-01T08:37:44.298144Z",
     "shell.execute_reply.started": "2022-04-01T08:16:08.928398Z"
    },
    "papermill": {
     "duration": 0.025722,
     "end_time": "2022-04-01T08:37:44.299017",
     "exception": false,
     "start_time": "2022-04-01T08:37:44.273295",
     "status": "completed"
    },
    "tags": []
   },
   "outputs": [
    {
     "name": "stdout",
     "output_type": "stream",
     "text": [
      "train set have 8693 rows and 14 columns.\n",
      "test set have 4277 rows and 13 columns.\n",
      "sample_submission set have 4277 rows and 2 columns.\n"
     ]
    }
   ],
   "source": [
    "print(f'train set have {train.shape[0]} rows and {train.shape[1]} columns.')\n",
    "print(f'test set have {test.shape[0]} rows and {test.shape[1]} columns.')\n",
    "print(f'sample_submission set have {sub.shape[0]} rows and {sub.shape[1]} columns.')\n",
    "\n",
    "# f' string => f' ' 사이에 적고싶은 문자열을 적고 {} 안에 변수를 넣으면 된다."
   ]
  },
  {
   "cell_type": "code",
   "execution_count": 7,
   "id": "7228274d",
   "metadata": {
    "execution": {
     "iopub.execute_input": "2022-04-01T08:37:44.336034Z",
     "iopub.status.busy": "2022-04-01T08:37:44.335181Z",
     "iopub.status.idle": "2022-04-01T08:37:44.342039Z",
     "shell.execute_reply": "2022-04-01T08:37:44.342590Z",
     "shell.execute_reply.started": "2022-04-01T08:17:35.234833Z"
    },
    "papermill": {
     "duration": 0.026572,
     "end_time": "2022-04-01T08:37:44.342739",
     "exception": false,
     "start_time": "2022-04-01T08:37:44.316167",
     "status": "completed"
    },
    "tags": []
   },
   "outputs": [
    {
     "data": {
      "text/plain": [
       "PassengerId      object\n",
       "HomePlanet       object\n",
       "CryoSleep        object\n",
       "Cabin            object\n",
       "Destination      object\n",
       "Age             float64\n",
       "VIP              object\n",
       "RoomService     float64\n",
       "FoodCourt       float64\n",
       "ShoppingMall    float64\n",
       "Spa             float64\n",
       "VRDeck          float64\n",
       "Name             object\n",
       "Transported        bool\n",
       "dtype: object"
      ]
     },
     "execution_count": 7,
     "metadata": {},
     "output_type": "execute_result"
    }
   ],
   "source": [
    "train.dtypes"
   ]
  },
  {
   "cell_type": "code",
   "execution_count": 8,
   "id": "96f8efdd",
   "metadata": {
    "execution": {
     "iopub.execute_input": "2022-04-01T08:37:44.378945Z",
     "iopub.status.busy": "2022-04-01T08:37:44.378088Z",
     "iopub.status.idle": "2022-04-01T08:37:44.399017Z",
     "shell.execute_reply": "2022-04-01T08:37:44.399583Z",
     "shell.execute_reply.started": "2022-04-01T08:20:07.489008Z"
    },
    "papermill": {
     "duration": 0.040495,
     "end_time": "2022-04-01T08:37:44.399746",
     "exception": false,
     "start_time": "2022-04-01T08:37:44.359251",
     "status": "completed"
    },
    "tags": []
   },
   "outputs": [
    {
     "data": {
      "text/plain": [
       "PassengerId     8693\n",
       "HomePlanet         3\n",
       "CryoSleep          2\n",
       "Cabin           6560\n",
       "Destination        3\n",
       "Age               80\n",
       "VIP                2\n",
       "RoomService     1273\n",
       "FoodCourt       1507\n",
       "ShoppingMall    1115\n",
       "Spa             1327\n",
       "VRDeck          1306\n",
       "Name            8473\n",
       "Transported        2\n",
       "dtype: int64"
      ]
     },
     "execution_count": 8,
     "metadata": {},
     "output_type": "execute_result"
    }
   ],
   "source": [
    "train.nunique() # unique() = 고유한 값들 찾기, nunique() = 고유한 값 들의 총 갯수, value_counts() = 고유한 값 별 데이터 수"
   ]
  },
  {
   "cell_type": "code",
   "execution_count": 9,
   "id": "338f610f",
   "metadata": {
    "execution": {
     "iopub.execute_input": "2022-04-01T08:37:44.436946Z",
     "iopub.status.busy": "2022-04-01T08:37:44.436061Z",
     "iopub.status.idle": "2022-04-01T08:37:44.446127Z",
     "shell.execute_reply": "2022-04-01T08:37:44.446539Z",
     "shell.execute_reply.started": "2022-04-01T08:24:15.155667Z"
    },
    "papermill": {
     "duration": 0.029955,
     "end_time": "2022-04-01T08:37:44.446699",
     "exception": false,
     "start_time": "2022-04-01T08:37:44.416744",
     "status": "completed"
    },
    "tags": []
   },
   "outputs": [],
   "source": [
    "train.drop(['PassengerId', 'Name', 'Cabin'], axis=1, inplace=True) # drop = 행(기본값 axis=0)/ 렬(axis=1) 을 없앨 수 있음. inplace = 없앤 뒤의 데이터로 저장을 할 것인가? True= 저장, False= 기존값을 출력\n",
    "test.drop(['PassengerId', 'Name', 'Cabin'], axis=1, inplace=True)"
   ]
  },
  {
   "cell_type": "code",
   "execution_count": 10,
   "id": "83466af4",
   "metadata": {
    "execution": {
     "iopub.execute_input": "2022-04-01T08:37:44.483262Z",
     "iopub.status.busy": "2022-04-01T08:37:44.482424Z",
     "iopub.status.idle": "2022-04-01T08:37:44.491169Z",
     "shell.execute_reply": "2022-04-01T08:37:44.491600Z",
     "shell.execute_reply.started": "2022-04-01T08:24:24.929727Z"
    },
    "papermill": {
     "duration": 0.028297,
     "end_time": "2022-04-01T08:37:44.491752",
     "exception": false,
     "start_time": "2022-04-01T08:37:44.463455",
     "status": "completed"
    },
    "tags": []
   },
   "outputs": [
    {
     "data": {
      "text/plain": [
       "HomePlanet      201\n",
       "CryoSleep       217\n",
       "Destination     182\n",
       "Age             179\n",
       "VIP             203\n",
       "RoomService     181\n",
       "FoodCourt       183\n",
       "ShoppingMall    208\n",
       "Spa             183\n",
       "VRDeck          188\n",
       "Transported       0\n",
       "dtype: int64"
      ]
     },
     "execution_count": 10,
     "metadata": {},
     "output_type": "execute_result"
    }
   ],
   "source": [
    "train.isnull().sum()  # 훈련 데이터에서 각 항목별 결측치가 얼마나 있는지 확인"
   ]
  },
  {
   "cell_type": "code",
   "execution_count": 11,
   "id": "83d82f87",
   "metadata": {
    "execution": {
     "iopub.execute_input": "2022-04-01T08:37:44.531403Z",
     "iopub.status.busy": "2022-04-01T08:37:44.530831Z",
     "iopub.status.idle": "2022-04-01T08:37:44.560348Z",
     "shell.execute_reply": "2022-04-01T08:37:44.560786Z",
     "shell.execute_reply.started": "2022-04-01T08:26:59.261992Z"
    },
    "papermill": {
     "duration": 0.052449,
     "end_time": "2022-04-01T08:37:44.560949",
     "exception": false,
     "start_time": "2022-04-01T08:37:44.508500",
     "status": "completed"
    },
    "tags": []
   },
   "outputs": [
    {
     "data": {
      "text/html": [
       "<div>\n",
       "<style scoped>\n",
       "    .dataframe tbody tr th:only-of-type {\n",
       "        vertical-align: middle;\n",
       "    }\n",
       "\n",
       "    .dataframe tbody tr th {\n",
       "        vertical-align: top;\n",
       "    }\n",
       "\n",
       "    .dataframe thead th {\n",
       "        text-align: right;\n",
       "    }\n",
       "</style>\n",
       "<table border=\"1\" class=\"dataframe\">\n",
       "  <thead>\n",
       "    <tr style=\"text-align: right;\">\n",
       "      <th></th>\n",
       "      <th>count</th>\n",
       "      <th>mean</th>\n",
       "      <th>std</th>\n",
       "      <th>min</th>\n",
       "      <th>25%</th>\n",
       "      <th>50%</th>\n",
       "      <th>75%</th>\n",
       "      <th>max</th>\n",
       "    </tr>\n",
       "  </thead>\n",
       "  <tbody>\n",
       "    <tr>\n",
       "      <th>Age</th>\n",
       "      <td>8514.0</td>\n",
       "      <td>28.827930</td>\n",
       "      <td>14.489021</td>\n",
       "      <td>0.0</td>\n",
       "      <td>19.0</td>\n",
       "      <td>27.0</td>\n",
       "      <td>38.0</td>\n",
       "      <td>79.0</td>\n",
       "    </tr>\n",
       "    <tr>\n",
       "      <th>RoomService</th>\n",
       "      <td>8512.0</td>\n",
       "      <td>224.687617</td>\n",
       "      <td>666.717663</td>\n",
       "      <td>0.0</td>\n",
       "      <td>0.0</td>\n",
       "      <td>0.0</td>\n",
       "      <td>47.0</td>\n",
       "      <td>14327.0</td>\n",
       "    </tr>\n",
       "    <tr>\n",
       "      <th>FoodCourt</th>\n",
       "      <td>8510.0</td>\n",
       "      <td>458.077203</td>\n",
       "      <td>1611.489240</td>\n",
       "      <td>0.0</td>\n",
       "      <td>0.0</td>\n",
       "      <td>0.0</td>\n",
       "      <td>76.0</td>\n",
       "      <td>29813.0</td>\n",
       "    </tr>\n",
       "    <tr>\n",
       "      <th>ShoppingMall</th>\n",
       "      <td>8485.0</td>\n",
       "      <td>173.729169</td>\n",
       "      <td>604.696458</td>\n",
       "      <td>0.0</td>\n",
       "      <td>0.0</td>\n",
       "      <td>0.0</td>\n",
       "      <td>27.0</td>\n",
       "      <td>23492.0</td>\n",
       "    </tr>\n",
       "    <tr>\n",
       "      <th>Spa</th>\n",
       "      <td>8510.0</td>\n",
       "      <td>311.138778</td>\n",
       "      <td>1136.705535</td>\n",
       "      <td>0.0</td>\n",
       "      <td>0.0</td>\n",
       "      <td>0.0</td>\n",
       "      <td>59.0</td>\n",
       "      <td>22408.0</td>\n",
       "    </tr>\n",
       "    <tr>\n",
       "      <th>VRDeck</th>\n",
       "      <td>8505.0</td>\n",
       "      <td>304.854791</td>\n",
       "      <td>1145.717189</td>\n",
       "      <td>0.0</td>\n",
       "      <td>0.0</td>\n",
       "      <td>0.0</td>\n",
       "      <td>46.0</td>\n",
       "      <td>24133.0</td>\n",
       "    </tr>\n",
       "  </tbody>\n",
       "</table>\n",
       "</div>"
      ],
      "text/plain": [
       "               count        mean          std  min   25%   50%   75%      max\n",
       "Age           8514.0   28.827930    14.489021  0.0  19.0  27.0  38.0     79.0\n",
       "RoomService   8512.0  224.687617   666.717663  0.0   0.0   0.0  47.0  14327.0\n",
       "FoodCourt     8510.0  458.077203  1611.489240  0.0   0.0   0.0  76.0  29813.0\n",
       "ShoppingMall  8485.0  173.729169   604.696458  0.0   0.0   0.0  27.0  23492.0\n",
       "Spa           8510.0  311.138778  1136.705535  0.0   0.0   0.0  59.0  22408.0\n",
       "VRDeck        8505.0  304.854791  1145.717189  0.0   0.0   0.0  46.0  24133.0"
      ]
     },
     "execution_count": 11,
     "metadata": {},
     "output_type": "execute_result"
    }
   ],
   "source": [
    "train.describe().T # T = 행렬 위치 변환"
   ]
  },
  {
   "cell_type": "code",
   "execution_count": 12,
   "id": "516319e6",
   "metadata": {
    "execution": {
     "iopub.execute_input": "2022-04-01T08:37:44.599035Z",
     "iopub.status.busy": "2022-04-01T08:37:44.598157Z",
     "iopub.status.idle": "2022-04-01T08:37:44.609798Z",
     "shell.execute_reply": "2022-04-01T08:37:44.610194Z",
     "shell.execute_reply.started": "2022-04-01T08:28:08.882540Z"
    },
    "papermill": {
     "duration": 0.032033,
     "end_time": "2022-04-01T08:37:44.610344",
     "exception": false,
     "start_time": "2022-04-01T08:37:44.578311",
     "status": "completed"
    },
    "tags": []
   },
   "outputs": [],
   "source": [
    "train['HomePlanet'].replace(np.nan,'missing',inplace=True) # 각 항목별 결측치를 missing 이라는 값으로 출력하도록 한다.\n",
    "train['CryoSleep'].replace(np.nan,'missing',inplace=True)\n",
    "train['Destination'].replace(np.nan,'missing',inplace=True)\n",
    "train['VIP'].replace(np.nan,'missing',inplace=True)\n",
    "\n",
    "test['HomePlanet'].replace(np.nan,'missing',inplace=True)\n",
    "test['CryoSleep'].replace(np.nan,'missing',inplace=True)\n",
    "test['Destination'].replace(np.nan,'missing',inplace=True)\n",
    "test['VIP'].replace(np.nan,'missing',inplace=True) "
   ]
  },
  {
   "cell_type": "code",
   "execution_count": 13,
   "id": "fdf898a2",
   "metadata": {
    "execution": {
     "iopub.execute_input": "2022-04-01T08:37:44.648241Z",
     "iopub.status.busy": "2022-04-01T08:37:44.647416Z",
     "iopub.status.idle": "2022-04-01T08:37:44.654761Z",
     "shell.execute_reply": "2022-04-01T08:37:44.655180Z",
     "shell.execute_reply.started": "2022-04-01T08:29:43.430522Z"
    },
    "papermill": {
     "duration": 0.027551,
     "end_time": "2022-04-01T08:37:44.655322",
     "exception": false,
     "start_time": "2022-04-01T08:37:44.627771",
     "status": "completed"
    },
    "tags": []
   },
   "outputs": [
    {
     "data": {
      "text/plain": [
       "0    24.0\n",
       "dtype: float64"
      ]
     },
     "execution_count": 13,
     "metadata": {},
     "output_type": "execute_result"
    }
   ],
   "source": [
    "train['Age'].mode() # mode = 최빈값, Age 항목의 최빈값을 확인한다."
   ]
  },
  {
   "cell_type": "code",
   "execution_count": 14,
   "id": "41c9ec52",
   "metadata": {
    "execution": {
     "iopub.execute_input": "2022-04-01T08:37:44.699543Z",
     "iopub.status.busy": "2022-04-01T08:37:44.698625Z",
     "iopub.status.idle": "2022-04-01T08:37:44.705166Z",
     "shell.execute_reply": "2022-04-01T08:37:44.705610Z",
     "shell.execute_reply.started": "2022-04-01T08:34:04.764441Z"
    },
    "papermill": {
     "duration": 0.032855,
     "end_time": "2022-04-01T08:37:44.705769",
     "exception": false,
     "start_time": "2022-04-01T08:37:44.672914",
     "status": "completed"
    },
    "tags": []
   },
   "outputs": [],
   "source": [
    "train['RoomService'].fillna(train['RoomService'].mean(),inplace=True)\n",
    "train['FoodCourt'].fillna(train['FoodCourt'].mean(),inplace=True)\n",
    "train['ShoppingMall'].fillna(train['ShoppingMall'].mean(),inplace=True)\n",
    "train['Spa'].fillna(train['Spa'].mean(),inplace=True)\n",
    "train['VRDeck'].fillna(train['VRDeck'].mean(),inplace=True)\n",
    "train['Age'].replace(np.nan,24.0,inplace=True)\n",
    "\n",
    "test['RoomService'].fillna(test['RoomService'].mean(),inplace=True)\n",
    "test['FoodCourt'].fillna(test['FoodCourt'].mean(),inplace=True)\n",
    "test['ShoppingMall'].fillna(test['ShoppingMall'].mean(),inplace=True)\n",
    "test['Spa'].fillna(test['Spa'].mean(),inplace=True)\n",
    "test['VRDeck'].fillna(test['VRDeck'].mean(),inplace=True)\n",
    "test['Age'].replace(np.nan,24.0,inplace=True)     # 결측치들을 각각의 값들의 최빈값을 바꾼다."
   ]
  },
  {
   "cell_type": "code",
   "execution_count": 15,
   "id": "2627ce03",
   "metadata": {
    "execution": {
     "iopub.execute_input": "2022-04-01T08:37:44.745945Z",
     "iopub.status.busy": "2022-04-01T08:37:44.745346Z",
     "iopub.status.idle": "2022-04-01T08:37:44.752961Z",
     "shell.execute_reply": "2022-04-01T08:37:44.753495Z",
     "shell.execute_reply.started": "2022-04-01T08:34:18.184917Z"
    },
    "papermill": {
     "duration": 0.029845,
     "end_time": "2022-04-01T08:37:44.753648",
     "exception": false,
     "start_time": "2022-04-01T08:37:44.723803",
     "status": "completed"
    },
    "tags": []
   },
   "outputs": [
    {
     "data": {
      "text/plain": [
       "HomePlanet      0\n",
       "CryoSleep       0\n",
       "Destination     0\n",
       "Age             0\n",
       "VIP             0\n",
       "RoomService     0\n",
       "FoodCourt       0\n",
       "ShoppingMall    0\n",
       "Spa             0\n",
       "VRDeck          0\n",
       "Transported     0\n",
       "dtype: int64"
      ]
     },
     "execution_count": 15,
     "metadata": {},
     "output_type": "execute_result"
    }
   ],
   "source": [
    "train.isnull().sum() # 결측치가 모두 제거 되었는지 확인"
   ]
  },
  {
   "cell_type": "markdown",
   "id": "c12fb40a",
   "metadata": {
    "papermill": {
     "duration": 0.018165,
     "end_time": "2022-04-01T08:37:44.790095",
     "exception": false,
     "start_time": "2022-04-01T08:37:44.771930",
     "status": "completed"
    },
    "tags": []
   },
   "source": [
    "# 데이터 시각화"
   ]
  },
  {
   "cell_type": "code",
   "execution_count": 16,
   "id": "8e030386",
   "metadata": {
    "execution": {
     "iopub.execute_input": "2022-04-01T08:37:44.830425Z",
     "iopub.status.busy": "2022-04-01T08:37:44.829843Z",
     "iopub.status.idle": "2022-04-01T08:37:45.007855Z",
     "shell.execute_reply": "2022-04-01T08:37:45.008276Z",
     "shell.execute_reply.started": "2022-04-01T08:35:22.983874Z"
    },
    "papermill": {
     "duration": 0.199524,
     "end_time": "2022-04-01T08:37:45.008452",
     "exception": false,
     "start_time": "2022-04-01T08:37:44.808928",
     "status": "completed"
    },
    "tags": []
   },
   "outputs": [
    {
     "data": {
      "text/html": [
       "        <script type=\"text/javascript\">\n",
       "        window.PlotlyConfig = {MathJaxConfig: 'local'};\n",
       "        if (window.MathJax) {MathJax.Hub.Config({SVG: {font: \"STIX-Web\"}});}\n",
       "        if (typeof require !== 'undefined') {\n",
       "        require.undef(\"plotly\");\n",
       "        requirejs.config({\n",
       "            paths: {\n",
       "                'plotly': ['https://cdn.plot.ly/plotly-2.9.0.min']\n",
       "            }\n",
       "        });\n",
       "        require(['plotly'], function(Plotly) {\n",
       "            window._Plotly = Plotly;\n",
       "        });\n",
       "        }\n",
       "        </script>\n",
       "        "
      ]
     },
     "metadata": {},
     "output_type": "display_data"
    },
    {
     "data": {
      "text/html": [
       "<div>                            <div id=\"7d1f9518-cbb0-46e3-b2e4-07da68b86e28\" class=\"plotly-graph-div\" style=\"height:525px; width:100%;\"></div>            <script type=\"text/javascript\">                require([\"plotly\"], function(Plotly) {                    window.PLOTLYENV=window.PLOTLYENV || {};                                    if (document.getElementById(\"7d1f9518-cbb0-46e3-b2e4-07da68b86e28\")) {                    Plotly.newPlot(                        \"7d1f9518-cbb0-46e3-b2e4-07da68b86e28\",                        [{\"hole\":0.4,\"labels\":[\"Europa\",\"Earth\",\"Europa\",\"Europa\",\"Earth\",\"Earth\",\"Earth\",\"Earth\",\"Earth\",\"Europa\",\"Europa\",\"Europa\",\"Mars\",\"Earth\",\"Earth\",\"Earth\",\"Mars\",\"Earth\",\"Mars\",\"Earth\",\"Earth\",\"Earth\",\"Earth\",\"Earth\",\"Earth\",\"Earth\",\"Earth\",\"Mars\",\"Europa\",\"Earth\",\"Europa\",\"Mars\",\"Earth\",\"Mars\",\"Mars\",\"Mars\",\"Europa\",\"Mars\",\"Earth\",\"Earth\",\"Earth\",\"Earth\",\"Europa\",\"Earth\",\"Earth\",\"Earth\",\"Mars\",\"Mars\",\"Earth\",\"Earth\",\"Earth\",\"Earth\",\"Europa\",\"Europa\",\"Europa\",\"Earth\",\"Earth\",\"Earth\",\"Mars\",\"missing\",\"Earth\",\"Earth\",\"Earth\",\"Earth\",\"Mars\",\"Earth\",\"Earth\",\"Earth\",\"Earth\",\"Mars\",\"Europa\",\"Mars\",\"Mars\",\"Europa\",\"Earth\",\"Mars\",\"Mars\",\"Mars\",\"Earth\",\"Europa\",\"Earth\",\"Mars\",\"Earth\",\"Earth\",\"Earth\",\"Earth\",\"Earth\",\"Earth\",\"Europa\",\"Earth\",\"Earth\",\"Earth\",\"Earth\",\"Mars\",\"Earth\",\"Earth\",\"Earth\",\"Earth\",\"Earth\",\"Mars\",\"Earth\",\"Earth\",\"Earth\",\"Europa\",\"Europa\",\"Europa\",\"Europa\",\"Europa\",\"Europa\",\"Earth\",\"Earth\",\"Mars\",\"Europa\",\"missing\",\"Europa\",\"Mars\",\"Earth\",\"Earth\",\"Mars\",\"Mars\",\"Mars\",\"Mars\",\"Earth\",\"Mars\",\"Mars\",\"Earth\",\"Earth\",\"Earth\",\"Earth\",\"Europa\",\"Earth\",\"Earth\",\"Mars\",\"Earth\",\"Earth\",\"Earth\",\"Mars\",\"Earth\",\"Earth\",\"Earth\",\"Earth\",\"Europa\",\"Europa\",\"Earth\",\"Earth\",\"Mars\",\"Mars\",\"Mars\",\"Earth\",\"Earth\",\"Earth\",\"Earth\",\"Earth\",\"Earth\",\"Europa\",\"Mars\",\"Earth\",\"Earth\",\"Earth\",\"Earth\",\"Europa\",\"Earth\",\"Earth\",\"Earth\",\"Earth\",\"Earth\",\"Earth\",\"Earth\",\"Earth\",\"Mars\",\"Mars\",\"Mars\",\"Mars\",\"Mars\",\"Europa\",\"Earth\",\"Earth\",\"Earth\",\"Europa\",\"Europa\",\"Europa\",\"Europa\",\"Europa\",\"Earth\",\"Europa\",\"Earth\",\"missing\",\"Mars\",\"Mars\",\"Mars\",\"Earth\",\"Earth\",\"Earth\",\"Earth\",\"Earth\",\"Earth\",\"Earth\",\"Earth\",\"Earth\",\"Earth\",\"Earth\",\"Earth\",\"Earth\",\"Mars\",\"Mars\",\"Mars\",\"Mars\",\"Mars\",\"Mars\",\"Mars\",\"Mars\",\"Mars\",\"Mars\",\"Earth\",\"Mars\",\"Earth\",\"Earth\",\"Mars\",\"Earth\",\"Mars\",\"Earth\",\"Europa\",\"Mars\",\"Mars\",\"Europa\",\"missing\",\"Earth\",\"Mars\",\"Mars\",\"Europa\",\"Europa\",\"Mars\",\"Europa\",\"Earth\",\"missing\",\"Earth\",\"Earth\",\"Earth\",\"Europa\",\"Mars\",\"Mars\",\"Earth\",\"Europa\",\"Earth\",\"Earth\",\"Europa\",\"Earth\",\"Earth\",\"Earth\",\"Europa\",\"Earth\",\"Earth\",\"Earth\",\"Earth\",\"Earth\",\"Earth\",\"Earth\",\"Europa\",\"Europa\",\"Earth\",\"Europa\",\"Europa\",\"Earth\",\"Europa\",\"Europa\",\"Europa\",\"Europa\",\"Europa\",\"Europa\",\"Europa\",\"Earth\",\"Europa\",\"Earth\",\"Earth\",\"missing\",\"Europa\",\"Europa\",\"Earth\",\"Earth\",\"Earth\",\"Europa\",\"Earth\",\"Earth\",\"Earth\",\"Earth\",\"Earth\",\"missing\",\"Europa\",\"Europa\",\"Earth\",\"Earth\",\"missing\",\"Earth\",\"Earth\",\"Earth\",\"Earth\",\"Europa\",\"Europa\",\"Europa\",\"Earth\",\"Mars\",\"Mars\",\"Earth\",\"Mars\",\"Mars\",\"Mars\",\"Earth\",\"Europa\",\"Earth\",\"Earth\",\"Mars\",\"Earth\",\"Mars\",\"Mars\",\"Mars\",\"Earth\",\"Mars\",\"Earth\",\"Europa\",\"Earth\",\"Earth\",\"Earth\",\"Earth\",\"Earth\",\"Earth\",\"Earth\",\"Mars\",\"Mars\",\"Earth\",\"Earth\",\"Mars\",\"Earth\",\"Earth\",\"Earth\",\"Earth\",\"Europa\",\"Europa\",\"Europa\",\"Europa\",\"Europa\",\"Europa\",\"Europa\",\"Europa\",\"Earth\",\"Europa\",\"Europa\",\"Europa\",\"missing\",\"Earth\",\"Earth\",\"Earth\",\"Earth\",\"Earth\",\"Earth\",\"Earth\",\"Earth\",\"Europa\",\"Earth\",\"Europa\",\"Europa\",\"Earth\",\"Mars\",\"Mars\",\"Mars\",\"Mars\",\"missing\",\"Mars\",\"Earth\",\"Earth\",\"Earth\",\"Earth\",\"Mars\",\"Mars\",\"Earth\",\"Earth\",\"Europa\",\"Earth\",\"Earth\",\"Europa\",\"Europa\",\"Europa\",\"Europa\",\"Mars\",\"Mars\",\"Mars\",\"Europa\",\"Europa\",\"Europa\",\"Europa\",\"Earth\",\"Mars\",\"Mars\",\"Europa\",\"Europa\",\"Mars\",\"Earth\",\"Earth\",\"Earth\",\"Earth\",\"Earth\",\"Europa\",\"Europa\",\"Earth\",\"Earth\",\"Mars\",\"missing\",\"Earth\",\"missing\",\"Europa\",\"Earth\",\"Earth\",\"Earth\",\"Earth\",\"Mars\",\"Europa\",\"Europa\",\"Europa\",\"Europa\",\"Europa\",\"Europa\",\"Earth\",\"Earth\",\"Earth\",\"Earth\",\"Europa\",\"Earth\",\"Earth\",\"Earth\",\"Earth\",\"Earth\",\"Earth\",\"Mars\",\"Mars\",\"Earth\",\"Earth\",\"Earth\",\"Earth\",\"Mars\",\"missing\",\"Europa\",\"Europa\",\"Earth\",\"Earth\",\"Earth\",\"Mars\",\"Mars\",\"Mars\",\"Earth\",\"Earth\",\"Earth\",\"Earth\",\"Earth\",\"Europa\",\"Europa\",\"Earth\",\"Earth\",\"Europa\",\"Europa\",\"Mars\",\"Mars\",\"Mars\",\"Europa\",\"Mars\",\"Mars\",\"Mars\",\"Mars\",\"Europa\",\"Europa\",\"Europa\",\"Europa\",\"Europa\",\"missing\",\"Mars\",\"Earth\",\"Europa\",\"Europa\",\"Europa\",\"Earth\",\"Europa\",\"Europa\",\"Earth\",\"missing\",\"Earth\",\"Earth\",\"Earth\",\"Earth\",\"Earth\",\"Earth\",\"Mars\",\"Mars\",\"Europa\",\"Earth\",\"Earth\",\"Earth\",\"Mars\",\"Europa\",\"Europa\",\"Earth\",\"Earth\",\"Europa\",\"Europa\",\"missing\",\"Europa\",\"Europa\",\"Mars\",\"missing\",\"Earth\",\"Earth\",\"Earth\",\"Earth\",\"Earth\",\"Mars\",\"Mars\",\"Earth\",\"Earth\",\"Europa\",\"Europa\",\"Europa\",\"Europa\",\"Europa\",\"Earth\",\"Earth\",\"Earth\",\"Earth\",\"missing\",\"Earth\",\"Mars\",\"Europa\",\"Europa\",\"Europa\",\"Mars\",\"Mars\",\"Earth\",\"Europa\",\"Europa\",\"Earth\",\"Europa\",\"Europa\",\"Europa\",\"Europa\",\"Europa\",\"Europa\",\"Europa\",\"Europa\",\"Earth\",\"Earth\",\"Europa\",\"Earth\",\"Earth\",\"Earth\",\"Earth\",\"Earth\",\"Earth\",\"Mars\",\"Mars\",\"Mars\",\"Mars\",\"Mars\",\"Mars\",\"Mars\",\"Europa\",\"Mars\",\"Earth\",\"Earth\",\"Earth\",\"Earth\",\"Mars\",\"Earth\",\"missing\",\"Mars\",\"Earth\",\"Earth\",\"Earth\",\"Mars\",\"Mars\",\"Mars\",\"Mars\",\"Europa\",\"Mars\",\"Mars\",\"Mars\",\"Earth\",\"Europa\",\"Europa\",\"Europa\",\"Earth\",\"Mars\",\"Earth\",\"Earth\",\"Europa\",\"Earth\",\"Earth\",\"Earth\",\"Earth\",\"Earth\",\"Earth\",\"Europa\",\"Europa\",\"Earth\",\"Earth\",\"Earth\",\"Mars\",\"Mars\",\"Mars\",\"Earth\",\"Earth\",\"Earth\",\"Earth\",\"Earth\",\"Mars\",\"Europa\",\"Earth\",\"Earth\",\"Europa\",\"Europa\",\"Europa\",\"Europa\",\"Europa\",\"Mars\",\"Europa\",\"Earth\",\"Europa\",\"Mars\",\"Mars\",\"Mars\",\"Earth\",\"Mars\",\"Mars\",\"Earth\",\"Earth\",\"Earth\",\"Earth\",\"Earth\",\"Earth\",\"Europa\",\"Earth\",\"Europa\",\"missing\",\"Mars\",\"Earth\",\"Earth\",\"Earth\",\"Earth\",\"Earth\",\"Earth\",\"Earth\",\"Earth\",\"Earth\",\"Earth\",\"Earth\",\"Mars\",\"Mars\",\"Mars\",\"Mars\",\"Mars\",\"Earth\",\"Mars\",\"Mars\",\"Mars\",\"Mars\",\"Europa\",\"Mars\",\"Mars\",\"Mars\",\"Mars\",\"Europa\",\"Europa\",\"Earth\",\"Earth\",\"Mars\",\"Mars\",\"Europa\",\"Earth\",\"Earth\",\"Earth\",\"Earth\",\"Earth\",\"Europa\",\"Europa\",\"Europa\",\"Mars\",\"Mars\",\"Mars\",\"Earth\",\"Earth\",\"Earth\",\"Earth\",\"Earth\",\"Earth\",\"Earth\",\"Earth\",\"Europa\",\"Earth\",\"Mars\",\"Earth\",\"Earth\",\"Earth\",\"Earth\",\"Earth\",\"Earth\",\"Earth\",\"Earth\",\"Earth\",\"Europa\",\"Mars\",\"Europa\",\"Europa\",\"Europa\",\"Earth\",\"Earth\",\"Earth\",\"Europa\",\"Europa\",\"Europa\",\"Europa\",\"Europa\",\"Europa\",\"Europa\",\"Mars\",\"Europa\",\"Earth\",\"Earth\",\"Mars\",\"Mars\",\"Earth\",\"Europa\",\"Europa\",\"Europa\",\"Earth\",\"Earth\",\"Earth\",\"Earth\",\"Earth\",\"Earth\",\"Earth\",\"Europa\",\"Europa\",\"missing\",\"Europa\",\"Earth\",\"Earth\",\"Europa\",\"Earth\",\"Earth\",\"Mars\",\"Europa\",\"Earth\",\"Earth\",\"Earth\",\"Earth\",\"Europa\",\"Europa\",\"Europa\",\"Earth\",\"Earth\",\"Earth\",\"Mars\",\"Mars\",\"Earth\",\"Europa\",\"Earth\",\"Mars\",\"Europa\",\"Mars\",\"Europa\",\"Earth\",\"Earth\",\"Earth\",\"Mars\",\"Mars\",\"Mars\",\"Mars\",\"Mars\",\"Mars\",\"Mars\",\"Mars\",\"Earth\",\"Europa\",\"Earth\",\"Europa\",\"Earth\",\"Earth\",\"Earth\",\"Earth\",\"Earth\",\"Earth\",\"Mars\",\"Earth\",\"Earth\",\"Earth\",\"Earth\",\"Earth\",\"Earth\",\"Europa\",\"Earth\",\"Earth\",\"Mars\",\"Europa\",\"Earth\",\"Europa\",\"Earth\",\"Mars\",\"Mars\",\"Europa\",\"Europa\",\"Mars\",\"Earth\",\"missing\",\"Earth\",\"Earth\",\"Earth\",\"Earth\",\"Earth\",\"Europa\",\"Europa\",\"Earth\",\"Earth\",\"Earth\",\"Earth\",\"Europa\",\"Earth\",\"Earth\",\"Earth\",\"Earth\",\"Europa\",\"Mars\",\"Earth\",\"Europa\",\"Earth\",\"Earth\",\"Earth\",\"Europa\",\"Europa\",\"Mars\",\"Earth\",\"Earth\",\"Earth\",\"Earth\",\"Mars\",\"Earth\",\"Earth\",\"Europa\",\"Mars\",\"Earth\",\"Europa\",\"Europa\",\"Earth\",\"Mars\",\"missing\",\"Europa\",\"Europa\",\"Earth\",\"Earth\",\"Earth\",\"Earth\",\"Europa\",\"Europa\",\"Europa\",\"Europa\",\"Earth\",\"Mars\",\"Mars\",\"Mars\",\"Europa\",\"Europa\",\"Earth\",\"Earth\",\"Earth\",\"Earth\",\"Earth\",\"Mars\",\"Europa\",\"Europa\",\"Earth\",\"Earth\",\"Earth\",\"Earth\",\"Earth\",\"Earth\",\"Earth\",\"Mars\",\"Earth\",\"Earth\",\"Earth\",\"Earth\",\"Earth\",\"Earth\",\"Mars\",\"Earth\",\"Earth\",\"Earth\",\"Mars\",\"Earth\",\"Earth\",\"Europa\",\"Europa\",\"Mars\",\"Earth\",\"Earth\",\"Mars\",\"Earth\",\"Earth\",\"Earth\",\"Earth\",\"Earth\",\"Earth\",\"Europa\",\"Earth\",\"Earth\",\"Earth\",\"Earth\",\"Earth\",\"Earth\",\"Earth\",\"Earth\",\"Earth\",\"Earth\",\"Earth\",\"Earth\",\"Earth\",\"missing\",\"Earth\",\"Earth\",\"Earth\",\"Earth\",\"Europa\",\"Europa\",\"Europa\",\"Europa\",\"Europa\",\"Europa\",\"Earth\",\"Earth\",\"Earth\",\"Europa\",\"Mars\",\"Europa\",\"Mars\",\"Earth\",\"Mars\",\"Mars\",\"Mars\",\"Europa\",\"Earth\",\"Earth\",\"Earth\",\"Earth\",\"Europa\",\"Europa\",\"Earth\",\"Earth\",\"Earth\",\"Earth\",\"Mars\",\"Earth\",\"Earth\",\"Earth\",\"Earth\",\"Mars\",\"Earth\",\"Earth\",\"Earth\",\"missing\",\"Earth\",\"Earth\",\"Earth\",\"Mars\",\"Mars\",\"Mars\",\"Mars\",\"Mars\",\"Earth\",\"Earth\",\"Earth\",\"Earth\",\"Earth\",\"Mars\",\"Earth\",\"Earth\",\"Earth\",\"Europa\",\"Earth\",\"Europa\",\"Europa\",\"Earth\",\"Earth\",\"Earth\",\"Mars\",\"Mars\",\"Earth\",\"Earth\",\"Earth\",\"Earth\",\"missing\",\"Mars\",\"Europa\",\"Earth\",\"Earth\",\"Earth\",\"missing\",\"Europa\",\"Mars\",\"Mars\",\"Earth\",\"missing\",\"Europa\",\"Europa\",\"Earth\",\"Earth\",\"Earth\",\"Earth\",\"Mars\",\"Mars\",\"Mars\",\"Mars\",\"Mars\",\"Earth\",\"Earth\",\"Earth\",\"Earth\",\"Earth\",\"Earth\",\"Earth\",\"Earth\",\"missing\",\"Europa\",\"Mars\",\"Mars\",\"Earth\",\"Europa\",\"Earth\",\"Mars\",\"Earth\",\"Mars\",\"Mars\",\"Mars\",\"Mars\",\"Mars\",\"Earth\",\"Mars\",\"Mars\",\"Europa\",\"Europa\",\"Europa\",\"Earth\",\"Mars\",\"Mars\",\"Earth\",\"Earth\",\"Earth\",\"Earth\",\"Earth\",\"Earth\",\"Europa\",\"Europa\",\"Earth\",\"Mars\",\"Mars\",\"Earth\",\"Mars\",\"Europa\",\"Earth\",\"Europa\",\"Europa\",\"Europa\",\"Earth\",\"Earth\",\"Earth\",\"Earth\",\"Earth\",\"Earth\",\"Europa\",\"Europa\",\"Europa\",\"Europa\",\"Europa\",\"Europa\",\"Europa\",\"Europa\",\"Earth\",\"Earth\",\"Earth\",\"Earth\",\"Earth\",\"Earth\",\"Mars\",\"Earth\",\"Europa\",\"Europa\",\"Europa\",\"Earth\",\"Earth\",\"Europa\",\"Europa\",\"Europa\",\"Europa\",\"Europa\",\"Earth\",\"Europa\",\"Europa\",\"Europa\",\"Europa\",\"Europa\",\"Mars\",\"Earth\",\"Mars\",\"Earth\",\"Earth\",\"Earth\",\"Mars\",\"Europa\",\"Earth\",\"Europa\",\"Earth\",\"Mars\",\"Mars\",\"Mars\",\"Mars\",\"Earth\",\"Earth\",\"Earth\",\"Earth\",\"Earth\",\"Earth\",\"Earth\",\"Earth\",\"Europa\",\"Earth\",\"Earth\",\"Earth\",\"Europa\",\"Europa\",\"Earth\",\"Europa\",\"Mars\",\"Earth\",\"Europa\",\"Earth\",\"Earth\",\"Earth\",\"Earth\",\"Earth\",\"Earth\",\"Earth\",\"Earth\",\"Earth\",\"Earth\",\"Earth\",\"Earth\",\"Earth\",\"Earth\",\"Earth\",\"Earth\",\"Earth\",\"Europa\",\"Earth\",\"Earth\",\"Earth\",\"Europa\",\"Earth\",\"Mars\",\"Mars\",\"Earth\",\"Earth\",\"Mars\",\"Europa\",\"Europa\",\"Earth\",\"Earth\",\"Earth\",\"Earth\",\"Europa\",\"Europa\",\"Earth\",\"Earth\",\"Europa\",\"Europa\",\"Europa\",\"Earth\",\"Earth\",\"Earth\",\"Mars\",\"Mars\",\"Mars\",\"Mars\",\"Mars\",\"Europa\",\"Earth\",\"Earth\",\"Europa\",\"Mars\",\"Earth\",\"Earth\",\"Mars\",\"Earth\",\"Earth\",\"Earth\",\"Earth\",\"Europa\",\"Earth\",\"Earth\",\"Earth\",\"Earth\",\"Mars\",\"Earth\",\"Mars\",\"Mars\",\"Mars\",\"Mars\",\"Earth\",\"Earth\",\"Earth\",\"Mars\",\"Europa\",\"Europa\",\"Earth\",\"Europa\",\"Europa\",\"Europa\",\"Earth\",\"Earth\",\"Earth\",\"Mars\",\"Earth\",\"Earth\",\"Earth\",\"Earth\",\"Earth\",\"Earth\",\"Europa\",\"Europa\",\"Earth\",\"Europa\",\"Europa\",\"Europa\",\"Europa\",\"Earth\",\"Europa\",\"Mars\",\"Mars\",\"Mars\",\"Earth\",\"Europa\",\"Europa\",\"Mars\",\"Earth\",\"Earth\",\"Earth\",\"Earth\",\"Earth\",\"Earth\",\"Earth\",\"Earth\",\"Mars\",\"Mars\",\"Earth\",\"Mars\",\"Mars\",\"Earth\",\"Earth\",\"Earth\",\"Earth\",\"Earth\",\"Earth\",\"Earth\",\"Earth\",\"Earth\",\"missing\",\"Europa\",\"Europa\",\"Earth\",\"Earth\",\"Earth\",\"Earth\",\"Earth\",\"Mars\",\"Mars\",\"Mars\",\"Mars\",\"Mars\",\"Earth\",\"Earth\",\"Mars\",\"Earth\",\"Earth\",\"Europa\",\"Europa\",\"Earth\",\"Earth\",\"Earth\",\"Mars\",\"Earth\",\"Earth\",\"Earth\",\"Europa\",\"Earth\",\"Earth\",\"Earth\",\"Europa\",\"Earth\",\"Earth\",\"Europa\",\"Earth\",\"Earth\",\"Earth\",\"Earth\",\"Earth\",\"missing\",\"Earth\",\"Mars\",\"Earth\",\"Earth\",\"Mars\",\"Mars\",\"Mars\",\"Mars\",\"Mars\",\"Earth\",\"Earth\",\"Earth\",\"Earth\",\"Earth\",\"Earth\",\"Earth\",\"Earth\",\"Earth\",\"Europa\",\"Europa\",\"Mars\",\"Earth\",\"Earth\",\"Earth\",\"Earth\",\"Earth\",\"Earth\",\"Earth\",\"Europa\",\"Earth\",\"Europa\",\"Mars\",\"Mars\",\"Mars\",\"Mars\",\"Europa\",\"Europa\",\"Europa\",\"Europa\",\"Europa\",\"Europa\",\"Europa\",\"Europa\",\"Earth\",\"Earth\",\"Earth\",\"Europa\",\"Mars\",\"Mars\",\"Earth\",\"Earth\",\"Earth\",\"Earth\",\"Earth\",\"Earth\",\"Earth\",\"Earth\",\"Earth\",\"Mars\",\"Mars\",\"Earth\",\"Earth\",\"Earth\",\"Europa\",\"Earth\",\"Earth\",\"Europa\",\"Europa\",\"Europa\",\"Europa\",\"Europa\",\"Europa\",\"Europa\",\"Europa\",\"Europa\",\"Earth\",\"Earth\",\"Europa\",\"Europa\",\"Europa\",\"Europa\",\"Europa\",\"Europa\",\"Earth\",\"missing\",\"Earth\",\"Earth\",\"Earth\",\"Earth\",\"Earth\",\"Earth\",\"missing\",\"Mars\",\"Earth\",\"Earth\",\"Mars\",\"Mars\",\"Earth\",\"Mars\",\"Mars\",\"Earth\",\"Europa\",\"Earth\",\"Earth\",\"Earth\",\"Earth\",\"Earth\",\"Earth\",\"Earth\",\"Earth\",\"Earth\",\"Earth\",\"Earth\",\"Earth\",\"Earth\",\"Earth\",\"Mars\",\"Mars\",\"Earth\",\"Earth\",\"Earth\",\"Earth\",\"Earth\",\"Mars\",\"Mars\",\"Europa\",\"Europa\",\"Europa\",\"Europa\",\"Earth\",\"Earth\",\"Mars\",\"Europa\",\"Europa\",\"Earth\",\"Mars\",\"Earth\",\"Europa\",\"Europa\",\"Mars\",\"Europa\",\"Europa\",\"Earth\",\"Europa\",\"Earth\",\"Mars\",\"Europa\",\"Europa\",\"Europa\",\"Europa\",\"Earth\",\"Mars\",\"Europa\",\"Earth\",\"Mars\",\"Earth\",\"Europa\",\"Europa\",\"Europa\",\"Europa\",\"Europa\",\"Earth\",\"Europa\",\"Earth\",\"Earth\",\"Earth\",\"Earth\",\"Mars\",\"Earth\",\"Europa\",\"Earth\",\"Earth\",\"Mars\",\"Earth\",\"Earth\",\"Mars\",\"Mars\",\"Earth\",\"Earth\",\"Earth\",\"Earth\",\"Earth\",\"Mars\",\"Mars\",\"Earth\",\"Earth\",\"Earth\",\"Europa\",\"Europa\",\"Europa\",\"Europa\",\"Europa\",\"Europa\",\"Earth\",\"Earth\",\"Europa\",\"Europa\",\"Earth\",\"Europa\",\"Europa\",\"Earth\",\"Earth\",\"Earth\",\"Earth\",\"Earth\",\"Earth\",\"Europa\",\"Earth\",\"Earth\",\"Europa\",\"Europa\",\"Earth\",\"Mars\",\"Earth\",\"Earth\",\"Earth\",\"Mars\",\"Earth\",\"Earth\",\"Earth\",\"Mars\",\"Earth\",\"Earth\",\"Earth\",\"Europa\",\"Europa\",\"Earth\",\"Europa\",\"Earth\",\"Earth\",\"Earth\",\"Earth\",\"Europa\",\"Earth\",\"Earth\",\"Earth\",\"Earth\",\"Earth\",\"Earth\",\"Earth\",\"Earth\",\"Earth\",\"missing\",\"Earth\",\"Earth\",\"Earth\",\"Earth\",\"Earth\",\"Earth\",\"Earth\",\"Europa\",\"Earth\",\"Earth\",\"Earth\",\"Earth\",\"Mars\",\"Earth\",\"Earth\",\"Europa\",\"Europa\",\"Europa\",\"Europa\",\"Earth\",\"Earth\",\"Europa\",\"Earth\",\"Mars\",\"Mars\",\"Mars\",\"Earth\",\"Earth\",\"Europa\",\"Earth\",\"Earth\",\"Earth\",\"Earth\",\"Earth\",\"Earth\",\"Mars\",\"Earth\",\"Earth\",\"Earth\",\"Mars\",\"Earth\",\"Earth\",\"Earth\",\"Earth\",\"Mars\",\"Earth\",\"Earth\",\"Europa\",\"Earth\",\"missing\",\"Earth\",\"Europa\",\"Europa\",\"Mars\",\"Mars\",\"Mars\",\"Earth\",\"Mars\",\"Mars\",\"Mars\",\"Mars\",\"Mars\",\"Mars\",\"Mars\",\"Earth\",\"Earth\",\"Mars\",\"Mars\",\"Earth\",\"Earth\",\"Earth\",\"Earth\",\"Earth\",\"Earth\",\"Earth\",\"Earth\",\"Earth\",\"Europa\",\"Earth\",\"Mars\",\"Mars\",\"Earth\",\"Earth\",\"Earth\",\"Earth\",\"Earth\",\"Earth\",\"Earth\",\"Earth\",\"Earth\",\"Earth\",\"Earth\",\"Earth\",\"Mars\",\"Europa\",\"Mars\",\"Earth\",\"Earth\",\"Earth\",\"Earth\",\"Earth\",\"Earth\",\"Earth\",\"Earth\",\"Earth\",\"Earth\",\"Earth\",\"Earth\",\"Earth\",\"Earth\",\"Europa\",\"Mars\",\"Mars\",\"Earth\",\"Europa\",\"Europa\",\"Europa\",\"Europa\",\"Earth\",\"Mars\",\"Europa\",\"Earth\",\"Mars\",\"Mars\",\"Earth\",\"Earth\",\"Earth\",\"Earth\",\"Europa\",\"Earth\",\"Earth\",\"Earth\",\"Earth\",\"Mars\",\"Earth\",\"Mars\",\"Europa\",\"Europa\",\"Earth\",\"Earth\",\"Earth\",\"Earth\",\"Earth\",\"Earth\",\"Earth\",\"Earth\",\"Earth\",\"Mars\",\"Earth\",\"Mars\",\"Europa\",\"Earth\",\"Mars\",\"Earth\",\"Earth\",\"missing\",\"Earth\",\"Europa\",\"Europa\",\"Earth\",\"Earth\",\"Earth\",\"Earth\",\"missing\",\"Earth\",\"Earth\",\"Earth\",\"Europa\",\"Europa\",\"Europa\",\"Europa\",\"Europa\",\"Europa\",\"Earth\",\"Europa\",\"Mars\",\"Earth\",\"Earth\",\"Europa\",\"Earth\",\"Earth\",\"Earth\",\"Earth\",\"Earth\",\"Earth\",\"Earth\",\"Earth\",\"Earth\",\"Earth\",\"Europa\",\"Earth\",\"Earth\",\"Earth\",\"Mars\",\"Mars\",\"Europa\",\"Europa\",\"Mars\",\"Mars\",\"Earth\",\"Mars\",\"Earth\",\"Earth\",\"Earth\",\"Earth\",\"Earth\",\"missing\",\"Earth\",\"Mars\",\"Europa\",\"Mars\",\"Earth\",\"Earth\",\"Earth\",\"Earth\",\"Earth\",\"Europa\",\"Earth\",\"Earth\",\"Europa\",\"Europa\",\"Mars\",\"Earth\",\"Earth\",\"Earth\",\"Earth\",\"Earth\",\"Earth\",\"Mars\",\"Europa\",\"Europa\",\"Europa\",\"Europa\",\"Europa\",\"Earth\",\"Earth\",\"Europa\",\"Europa\",\"Earth\",\"Earth\",\"Earth\",\"Earth\",\"Europa\",\"Mars\",\"Earth\",\"Earth\",\"Europa\",\"Europa\",\"Europa\",\"Europa\",\"Europa\",\"Mars\",\"Earth\",\"Europa\",\"Europa\",\"Earth\",\"missing\",\"Mars\",\"Earth\",\"Europa\",\"Earth\",\"Earth\",\"Earth\",\"Earth\",\"Mars\",\"Mars\",\"Mars\",\"Earth\",\"Earth\",\"Earth\",\"Earth\",\"Earth\",\"Earth\",\"Earth\",\"Earth\",\"Mars\",\"Mars\",\"Earth\",\"Europa\",\"Europa\",\"Europa\",\"Earth\",\"Earth\",\"Earth\",\"Earth\",\"Earth\",\"Earth\",\"Earth\",\"Europa\",\"Earth\",\"Earth\",\"Europa\",\"Earth\",\"Europa\",\"Mars\",\"Earth\",\"Europa\",\"Europa\",\"Europa\",\"Europa\",\"Europa\",\"Europa\",\"Europa\",\"Mars\",\"missing\",\"Earth\",\"Earth\",\"Earth\",\"Earth\",\"Earth\",\"Earth\",\"Europa\",\"Mars\",\"Earth\",\"Earth\",\"Earth\",\"Mars\",\"Earth\",\"Earth\",\"Earth\",\"Earth\",\"Earth\",\"Earth\",\"Europa\",\"Earth\",\"Earth\",\"Earth\",\"Earth\",\"Earth\",\"Europa\",\"Europa\",\"Europa\",\"Europa\",\"Earth\",\"Earth\",\"Europa\",\"Earth\",\"Earth\",\"Europa\",\"Europa\",\"Earth\",\"missing\",\"Earth\",\"Earth\",\"Earth\",\"Earth\",\"Earth\",\"Earth\",\"Earth\",\"Mars\",\"Earth\",\"Earth\",\"Europa\",\"Europa\",\"Earth\",\"Earth\",\"Mars\",\"Earth\",\"Earth\",\"Earth\",\"Earth\",\"Mars\",\"Europa\",\"Europa\",\"Earth\",\"missing\",\"Earth\",\"Earth\",\"Earth\",\"Earth\",\"Earth\",\"Earth\",\"Earth\",\"Earth\",\"Earth\",\"missing\",\"Europa\",\"Mars\",\"Earth\",\"Earth\",\"Earth\",\"Europa\",\"Europa\",\"Earth\",\"Europa\",\"Europa\",\"Earth\",\"Europa\",\"Europa\",\"Earth\",\"Earth\",\"Earth\",\"Earth\",\"Earth\",\"Europa\",\"Europa\",\"Europa\",\"Europa\",\"Europa\",\"Earth\",\"Earth\",\"Earth\",\"Earth\",\"Earth\",\"Earth\",\"Mars\",\"Mars\",\"Mars\",\"Mars\",\"Mars\",\"Mars\",\"Earth\",\"Mars\",\"Mars\",\"Europa\",\"Mars\",\"Earth\",\"Europa\",\"Earth\",\"Earth\",\"Earth\",\"Earth\",\"Earth\",\"Earth\",\"Mars\",\"Mars\",\"Europa\",\"Europa\",\"Earth\",\"Europa\",\"Earth\",\"Mars\",\"Earth\",\"Earth\",\"Earth\",\"Earth\",\"Earth\",\"Earth\",\"Earth\",\"Earth\",\"Earth\",\"Earth\",\"Earth\",\"Mars\",\"Mars\",\"Mars\",\"Earth\",\"Earth\",\"Earth\",\"Mars\",\"Mars\",\"Mars\",\"Earth\",\"Mars\",\"Earth\",\"Earth\",\"Mars\",\"Earth\",\"Earth\",\"Earth\",\"Earth\",\"Mars\",\"Earth\",\"Europa\",\"Earth\",\"Earth\",\"Earth\",\"Earth\",\"Earth\",\"Earth\",\"Earth\",\"Mars\",\"Mars\",\"Mars\",\"Earth\",\"Europa\",\"Earth\",\"Mars\",\"Mars\",\"Earth\",\"Earth\",\"Earth\",\"Earth\",\"Earth\",\"Mars\",\"Europa\",\"Earth\",\"Europa\",\"Mars\",\"Mars\",\"Earth\",\"Earth\",\"Earth\",\"Earth\",\"Earth\",\"Mars\",\"Earth\",\"Earth\",\"Earth\",\"Europa\",\"Europa\",\"Europa\",\"Europa\",\"Earth\",\"Mars\",\"Europa\",\"Mars\",\"Mars\",\"Europa\",\"Earth\",\"Earth\",\"Earth\",\"Earth\",\"Earth\",\"Earth\",\"Earth\",\"Europa\",\"Europa\",\"Europa\",\"Europa\",\"Earth\",\"Earth\",\"Earth\",\"Earth\",\"Earth\",\"Earth\",\"Mars\",\"Earth\",\"Mars\",\"Earth\",\"Earth\",\"Earth\",\"Mars\",\"Mars\",\"Mars\",\"Mars\",\"Mars\",\"Mars\",\"Mars\",\"Earth\",\"Europa\",\"Europa\",\"Europa\",\"Earth\",\"Earth\",\"Earth\",\"Europa\",\"Europa\",\"Earth\",\"Earth\",\"Earth\",\"Europa\",\"Europa\",\"Earth\",\"Europa\",\"Europa\",\"Earth\",\"Earth\",\"Earth\",\"Earth\",\"Earth\",\"Mars\",\"Mars\",\"Earth\",\"Mars\",\"Mars\",\"Earth\",\"Earth\",\"Earth\",\"Earth\",\"Europa\",\"Europa\",\"Mars\",\"Earth\",\"Europa\",\"Europa\",\"Europa\",\"Earth\",\"Earth\",\"Mars\",\"Earth\",\"Earth\",\"Mars\",\"Earth\",\"Earth\",\"Earth\",\"Earth\",\"Earth\",\"Earth\",\"Earth\",\"Mars\",\"Europa\",\"Europa\",\"Earth\",\"Earth\",\"Earth\",\"Europa\",\"Mars\",\"Earth\",\"Europa\",\"Europa\",\"Europa\",\"Europa\",\"Europa\",\"Europa\",\"Europa\",\"Europa\",\"Europa\",\"Europa\",\"Earth\",\"Europa\",\"Europa\",\"Europa\",\"Europa\",\"Earth\",\"missing\",\"Mars\",\"Earth\",\"Europa\",\"Earth\",\"Earth\",\"Earth\",\"missing\",\"Earth\",\"Earth\",\"Earth\",\"Europa\",\"Mars\",\"Earth\",\"Mars\",\"Europa\",\"Europa\",\"Earth\",\"Earth\",\"Mars\",\"Earth\",\"Earth\",\"Earth\",\"Earth\",\"Earth\",\"Earth\",\"Earth\",\"Earth\",\"Earth\",\"Earth\",\"Europa\",\"Earth\",\"Earth\",\"Earth\",\"Mars\",\"Mars\",\"Mars\",\"Earth\",\"Earth\",\"Earth\",\"Earth\",\"Europa\",\"Earth\",\"Europa\",\"Mars\",\"Earth\",\"Mars\",\"Earth\",\"Europa\",\"Mars\",\"Earth\",\"Earth\",\"Europa\",\"Earth\",\"Earth\",\"Earth\",\"Earth\",\"Earth\",\"Earth\",\"Earth\",\"Earth\",\"missing\",\"Mars\",\"Earth\",\"Earth\",\"Earth\",\"Earth\",\"missing\",\"Earth\",\"Earth\",\"Earth\",\"Earth\",\"Earth\",\"Mars\",\"Earth\",\"Earth\",\"Earth\",\"Europa\",\"Europa\",\"Europa\",\"missing\",\"Mars\",\"Earth\",\"Earth\",\"Earth\",\"Earth\",\"Earth\",\"Earth\",\"Europa\",\"Earth\",\"Earth\",\"Earth\",\"Mars\",\"Earth\",\"Earth\",\"Mars\",\"Mars\",\"Europa\",\"Earth\",\"Earth\",\"Earth\",\"Europa\",\"Earth\",\"Earth\",\"Mars\",\"Earth\",\"Earth\",\"Mars\",\"missing\",\"Earth\",\"Earth\",\"Earth\",\"Mars\",\"Mars\",\"Mars\",\"missing\",\"Earth\",\"Mars\",\"Earth\",\"Mars\",\"Earth\",\"Earth\",\"Earth\",\"Earth\",\"missing\",\"Earth\",\"Earth\",\"Earth\",\"Mars\",\"Earth\",\"Earth\",\"Earth\",\"Earth\",\"Mars\",\"Europa\",\"Earth\",\"Europa\",\"Europa\",\"Earth\",\"Earth\",\"Earth\",\"Earth\",\"Earth\",\"Earth\",\"Mars\",\"Europa\",\"Earth\",\"Mars\",\"Earth\",\"Earth\",\"Earth\",\"Europa\",\"Earth\",\"Earth\",\"Mars\",\"Mars\",\"missing\",\"Earth\",\"missing\",\"Europa\",\"Europa\",\"Europa\",\"Europa\",\"Earth\",\"Mars\",\"Europa\",\"Europa\",\"Earth\",\"Europa\",\"Europa\",\"Earth\",\"Europa\",\"Europa\",\"Earth\",\"Europa\",\"Mars\",\"Mars\",\"Europa\",\"Europa\",\"Europa\",\"Earth\",\"Mars\",\"Mars\",\"Earth\",\"Mars\",\"Mars\",\"Europa\",\"Europa\",\"Earth\",\"Earth\",\"Mars\",\"Europa\",\"Mars\",\"Europa\",\"Europa\",\"Earth\",\"Earth\",\"Europa\",\"Europa\",\"Earth\",\"Mars\",\"Mars\",\"Mars\",\"Earth\",\"Earth\",\"Earth\",\"Earth\",\"Earth\",\"Europa\",\"Europa\",\"Europa\",\"Europa\",\"Mars\",\"Mars\",\"Mars\",\"Mars\",\"Europa\",\"Earth\",\"Earth\",\"Earth\",\"Earth\",\"Mars\",\"Mars\",\"Europa\",\"Mars\",\"Mars\",\"Earth\",\"Europa\",\"Europa\",\"Europa\",\"Earth\",\"Earth\",\"Earth\",\"Earth\",\"Earth\",\"Earth\",\"Earth\",\"Earth\",\"Europa\",\"Europa\",\"Europa\",\"Europa\",\"Europa\",\"Earth\",\"Earth\",\"Earth\",\"Earth\",\"Earth\",\"Mars\",\"Mars\",\"Earth\",\"Europa\",\"Mars\",\"Mars\",\"Mars\",\"Mars\",\"Mars\",\"Mars\",\"Mars\",\"missing\",\"Mars\",\"Earth\",\"Mars\",\"Mars\",\"Mars\",\"Mars\",\"Mars\",\"Earth\",\"Earth\",\"Europa\",\"Europa\",\"Europa\",\"Europa\",\"Earth\",\"Earth\",\"Earth\",\"missing\",\"Earth\",\"Earth\",\"Earth\",\"Earth\",\"Earth\",\"Earth\",\"Earth\",\"Europa\",\"Europa\",\"Earth\",\"Mars\",\"Earth\",\"Mars\",\"Mars\",\"Earth\",\"Earth\",\"Earth\",\"Earth\",\"missing\",\"Earth\",\"Europa\",\"Europa\",\"Europa\",\"Europa\",\"Europa\",\"Europa\",\"Earth\",\"Earth\",\"Mars\",\"Earth\",\"Europa\",\"Earth\",\"Earth\",\"Earth\",\"Earth\",\"Mars\",\"Earth\",\"Earth\",\"Earth\",\"Mars\",\"Earth\",\"Mars\",\"Mars\",\"Mars\",\"Earth\",\"Earth\",\"Earth\",\"Earth\",\"Earth\",\"Europa\",\"Europa\",\"Europa\",\"Earth\",\"Earth\",\"Earth\",\"Europa\",\"Europa\",\"Earth\",\"Earth\",\"missing\",\"Earth\",\"Earth\",\"Earth\",\"Europa\",\"Europa\",\"Europa\",\"Europa\",\"Mars\",\"Mars\",\"Europa\",\"Earth\",\"Earth\",\"Earth\",\"Earth\",\"Earth\",\"Europa\",\"Europa\",\"Europa\",\"Earth\",\"Mars\",\"Mars\",\"Mars\",\"Mars\",\"Europa\",\"Earth\",\"Earth\",\"Earth\",\"Europa\",\"Earth\",\"Earth\",\"Earth\",\"Earth\",\"Mars\",\"Europa\",\"Europa\",\"Mars\",\"Mars\",\"Earth\",\"Earth\",\"Earth\",\"Earth\",\"missing\",\"Earth\",\"Earth\",\"Earth\",\"Earth\",\"Mars\",\"Mars\",\"Europa\",\"Europa\",\"Mars\",\"Earth\",\"Earth\",\"Mars\",\"Earth\",\"Mars\",\"Mars\",\"Mars\",\"Earth\",\"Earth\",\"Mars\",\"Earth\",\"Earth\",\"Earth\",\"Earth\",\"Earth\",\"Europa\",\"Mars\",\"Earth\",\"Earth\",\"Earth\",\"Earth\",\"Earth\",\"Earth\",\"Earth\",\"Earth\",\"Earth\",\"Mars\",\"Earth\",\"Earth\",\"Earth\",\"Earth\",\"Earth\",\"Earth\",\"Mars\",\"Earth\",\"Earth\",\"Earth\",\"Mars\",\"Mars\",\"Earth\",\"Earth\",\"Europa\",\"Europa\",\"Earth\",\"Europa\",\"Earth\",\"Earth\",\"Earth\",\"Earth\",\"Europa\",\"Europa\",\"Europa\",\"Europa\",\"Europa\",\"Earth\",\"Earth\",\"Europa\",\"Europa\",\"Earth\",\"Earth\",\"Europa\",\"Europa\",\"Earth\",\"missing\",\"Europa\",\"Earth\",\"Earth\",\"Mars\",\"Earth\",\"Earth\",\"Earth\",\"Earth\",\"Earth\",\"Earth\",\"Mars\",\"Earth\",\"missing\",\"missing\",\"Mars\",\"Mars\",\"Mars\",\"Earth\",\"Earth\",\"Earth\",\"missing\",\"Earth\",\"Earth\",\"Earth\",\"missing\",\"Mars\",\"Europa\",\"Mars\",\"Europa\",\"Europa\",\"Europa\",\"Europa\",\"Earth\",\"Europa\",\"Europa\",\"Earth\",\"Mars\",\"Europa\",\"Earth\",\"Mars\",\"Earth\",\"Earth\",\"Earth\",\"Earth\",\"Earth\",\"Europa\",\"Earth\",\"Europa\",\"Europa\",\"Europa\",\"Europa\",\"Earth\",\"Earth\",\"Mars\",\"Earth\",\"Mars\",\"Mars\",\"Europa\",\"Mars\",\"Mars\",\"Earth\",\"Earth\",\"Europa\",\"Europa\",\"Earth\",\"Mars\",\"Europa\",\"Earth\",\"Earth\",\"Mars\",\"Earth\",\"Earth\",\"Earth\",\"Earth\",\"Mars\",\"Earth\",\"Mars\",\"Europa\",\"Europa\",\"Earth\",\"Earth\",\"Earth\",\"Earth\",\"Earth\",\"Earth\",\"Earth\",\"Earth\",\"Earth\",\"Mars\",\"Mars\",\"Earth\",\"Earth\",\"Earth\",\"Earth\",\"Earth\",\"Earth\",\"Earth\",\"missing\",\"Earth\",\"Earth\",\"Mars\",\"Mars\",\"Mars\",\"Mars\",\"Mars\",\"Earth\",\"Mars\",\"Mars\",\"Mars\",\"Mars\",\"Europa\",\"Europa\",\"Europa\",\"Earth\",\"Earth\",\"Earth\",\"Europa\",\"Earth\",\"Europa\",\"Earth\",\"Earth\",\"Earth\",\"Earth\",\"Earth\",\"Earth\",\"Earth\",\"Earth\",\"Earth\",\"Europa\",\"Earth\",\"Earth\",\"missing\",\"Earth\",\"Earth\",\"Earth\",\"Earth\",\"Earth\",\"Earth\",\"Mars\",\"Europa\",\"Earth\",\"Earth\",\"Earth\",\"Earth\",\"Earth\",\"Europa\",\"Earth\",\"Earth\",\"Europa\",\"Europa\",\"Earth\",\"Europa\",\"Mars\",\"Europa\",\"Earth\",\"missing\",\"Earth\",\"Earth\",\"Europa\",\"Europa\",\"Earth\",\"Europa\",\"Earth\",\"Europa\",\"Europa\",\"Europa\",\"Earth\",\"Earth\",\"Mars\",\"Earth\",\"Mars\",\"Europa\",\"Earth\",\"missing\",\"Europa\",\"Earth\",\"Earth\",\"Mars\",\"Europa\",\"Earth\",\"Earth\",\"Europa\",\"Europa\",\"Mars\",\"Earth\",\"Earth\",\"Earth\",\"Earth\",\"Earth\",\"Europa\",\"Europa\",\"Europa\",\"Europa\",\"Earth\",\"Earth\",\"Earth\",\"Earth\",\"Earth\",\"Europa\",\"Earth\",\"Mars\",\"Europa\",\"Mars\",\"Earth\",\"Earth\",\"Earth\",\"Mars\",\"Mars\",\"Mars\",\"Europa\",\"Europa\",\"Earth\",\"Earth\",\"Mars\",\"Mars\",\"Mars\",\"Earth\",\"Earth\",\"Mars\",\"Earth\",\"Earth\",\"Earth\",\"Earth\",\"Europa\",\"Earth\",\"Earth\",\"Earth\",\"Earth\",\"Europa\",\"Europa\",\"Mars\",\"Earth\",\"Earth\",\"Earth\",\"Europa\",\"Europa\",\"Earth\",\"Europa\",\"Mars\",\"Earth\",\"Earth\",\"Europa\",\"Europa\",\"Europa\",\"Europa\",\"Earth\",\"Mars\",\"Mars\",\"Mars\",\"Mars\",\"Earth\",\"Earth\",\"Earth\",\"Europa\",\"Europa\",\"Earth\",\"Earth\",\"Earth\",\"Mars\",\"Earth\",\"Mars\",\"Mars\",\"Mars\",\"Earth\",\"Earth\",\"Earth\",\"Earth\",\"Mars\",\"Mars\",\"Earth\",\"Earth\",\"Mars\",\"Mars\",\"Mars\",\"Europa\",\"Europa\",\"Earth\",\"Mars\",\"Earth\",\"Earth\",\"missing\",\"Mars\",\"Earth\",\"Europa\",\"Earth\",\"Earth\",\"Mars\",\"Mars\",\"Mars\",\"Mars\",\"Mars\",\"Earth\",\"Earth\",\"Earth\",\"Earth\",\"Mars\",\"Mars\",\"Europa\",\"Earth\",\"Earth\",\"Earth\",\"Mars\",\"Mars\",\"Earth\",\"Mars\",\"Earth\",\"Earth\",\"Earth\",\"missing\",\"Mars\",\"Mars\",\"Europa\",\"Europa\",\"Earth\",\"Earth\",\"Earth\",\"Earth\",\"Europa\",\"Europa\",\"Earth\",\"Mars\",\"Mars\",\"Mars\",\"Mars\",\"Earth\",\"Mars\",\"Earth\",\"Earth\",\"Earth\",\"Earth\",\"Earth\",\"Earth\",\"Mars\",\"Earth\",\"Earth\",\"Earth\",\"Earth\",\"Europa\",\"Europa\",\"Europa\",\"Earth\",\"Earth\",\"Mars\",\"Europa\",\"Europa\",\"Europa\",\"Earth\",\"Earth\",\"Earth\",\"Earth\",\"Mars\",\"missing\",\"Earth\",\"Earth\",\"Earth\",\"Mars\",\"Earth\",\"Earth\",\"Earth\",\"Mars\",\"Earth\",\"Earth\",\"Earth\",\"Earth\",\"Europa\",\"Europa\",\"Earth\",\"Europa\",\"Mars\",\"Mars\",\"Earth\",\"Earth\",\"Earth\",\"Earth\",\"Mars\",\"Mars\",\"Mars\",\"Mars\",\"Earth\",\"Earth\",\"Earth\",\"Earth\",\"Earth\",\"Earth\",\"Earth\",\"Earth\",\"Europa\",\"Earth\",\"Europa\",\"Earth\",\"Earth\",\"Earth\",\"Earth\",\"Mars\",\"Europa\",\"Earth\",\"Earth\",\"Earth\",\"Earth\",\"Earth\",\"Earth\",\"Earth\",\"Earth\",\"Earth\",\"Earth\",\"Europa\",\"Europa\",\"Europa\",\"Europa\",\"Europa\",\"Earth\",\"Earth\",\"Europa\",\"Europa\",\"Europa\",\"Earth\",\"Earth\",\"Earth\",\"Earth\",\"Earth\",\"Earth\",\"Earth\",\"Earth\",\"Earth\",\"Earth\",\"Europa\",\"Europa\",\"Europa\",\"Europa\",\"Europa\",\"Mars\",\"Earth\",\"Earth\",\"Earth\",\"Earth\",\"Earth\",\"Earth\",\"Earth\",\"Mars\",\"Mars\",\"Earth\",\"Earth\",\"Earth\",\"Earth\",\"Europa\",\"Mars\",\"Mars\",\"Earth\",\"Earth\",\"Europa\",\"Europa\",\"Europa\",\"Europa\",\"Earth\",\"Earth\",\"Earth\",\"Europa\",\"Europa\",\"Europa\",\"Europa\",\"Europa\",\"Earth\",\"Earth\",\"Europa\",\"Europa\",\"Mars\",\"Mars\",\"Earth\",\"Earth\",\"Earth\",\"Earth\",\"Earth\",\"Mars\",\"missing\",\"Mars\",\"Mars\",\"Mars\",\"Mars\",\"Europa\",\"Europa\",\"Europa\",\"Earth\",\"Earth\",\"Earth\",\"Earth\",\"Earth\",\"Europa\",\"Earth\",\"Earth\",\"Europa\",\"Europa\",\"Europa\",\"Europa\",\"Europa\",\"Europa\",\"Earth\",\"Earth\",\"Europa\",\"Mars\",\"Mars\",\"Mars\",\"missing\",\"Earth\",\"Earth\",\"Earth\",\"Europa\",\"Earth\",\"Mars\",\"Earth\",\"Earth\",\"Mars\",\"Earth\",\"Earth\",\"Earth\",\"Earth\",\"Earth\",\"Earth\",\"Earth\",\"Earth\",\"Mars\",\"Earth\",\"Mars\",\"Mars\",\"Europa\",\"Europa\",\"Earth\",\"Earth\",\"Earth\",\"Earth\",\"Earth\",\"Earth\",\"Europa\",\"Earth\",\"Earth\",\"Mars\",\"Earth\",\"Earth\",\"Earth\",\"Earth\",\"Earth\",\"Europa\",\"Europa\",\"Earth\",\"Earth\",\"Earth\",\"Europa\",\"Europa\",\"Europa\",\"Earth\",\"Earth\",\"missing\",\"Mars\",\"Mars\",\"Earth\",\"Earth\",\"Europa\",\"Europa\",\"Earth\",\"Earth\",\"Europa\",\"Earth\",\"Europa\",\"Europa\",\"Earth\",\"Mars\",\"Earth\",\"Europa\",\"Earth\",\"Earth\",\"Earth\",\"Earth\",\"Earth\",\"Europa\",\"Europa\",\"missing\",\"Europa\",\"Earth\",\"Earth\",\"Earth\",\"Earth\",\"Europa\",\"Europa\",\"Europa\",\"Europa\",\"Earth\",\"Earth\",\"Earth\",\"Earth\",\"Europa\",\"Europa\",\"Earth\",\"Earth\",\"Mars\",\"Earth\",\"Mars\",\"Earth\",\"Earth\",\"Europa\",\"Earth\",\"Earth\",\"Mars\",\"Earth\",\"Earth\",\"Europa\",\"Earth\",\"Earth\",\"Earth\",\"Europa\",\"Europa\",\"Europa\",\"Europa\",\"Europa\",\"Europa\",\"Europa\",\"Earth\",\"Earth\",\"Earth\",\"Earth\",\"Europa\",\"Earth\",\"Earth\",\"Earth\",\"Earth\",\"Europa\",\"Europa\",\"Europa\",\"Earth\",\"Europa\",\"Europa\",\"Europa\",\"Mars\",\"Mars\",\"Europa\",\"Europa\",\"Earth\",\"Earth\",\"Europa\",\"Europa\",\"Europa\",\"Europa\",\"Mars\",\"Mars\",\"Mars\",\"Earth\",\"Earth\",\"Earth\",\"Earth\",\"Mars\",\"Earth\",\"Europa\",\"Mars\",\"Earth\",\"Earth\",\"Mars\",\"Mars\",\"Earth\",\"Earth\",\"Earth\",\"Earth\",\"missing\",\"Earth\",\"Europa\",\"Europa\",\"missing\",\"Mars\",\"Mars\",\"Earth\",\"Earth\",\"Mars\",\"Mars\",\"Mars\",\"Earth\",\"Mars\",\"Mars\",\"Europa\",\"Earth\",\"Earth\",\"Earth\",\"Mars\",\"Europa\",\"Europa\",\"Europa\",\"Earth\",\"Mars\",\"Earth\",\"Earth\",\"Earth\",\"Earth\",\"Europa\",\"Europa\",\"Mars\",\"Earth\",\"Earth\",\"Mars\",\"Mars\",\"Mars\",\"Mars\",\"Mars\",\"Mars\",\"Mars\",\"Mars\",\"Earth\",\"Earth\",\"Earth\",\"Earth\",\"Earth\",\"Earth\",\"Mars\",\"missing\",\"Earth\",\"Earth\",\"Earth\",\"Mars\",\"Mars\",\"Earth\",\"Earth\",\"Earth\",\"Earth\",\"Mars\",\"Mars\",\"Earth\",\"Mars\",\"Mars\",\"Earth\",\"Europa\",\"Mars\",\"Earth\",\"Earth\",\"Earth\",\"Mars\",\"Earth\",\"Earth\",\"Mars\",\"Europa\",\"Europa\",\"Europa\",\"Europa\",\"Europa\",\"Europa\",\"Europa\",\"Earth\",\"Earth\",\"Earth\",\"Earth\",\"Earth\",\"Earth\",\"Earth\",\"Earth\",\"Europa\",\"Europa\",\"Europa\",\"Europa\",\"missing\",\"Earth\",\"Earth\",\"Earth\",\"Mars\",\"Earth\",\"Earth\",\"Earth\",\"Mars\",\"Europa\",\"Earth\",\"Earth\",\"Earth\",\"Earth\",\"Earth\",\"Earth\",\"Mars\",\"Mars\",\"Mars\",\"Mars\",\"Mars\",\"Mars\",\"Europa\",\"Earth\",\"Earth\",\"Earth\",\"Earth\",\"Earth\",\"Earth\",\"Earth\",\"Earth\",\"Earth\",\"Earth\",\"Europa\",\"Europa\",\"Mars\",\"Earth\",\"Europa\",\"Europa\",\"Earth\",\"Earth\",\"Earth\",\"Earth\",\"Europa\",\"Europa\",\"Europa\",\"Europa\",\"Europa\",\"Mars\",\"Earth\",\"Mars\",\"Mars\",\"Mars\",\"Earth\",\"Mars\",\"Earth\",\"Earth\",\"Europa\",\"Europa\",\"Europa\",\"Europa\",\"Earth\",\"Mars\",\"missing\",\"Mars\",\"Earth\",\"Earth\",\"Mars\",\"Mars\",\"Earth\",\"Earth\",\"Earth\",\"Earth\",\"Earth\",\"Earth\",\"Mars\",\"Mars\",\"Mars\",\"Europa\",\"Europa\",\"Europa\",\"Mars\",\"Mars\",\"Earth\",\"Earth\",\"Earth\",\"Earth\",\"Earth\",\"Mars\",\"Mars\",\"Earth\",\"Earth\",\"Earth\",\"Earth\",\"Europa\",\"Europa\",\"Europa\",\"Europa\",\"Europa\",\"Earth\",\"Europa\",\"Europa\",\"Europa\",\"Earth\",\"Earth\",\"Earth\",\"Europa\",\"Earth\",\"Earth\",\"Earth\",\"Mars\",\"Earth\",\"Europa\",\"Europa\",\"Europa\",\"Europa\",\"Mars\",\"Europa\",\"Europa\",\"Earth\",\"Earth\",\"Earth\",\"Europa\",\"Earth\",\"Earth\",\"Earth\",\"Earth\",\"Mars\",\"Earth\",\"Earth\",\"Earth\",\"Earth\",\"Earth\",\"missing\",\"Mars\",\"Europa\",\"Earth\",\"Mars\",\"Earth\",\"Europa\",\"Earth\",\"Earth\",\"Earth\",\"Earth\",\"Earth\",\"Earth\",\"Earth\",\"Earth\",\"Mars\",\"Mars\",\"Europa\",\"Europa\",\"Earth\",\"Earth\",\"Europa\",\"Earth\",\"Earth\",\"Earth\",\"Mars\",\"Mars\",\"Mars\",\"Mars\",\"Mars\",\"Mars\",\"Earth\",\"missing\",\"Earth\",\"Europa\",\"Europa\",\"Europa\",\"Europa\",\"Earth\",\"Mars\",\"Earth\",\"Earth\",\"Earth\",\"Earth\",\"Mars\",\"Mars\",\"Earth\",\"Europa\",\"Earth\",\"Earth\",\"Mars\",\"Earth\",\"Mars\",\"Earth\",\"Earth\",\"Mars\",\"Earth\",\"missing\",\"Earth\",\"Mars\",\"Earth\",\"Earth\",\"Mars\",\"Earth\",\"Mars\",\"Mars\",\"Earth\",\"Earth\",\"Europa\",\"Earth\",\"Earth\",\"Europa\",\"Europa\",\"Europa\",\"Europa\",\"Europa\",\"Europa\",\"Europa\",\"Europa\",\"Mars\",\"Earth\",\"Earth\",\"Earth\",\"Europa\",\"Mars\",\"Mars\",\"Mars\",\"Mars\",\"Mars\",\"Mars\",\"Mars\",\"Europa\",\"missing\",\"Earth\",\"Earth\",\"Earth\",\"Earth\",\"Earth\",\"Earth\",\"Earth\",\"Earth\",\"Europa\",\"Europa\",\"Mars\",\"Earth\",\"Earth\",\"Earth\",\"Earth\",\"Mars\",\"Europa\",\"Europa\",\"Europa\",\"Earth\",\"Earth\",\"Earth\",\"Earth\",\"Mars\",\"Mars\",\"Mars\",\"missing\",\"Earth\",\"Earth\",\"Europa\",\"Earth\",\"Earth\",\"Earth\",\"Earth\",\"Earth\",\"Earth\",\"Earth\",\"Earth\",\"Europa\",\"missing\",\"Earth\",\"Earth\",\"Earth\",\"Earth\",\"Earth\",\"Earth\",\"Europa\",\"Europa\",\"Europa\",\"Earth\",\"Earth\",\"Earth\",\"Earth\",\"Earth\",\"Earth\",\"Earth\",\"Earth\",\"Europa\",\"Europa\",\"Europa\",\"Europa\",\"Earth\",\"Earth\",\"Mars\",\"Mars\",\"Earth\",\"Earth\",\"Earth\",\"Earth\",\"Mars\",\"Mars\",\"Mars\",\"Earth\",\"Mars\",\"Earth\",\"Earth\",\"Mars\",\"Earth\",\"Mars\",\"Earth\",\"Earth\",\"Europa\",\"Earth\",\"Earth\",\"Earth\",\"Mars\",\"Earth\",\"Earth\",\"Earth\",\"Earth\",\"Mars\",\"Earth\",\"Earth\",\"Earth\",\"Earth\",\"Earth\",\"Earth\",\"Earth\",\"Mars\",\"Earth\",\"Mars\",\"Earth\",\"Europa\",\"Earth\",\"Earth\",\"Europa\",\"Earth\",\"Earth\",\"Earth\",\"Earth\",\"Earth\",\"Mars\",\"Mars\",\"Earth\",\"Mars\",\"Earth\",\"Earth\",\"Europa\",\"Earth\",\"Earth\",\"Earth\",\"Earth\",\"Earth\",\"Earth\",\"Earth\",\"Earth\",\"Europa\",\"Earth\",\"Earth\",\"Earth\",\"Earth\",\"Earth\",\"Earth\",\"Earth\",\"Earth\",\"Earth\",\"Earth\",\"Earth\",\"Mars\",\"Earth\",\"Earth\",\"Earth\",\"Earth\",\"Earth\",\"Earth\",\"Earth\",\"Earth\",\"Earth\",\"Earth\",\"Earth\",\"Earth\",\"Earth\",\"Earth\",\"Mars\",\"Earth\",\"Earth\",\"Mars\",\"Europa\",\"Europa\",\"Earth\",\"Mars\",\"Mars\",\"Mars\",\"Mars\",\"Mars\",\"Earth\",\"Earth\",\"Europa\",\"Mars\",\"Earth\",\"Earth\",\"Europa\",\"Earth\",\"missing\",\"Earth\",\"Earth\",\"Earth\",\"Earth\",\"Europa\",\"Europa\",\"Earth\",\"Europa\",\"Mars\",\"Earth\",\"Earth\",\"Earth\",\"Earth\",\"Earth\",\"Earth\",\"Europa\",\"Europa\",\"Europa\",\"Earth\",\"Mars\",\"Mars\",\"Mars\",\"Mars\",\"Earth\",\"Earth\",\"Europa\",\"Europa\",\"Earth\",\"Earth\",\"Earth\",\"Earth\",\"Mars\",\"Mars\",\"Mars\",\"Earth\",\"Earth\",\"Earth\",\"Europa\",\"Europa\",\"Europa\",\"Earth\",\"Europa\",\"Europa\",\"Earth\",\"Europa\",\"Earth\",\"missing\",\"Mars\",\"Earth\",\"Earth\",\"Mars\",\"Europa\",\"Europa\",\"Europa\",\"Mars\",\"Earth\",\"Earth\",\"Earth\",\"Mars\",\"Earth\",\"Earth\",\"Earth\",\"Mars\",\"Europa\",\"Earth\",\"Earth\",\"Earth\",\"Earth\",\"Europa\",\"Europa\",\"Earth\",\"Earth\",\"Earth\",\"Europa\",\"Europa\",\"Mars\",\"Earth\",\"Earth\",\"Earth\",\"Earth\",\"Europa\",\"Mars\",\"Mars\",\"Mars\",\"Earth\",\"Mars\",\"Europa\",\"Earth\",\"missing\",\"Mars\",\"Earth\",\"Earth\",\"Earth\",\"Europa\",\"Mars\",\"Earth\",\"Earth\",\"Europa\",\"Europa\",\"Earth\",\"Earth\",\"Earth\",\"Earth\",\"Mars\",\"Earth\",\"Earth\",\"Earth\",\"Mars\",\"Earth\",\"Earth\",\"Europa\",\"Europa\",\"Earth\",\"Earth\",\"Earth\",\"Europa\",\"Europa\",\"Europa\",\"Earth\",\"Mars\",\"Mars\",\"missing\",\"Mars\",\"Mars\",\"Mars\",\"Mars\",\"Earth\",\"Earth\",\"Earth\",\"Mars\",\"Mars\",\"Mars\",\"Mars\",\"Mars\",\"Mars\",\"Mars\",\"Europa\",\"Europa\",\"Europa\",\"Earth\",\"Europa\",\"Europa\",\"Europa\",\"Europa\",\"Europa\",\"Europa\",\"Europa\",\"Europa\",\"Europa\",\"Europa\",\"Europa\",\"Earth\",\"Earth\",\"Earth\",\"Earth\",\"Earth\",\"Earth\",\"Mars\",\"Mars\",\"Earth\",\"Earth\",\"Earth\",\"Earth\",\"Earth\",\"Mars\",\"Earth\",\"Earth\",\"Earth\",\"Earth\",\"Earth\",\"missing\",\"Europa\",\"Mars\",\"Europa\",\"Europa\",\"Europa\",\"missing\",\"Earth\",\"Europa\",\"Mars\",\"Europa\",\"missing\",\"Mars\",\"Mars\",\"Mars\",\"Mars\",\"Mars\",\"Earth\",\"Earth\",\"Earth\",\"Earth\",\"Mars\",\"Mars\",\"Mars\",\"Earth\",\"Earth\",\"Earth\",\"Europa\",\"Europa\",\"Earth\",\"Europa\",\"Earth\",\"Europa\",\"Mars\",\"Mars\",\"Earth\",\"Earth\",\"Earth\",\"Europa\",\"Europa\",\"Europa\",\"Earth\",\"Earth\",\"Earth\",\"Europa\",\"Europa\",\"Europa\",\"Earth\",\"Earth\",\"Earth\",\"Earth\",\"Earth\",\"Earth\",\"Earth\",\"Earth\",\"Earth\",\"Earth\",\"Europa\",\"Europa\",\"Europa\",\"Mars\",\"Earth\",\"Mars\",\"Europa\",\"Europa\",\"Earth\",\"Earth\",\"Earth\",\"Earth\",\"Europa\",\"Europa\",\"Earth\",\"Earth\",\"Earth\",\"Europa\",\"Mars\",\"Mars\",\"Earth\",\"Europa\",\"Earth\",\"Earth\",\"Mars\",\"Mars\",\"Earth\",\"Europa\",\"missing\",\"Europa\",\"Earth\",\"Earth\",\"Earth\",\"Earth\",\"Earth\",\"Earth\",\"Mars\",\"Earth\",\"Earth\",\"Earth\",\"Europa\",\"Earth\",\"Earth\",\"Earth\",\"Mars\",\"Mars\",\"Earth\",\"Earth\",\"Mars\",\"Mars\",\"Mars\",\"Mars\",\"Earth\",\"Earth\",\"Mars\",\"Earth\",\"Europa\",\"Europa\",\"Mars\",\"Europa\",\"Europa\",\"Europa\",\"Europa\",\"Mars\",\"Europa\",\"Europa\",\"Europa\",\"Mars\",\"Earth\",\"Earth\",\"Earth\",\"Earth\",\"Earth\",\"Earth\",\"Europa\",\"Mars\",\"Earth\",\"Earth\",\"Earth\",\"Europa\",\"Europa\",\"Earth\",\"Europa\",\"Mars\",\"Earth\",\"Europa\",\"Europa\",\"Europa\",\"Mars\",\"Earth\",\"Europa\",\"Earth\",\"missing\",\"Earth\",\"Earth\",\"Mars\",\"Earth\",\"Earth\",\"Europa\",\"Europa\",\"missing\",\"Europa\",\"Europa\",\"Mars\",\"Mars\",\"Earth\",\"Earth\",\"Earth\",\"Europa\",\"Europa\",\"Europa\",\"Mars\",\"Europa\",\"Mars\",\"Mars\",\"Mars\",\"Earth\",\"Earth\",\"Earth\",\"Earth\",\"Earth\",\"Earth\",\"Earth\",\"Earth\",\"Mars\",\"Mars\",\"Mars\",\"Earth\",\"Earth\",\"Earth\",\"Earth\",\"Earth\",\"Earth\",\"Europa\",\"Earth\",\"Mars\",\"Europa\",\"Earth\",\"Earth\",\"Earth\",\"Mars\",\"Europa\",\"Europa\",\"Europa\",\"Mars\",\"Mars\",\"Europa\",\"Europa\",\"Europa\",\"Mars\",\"Earth\",\"Earth\",\"Earth\",\"Earth\",\"Earth\",\"Earth\",\"Mars\",\"missing\",\"Europa\",\"Europa\",\"Europa\",\"Earth\",\"Earth\",\"Europa\",\"Europa\",\"Europa\",\"Europa\",\"Europa\",\"Earth\",\"Earth\",\"Mars\",\"Europa\",\"Europa\",\"Europa\",\"Europa\",\"missing\",\"Earth\",\"Europa\",\"Earth\",\"Earth\",\"Earth\",\"Mars\",\"Earth\",\"Europa\",\"Europa\",\"Earth\",\"Europa\",\"Europa\",\"Europa\",\"Europa\",\"Earth\",\"Europa\",\"Europa\",\"Earth\",\"Earth\",\"Earth\",\"Mars\",\"Mars\",\"Earth\",\"Earth\",\"Earth\",\"Europa\",\"Europa\",\"Earth\",\"Earth\",\"Mars\",\"Earth\",\"Earth\",\"Earth\",\"Earth\",\"Earth\",\"Mars\",\"Mars\",\"Mars\",\"Mars\",\"Earth\",\"Earth\",\"Europa\",\"Europa\",\"Earth\",\"Earth\",\"Mars\",\"Earth\",\"Earth\",\"Earth\",\"Earth\",\"Earth\",\"Earth\",\"Earth\",\"Earth\",\"Earth\",\"Earth\",\"Earth\",\"missing\",\"Mars\",\"Europa\",\"Europa\",\"Mars\",\"Mars\",\"Mars\",\"Mars\",\"Mars\",\"Mars\",\"Mars\",\"Europa\",\"Europa\",\"Europa\",\"Mars\",\"Earth\",\"Earth\",\"Earth\",\"Earth\",\"Earth\",\"Earth\",\"Earth\",\"Earth\",\"Earth\",\"Earth\",\"Earth\",\"Europa\",\"Earth\",\"Europa\",\"Earth\",\"Earth\",\"Earth\",\"Earth\",\"Earth\",\"Earth\",\"Earth\",\"Europa\",\"Europa\",\"Mars\",\"Earth\",\"Earth\",\"Earth\",\"Earth\",\"Earth\",\"Mars\",\"Europa\",\"Earth\",\"Earth\",\"Europa\",\"Earth\",\"Earth\",\"Europa\",\"Europa\",\"Europa\",\"Earth\",\"Earth\",\"Earth\",\"Mars\",\"Europa\",\"Europa\",\"Europa\",\"Earth\",\"Earth\",\"Earth\",\"Mars\",\"Earth\",\"Earth\",\"Mars\",\"Mars\",\"Europa\",\"Europa\",\"Europa\",\"Mars\",\"Europa\",\"Europa\",\"Mars\",\"Mars\",\"Mars\",\"Mars\",\"Earth\",\"Europa\",\"Europa\",\"Europa\",\"Europa\",\"Europa\",\"missing\",\"Earth\",\"Earth\",\"Europa\",\"Europa\",\"Earth\",\"Earth\",\"Europa\",\"Europa\",\"Earth\",\"Earth\",\"Europa\",\"Earth\",\"Earth\",\"Earth\",\"Europa\",\"Mars\",\"Earth\",\"Earth\",\"Mars\",\"Earth\",\"Europa\",\"Mars\",\"Europa\",\"Europa\",\"Europa\",\"Europa\",\"Europa\",\"missing\",\"Europa\",\"Europa\",\"Earth\",\"Europa\",\"Europa\",\"Europa\",\"Europa\",\"Europa\",\"Europa\",\"Earth\",\"Earth\",\"Earth\",\"Mars\",\"Europa\",\"Earth\",\"Earth\",\"Europa\",\"Earth\",\"Earth\",\"Europa\",\"Europa\",\"Earth\",\"missing\",\"Earth\",\"Earth\",\"Europa\",\"Earth\",\"Earth\",\"Europa\",\"Europa\",\"missing\",\"Earth\",\"Earth\",\"Earth\",\"Europa\",\"Europa\",\"Earth\",\"Earth\",\"Earth\",\"Earth\",\"Earth\",\"Earth\",\"Earth\",\"Earth\",\"Europa\",\"Europa\",\"Europa\",\"Earth\",\"Earth\",\"Earth\",\"Earth\",\"Earth\",\"Earth\",\"Earth\",\"Earth\",\"Earth\",\"Europa\",\"Europa\",\"Earth\",\"Earth\",\"Earth\",\"Europa\",\"Earth\",\"Europa\",\"Mars\",\"Mars\",\"Mars\",\"Mars\",\"Mars\",\"Earth\",\"Europa\",\"Europa\",\"Europa\",\"Earth\",\"Europa\",\"Europa\",\"Earth\",\"Mars\",\"Mars\",\"Mars\",\"Mars\",\"Earth\",\"Europa\",\"Earth\",\"Earth\",\"Mars\",\"Earth\",\"Mars\",\"Mars\",\"Mars\",\"Earth\",\"Earth\",\"Earth\",\"Earth\",\"Mars\",\"Earth\",\"Earth\",\"Earth\",\"Earth\",\"Earth\",\"Europa\",\"Europa\",\"Europa\",\"Europa\",\"Europa\",\"Mars\",\"Mars\",\"Europa\",\"Europa\",\"Europa\",\"Europa\",\"Earth\",\"Mars\",\"Mars\",\"Earth\",\"Mars\",\"Mars\",\"Mars\",\"Europa\",\"Europa\",\"Europa\",\"Earth\",\"Mars\",\"Europa\",\"Europa\",\"Mars\",\"Mars\",\"Earth\",\"Mars\",\"Europa\",\"Europa\",\"Earth\",\"Earth\",\"Earth\",\"Mars\",\"Mars\",\"Earth\",\"Earth\",\"Earth\",\"Earth\",\"Earth\",\"Earth\",\"Mars\",\"Mars\",\"Mars\",\"Mars\",\"Earth\",\"Earth\",\"Europa\",\"Mars\",\"Mars\",\"Europa\",\"Europa\",\"Europa\",\"Europa\",\"Europa\",\"Europa\",\"Mars\",\"Europa\",\"Europa\",\"Earth\",\"Earth\",\"Europa\",\"Earth\",\"Earth\",\"Europa\",\"Europa\",\"Earth\",\"Earth\",\"Mars\",\"Mars\",\"Earth\",\"Mars\",\"Mars\",\"Mars\",\"Earth\",\"Earth\",\"Earth\",\"Earth\",\"Earth\",\"Earth\",\"Mars\",\"Earth\",\"Europa\",\"Earth\",\"Earth\",\"Mars\",\"Mars\",\"Mars\",\"Mars\",\"Mars\",\"missing\",\"Mars\",\"Earth\",\"Earth\",\"Earth\",\"Mars\",\"Earth\",\"Mars\",\"Earth\",\"Mars\",\"Mars\",\"Earth\",\"Earth\",\"missing\",\"Europa\",\"Europa\",\"Europa\",\"Mars\",\"Europa\",\"Earth\",\"Earth\",\"Earth\",\"Earth\",\"Earth\",\"Earth\",\"Earth\",\"Europa\",\"Earth\",\"Earth\",\"Earth\",\"Europa\",\"Earth\",\"Earth\",\"Earth\",\"Earth\",\"Earth\",\"Europa\",\"Mars\",\"Mars\",\"Earth\",\"Mars\",\"Mars\",\"Earth\",\"Earth\",\"Mars\",\"Europa\",\"missing\",\"Mars\",\"Mars\",\"Earth\",\"Earth\",\"Europa\",\"Earth\",\"Earth\",\"Earth\",\"Europa\",\"Europa\",\"Earth\",\"Earth\",\"Earth\",\"Earth\",\"Earth\",\"Earth\",\"Earth\",\"Earth\",\"Earth\",\"Earth\",\"Earth\",\"Earth\",\"Earth\",\"Earth\",\"Earth\",\"Europa\",\"Earth\",\"Mars\",\"Mars\",\"Mars\",\"Earth\",\"Mars\",\"Europa\",\"Earth\",\"Earth\",\"Mars\",\"Mars\",\"Mars\",\"Mars\",\"Mars\",\"Mars\",\"Mars\",\"Mars\",\"Mars\",\"Mars\",\"Europa\",\"Europa\",\"Mars\",\"Mars\",\"Mars\",\"missing\",\"Mars\",\"Mars\",\"Earth\",\"Earth\",\"Earth\",\"Earth\",\"Earth\",\"Mars\",\"Earth\",\"Earth\",\"Mars\",\"Europa\",\"Europa\",\"Europa\",\"Earth\",\"Earth\",\"Earth\",\"Mars\",\"Mars\",\"Earth\",\"Earth\",\"Earth\",\"Mars\",\"Earth\",\"Mars\",\"Earth\",\"Earth\",\"Europa\",\"Earth\",\"Earth\",\"Europa\",\"Europa\",\"Earth\",\"Earth\",\"Earth\",\"Earth\",\"Earth\",\"Earth\",\"Earth\",\"Earth\",\"Earth\",\"Earth\",\"Earth\",\"Earth\",\"Earth\",\"Earth\",\"Earth\",\"Earth\",\"Europa\",\"Earth\",\"Earth\",\"Earth\",\"Mars\",\"Europa\",\"Earth\",\"Earth\",\"Earth\",\"Earth\",\"Europa\",\"Earth\",\"Europa\",\"Europa\",\"Europa\",\"Mars\",\"Mars\",\"Mars\",\"Mars\",\"Earth\",\"Earth\",\"missing\",\"Mars\",\"Europa\",\"Mars\",\"Mars\",\"Earth\",\"Earth\",\"Earth\",\"Europa\",\"Earth\",\"Earth\",\"Earth\",\"Europa\",\"Europa\",\"Earth\",\"Earth\",\"Earth\",\"Earth\",\"Mars\",\"Mars\",\"Mars\",\"Mars\",\"Europa\",\"Europa\",\"Earth\",\"Earth\",\"Earth\",\"Earth\",\"Earth\",\"Mars\",\"Mars\",\"Mars\",\"Earth\",\"Mars\",\"Mars\",\"Mars\",\"Earth\",\"Europa\",\"Europa\",\"Europa\",\"Europa\",\"Europa\",\"Europa\",\"Earth\",\"Earth\",\"Europa\",\"Europa\",\"Europa\",\"Earth\",\"Earth\",\"Earth\",\"Earth\",\"Earth\",\"Earth\",\"Mars\",\"Mars\",\"Earth\",\"Earth\",\"Earth\",\"Europa\",\"Europa\",\"Earth\",\"Mars\",\"Earth\",\"Europa\",\"Europa\",\"Earth\",\"Earth\",\"missing\",\"Earth\",\"Earth\",\"Earth\",\"Earth\",\"Europa\",\"Mars\",\"Earth\",\"Earth\",\"Earth\",\"Europa\",\"Earth\",\"Earth\",\"Earth\",\"Earth\",\"Earth\",\"Europa\",\"Europa\",\"Europa\",\"Europa\",\"Europa\",\"Europa\",\"Europa\",\"Europa\",\"Mars\",\"Mars\",\"Mars\",\"Earth\",\"Earth\",\"Earth\",\"Europa\",\"Earth\",\"Earth\",\"Mars\",\"Mars\",\"Earth\",\"Earth\",\"Earth\",\"Earth\",\"Earth\",\"Earth\",\"Earth\",\"Earth\",\"Earth\",\"Earth\",\"Earth\",\"Earth\",\"missing\",\"Europa\",\"Earth\",\"Mars\",\"Mars\",\"Mars\",\"Mars\",\"Earth\",\"Earth\",\"Earth\",\"Earth\",\"Earth\",\"Mars\",\"Europa\",\"Mars\",\"Europa\",\"Europa\",\"Earth\",\"Earth\",\"Earth\",\"Mars\",\"Mars\",\"Mars\",\"Earth\",\"Earth\",\"Earth\",\"Mars\",\"Earth\",\"Earth\",\"Earth\",\"Mars\",\"Europa\",\"Europa\",\"Earth\",\"Earth\",\"Europa\",\"Europa\",\"Earth\",\"Europa\",\"Earth\",\"Earth\",\"Earth\",\"Mars\",\"Earth\",\"missing\",\"Earth\",\"Earth\",\"Earth\",\"Earth\",\"Mars\",\"Europa\",\"Europa\",\"Europa\",\"Earth\",\"Earth\",\"Earth\",\"Mars\",\"Europa\",\"Earth\",\"Earth\",\"Earth\",\"Earth\",\"Earth\",\"Earth\",\"Earth\",\"Earth\",\"Earth\",\"Earth\",\"Earth\",\"Europa\",\"Europa\",\"Earth\",\"Earth\",\"Earth\",\"Earth\",\"Earth\",\"Earth\",\"Europa\",\"Europa\",\"Earth\",\"Mars\",\"Earth\",\"Mars\",\"Mars\",\"Mars\",\"Earth\",\"Mars\",\"Earth\",\"Earth\",\"Earth\",\"Mars\",\"Mars\",\"Earth\",\"Earth\",\"Earth\",\"Earth\",\"Earth\",\"Earth\",\"Earth\",\"Earth\",\"Mars\",\"Earth\",\"Earth\",\"Earth\",\"Earth\",\"Mars\",\"Mars\",\"Mars\",\"Earth\",\"Earth\",\"Europa\",\"Europa\",\"Europa\",\"Europa\",\"Mars\",\"Mars\",\"Europa\",\"Europa\",\"Earth\",\"Earth\",\"Earth\",\"Earth\",\"Earth\",\"Europa\",\"Europa\",\"Earth\",\"Earth\",\"Earth\",\"Mars\",\"Earth\",\"Earth\",\"Earth\",\"Europa\",\"Earth\",\"Europa\",\"Earth\",\"Earth\",\"Earth\",\"Earth\",\"Earth\",\"Earth\",\"Earth\",\"Earth\",\"Earth\",\"Earth\",\"Europa\",\"Earth\",\"Earth\",\"Earth\",\"Earth\",\"Europa\",\"Europa\",\"Earth\",\"Earth\",\"Earth\",\"Earth\",\"Earth\",\"Mars\",\"Mars\",\"Earth\",\"Europa\",\"Mars\",\"Europa\",\"Earth\",\"Europa\",\"Earth\",\"Mars\",\"Europa\",\"Europa\",\"Mars\",\"Mars\",\"Earth\",\"Mars\",\"Europa\",\"Earth\",\"Earth\",\"Earth\",\"Earth\",\"Earth\",\"Mars\",\"Earth\",\"Earth\",\"Mars\",\"Europa\",\"Europa\",\"Mars\",\"Mars\",\"Earth\",\"Europa\",\"Mars\",\"Europa\",\"Mars\",\"Europa\",\"Europa\",\"Mars\",\"Mars\",\"Earth\",\"Earth\",\"Earth\",\"missing\",\"Mars\",\"Earth\",\"Europa\",\"Mars\",\"Earth\",\"Europa\",\"Europa\",\"missing\",\"Europa\",\"Earth\",\"Mars\",\"Earth\",\"Europa\",\"Europa\",\"Europa\",\"Earth\",\"Mars\",\"Earth\",\"Europa\",\"Europa\",\"Mars\",\"Mars\",\"Earth\",\"Mars\",\"Mars\",\"Earth\",\"Earth\",\"Earth\",\"Mars\",\"Mars\",\"Mars\",\"Mars\",\"Mars\",\"Mars\",\"Mars\",\"Earth\",\"Mars\",\"Earth\",\"missing\",\"Mars\",\"Mars\",\"Mars\",\"Europa\",\"Earth\",\"Earth\",\"Earth\",\"Earth\",\"Earth\",\"Earth\",\"Earth\",\"Earth\",\"Mars\",\"Mars\",\"Mars\",\"Mars\",\"Mars\",\"Earth\",\"Earth\",\"Europa\",\"Mars\",\"Mars\",\"Mars\",\"missing\",\"Earth\",\"missing\",\"Mars\",\"Mars\",\"Earth\",\"Earth\",\"Earth\",\"Mars\",\"Earth\",\"Mars\",\"Earth\",\"Earth\",\"Earth\",\"Earth\",\"Europa\",\"Earth\",\"missing\",\"Earth\",\"Mars\",\"Mars\",\"Earth\",\"missing\",\"Europa\",\"Earth\",\"Mars\",\"Mars\",\"Earth\",\"Earth\",\"Europa\",\"Mars\",\"Earth\",\"Mars\",\"missing\",\"Mars\",\"Europa\",\"Europa\",\"Europa\",\"Europa\",\"Europa\",\"Earth\",\"Europa\",\"Europa\",\"Earth\",\"Earth\",\"Earth\",\"Earth\",\"Earth\",\"Earth\",\"Earth\",\"Mars\",\"Earth\",\"Europa\",\"Earth\",\"Mars\",\"Earth\",\"Mars\",\"Europa\",\"Europa\",\"Europa\",\"Europa\",\"Earth\",\"Earth\",\"Mars\",\"Earth\",\"Earth\",\"Earth\",\"Earth\",\"Europa\",\"Europa\",\"Earth\",\"Mars\",\"Earth\",\"Earth\",\"Europa\",\"Mars\",\"Earth\",\"Earth\",\"Earth\",\"Earth\",\"Earth\",\"Europa\",\"Europa\",\"Earth\",\"Earth\",\"Earth\",\"Earth\",\"Earth\",\"Mars\",\"Earth\",\"Earth\",\"Earth\",\"Earth\",\"Earth\",\"Earth\",\"Earth\",\"Earth\",\"Earth\",\"Earth\",\"Earth\",\"Earth\",\"Earth\",\"Earth\",\"Europa\",\"Mars\",\"Mars\",\"Mars\",\"Mars\",\"Earth\",\"Earth\",\"Earth\",\"Mars\",\"Mars\",\"Mars\",\"Mars\",\"Europa\",\"Earth\",\"Mars\",\"Europa\",\"Mars\",\"Earth\",\"Earth\",\"Earth\",\"Europa\",\"Earth\",\"Earth\",\"Mars\",\"Mars\",\"Mars\",\"missing\",\"Earth\",\"Earth\",\"Earth\",\"Mars\",\"Europa\",\"Europa\",\"Europa\",\"Europa\",\"Europa\",\"Europa\",\"Europa\",\"Europa\",\"Earth\",\"Earth\",\"Mars\",\"Earth\",\"Earth\",\"Mars\",\"Mars\",\"Earth\",\"Earth\",\"Europa\",\"Earth\",\"Europa\",\"Earth\",\"Earth\",\"Earth\",\"Earth\",\"Earth\",\"Earth\",\"Mars\",\"Earth\",\"Earth\",\"Europa\",\"Earth\",\"Europa\",\"Earth\",\"Earth\",\"Earth\",\"Earth\",\"Earth\",\"Europa\",\"Europa\",\"missing\",\"Europa\",\"Europa\",\"Earth\",\"Earth\",\"Europa\",\"Europa\",\"Europa\",\"Europa\",\"Earth\",\"Earth\",\"Earth\",\"Earth\",\"Earth\",\"Earth\",\"Earth\",\"Earth\",\"Mars\",\"Mars\",\"Mars\",\"Mars\",\"Mars\",\"Earth\",\"Earth\",\"Earth\",\"Earth\",\"Earth\",\"Earth\",\"Earth\",\"Europa\",\"Europa\",\"Europa\",\"Mars\",\"Mars\",\"Mars\",\"Mars\",\"Earth\",\"Mars\",\"Europa\",\"Europa\",\"Europa\",\"Europa\",\"Europa\",\"Earth\",\"Earth\",\"Earth\",\"Earth\",\"Earth\",\"Earth\",\"Earth\",\"Earth\",\"Earth\",\"Earth\",\"Europa\",\"Earth\",\"Earth\",\"Earth\",\"Europa\",\"Mars\",\"Earth\",\"Earth\",\"Earth\",\"Earth\",\"Earth\",\"missing\",\"Europa\",\"Europa\",\"Europa\",\"Earth\",\"Mars\",\"Mars\",\"Earth\",\"Earth\",\"Earth\",\"Mars\",\"Earth\",\"Earth\",\"Earth\",\"Earth\",\"Earth\",\"Earth\",\"Mars\",\"Earth\",\"Earth\",\"Earth\",\"Earth\",\"Earth\",\"Earth\",\"Europa\",\"Earth\",\"Earth\",\"Europa\",\"Earth\",\"Earth\",\"Earth\",\"Earth\",\"Earth\",\"Earth\",\"Earth\",\"Earth\",\"Earth\",\"Earth\",\"Earth\",\"Europa\",\"Europa\",\"Earth\",\"Mars\",\"Earth\",\"Earth\",\"Europa\",\"Earth\",\"Earth\",\"Mars\",\"Earth\",\"Earth\",\"Earth\",\"Earth\",\"Earth\",\"Earth\",\"Europa\",\"Europa\",\"Earth\",\"Earth\",\"Europa\",\"Europa\",\"Earth\",\"Earth\",\"Earth\",\"Earth\",\"Europa\",\"Earth\",\"Earth\",\"Earth\",\"Earth\",\"Earth\",\"Earth\",\"Earth\",\"Earth\",\"Earth\",\"Earth\",\"Earth\",\"Earth\",\"Earth\",\"Europa\",\"Earth\",\"Earth\",\"Earth\",\"Europa\",\"Earth\",\"Europa\",\"Europa\",\"Europa\",\"Europa\",\"Earth\",\"Mars\",\"Europa\",\"Earth\",\"Earth\",\"Earth\",\"Earth\",\"Europa\",\"Europa\",\"Europa\",\"Earth\",\"Earth\",\"Earth\",\"Earth\",\"Mars\",\"Europa\",\"Earth\",\"Europa\",\"Europa\",\"Europa\",\"Earth\",\"Mars\",\"missing\",\"Earth\",\"Mars\",\"Earth\",\"Earth\",\"Earth\",\"Earth\",\"Earth\",\"Earth\",\"Earth\",\"Earth\",\"missing\",\"Europa\",\"Europa\",\"Earth\",\"Earth\",\"Earth\",\"Earth\",\"Earth\",\"Earth\",\"Earth\",\"Mars\",\"Mars\",\"Mars\",\"Mars\",\"Mars\",\"Mars\",\"Mars\",\"Earth\",\"Mars\",\"Earth\",\"Europa\",\"Earth\",\"Europa\",\"Earth\",\"Earth\",\"Earth\",\"Europa\",\"missing\",\"Earth\",\"Earth\",\"Earth\",\"Earth\",\"Earth\",\"Earth\",\"Europa\",\"Earth\",\"Europa\",\"Earth\",\"Europa\",\"Europa\",\"Earth\",\"Earth\",\"Mars\",\"Earth\",\"Earth\",\"Earth\",\"Earth\",\"Earth\",\"Earth\",\"Earth\",\"Europa\",\"Europa\",\"Europa\",\"Earth\",\"Earth\",\"Mars\",\"Mars\",\"Mars\",\"Earth\",\"Earth\",\"Earth\",\"Earth\",\"Earth\",\"Earth\",\"Earth\",\"Earth\",\"Earth\",\"Mars\",\"Mars\",\"Mars\",\"Earth\",\"Europa\",\"Mars\",\"Earth\",\"Earth\",\"Earth\",\"Earth\",\"Earth\",\"Earth\",\"Earth\",\"Earth\",\"Earth\",\"Earth\",\"Mars\",\"Mars\",\"Earth\",\"Earth\",\"Mars\",\"Mars\",\"Earth\",\"Earth\",\"Earth\",\"Earth\",\"Europa\",\"Earth\",\"Mars\",\"Mars\",\"Mars\",\"Earth\",\"Mars\",\"Earth\",\"Earth\",\"Earth\",\"Earth\",\"Earth\",\"Earth\",\"Earth\",\"Earth\",\"Earth\",\"Europa\",\"Earth\",\"Earth\",\"Europa\",\"Earth\",\"Earth\",\"Earth\",\"Earth\",\"Mars\",\"Earth\",\"Europa\",\"Europa\",\"Europa\",\"Europa\",\"Europa\",\"Europa\",\"Europa\",\"Europa\",\"Europa\",\"Europa\",\"Earth\",\"Europa\",\"Europa\",\"Europa\",\"Europa\",\"Mars\",\"Earth\",\"Earth\",\"Earth\",\"missing\",\"Earth\",\"Earth\",\"Earth\",\"Earth\",\"Earth\",\"Mars\",\"Europa\",\"Mars\",\"Mars\",\"Earth\",\"Earth\",\"Mars\",\"Mars\",\"Mars\",\"Mars\",\"Mars\",\"Earth\",\"Europa\",\"Europa\",\"Europa\",\"Europa\",\"Europa\",\"Europa\",\"Europa\",\"Europa\",\"Mars\",\"Earth\",\"Earth\",\"Earth\",\"Earth\",\"Earth\",\"Earth\",\"Earth\",\"Earth\",\"Europa\",\"Mars\",\"Earth\",\"Mars\",\"Mars\",\"Europa\",\"Mars\",\"Europa\",\"Europa\",\"Europa\",\"Europa\",\"Europa\",\"Mars\",\"missing\",\"Mars\",\"Mars\",\"Mars\",\"Mars\",\"Mars\",\"Earth\",\"Europa\",\"Earth\",\"Mars\",\"missing\",\"Earth\",\"Europa\",\"Earth\",\"Mars\",\"Earth\",\"Earth\",\"Earth\",\"Earth\",\"Mars\",\"Mars\",\"Earth\",\"Earth\",\"Mars\",\"Europa\",\"Europa\",\"Earth\",\"Earth\",\"Earth\",\"Earth\",\"Earth\",\"Europa\",\"Europa\",\"Earth\",\"Earth\",\"Mars\",\"Mars\",\"Earth\",\"Earth\",\"Earth\",\"Earth\",\"Earth\",\"Earth\",\"Earth\",\"Earth\",\"Earth\",\"Earth\",\"Earth\",\"Mars\",\"Europa\",\"Europa\",\"Europa\",\"Europa\",\"Europa\",\"Europa\",\"Earth\",\"Earth\",\"Earth\",\"Earth\",\"Earth\",\"Earth\",\"Earth\",\"Earth\",\"missing\",\"Earth\",\"missing\",\"Earth\",\"Mars\",\"Mars\",\"Mars\",\"Mars\",\"Mars\",\"Earth\",\"Earth\",\"Europa\",\"missing\",\"Europa\",\"Mars\",\"Earth\",\"Earth\",\"Earth\",\"Mars\",\"Mars\",\"Earth\",\"Europa\",\"Earth\",\"Mars\",\"Earth\",\"Earth\",\"Mars\",\"Europa\",\"Europa\",\"Europa\",\"Mars\",\"Earth\",\"Earth\",\"Mars\",\"Mars\",\"Europa\",\"missing\",\"Europa\",\"Europa\",\"Europa\",\"Earth\",\"Earth\",\"Mars\",\"Mars\",\"Earth\",\"Mars\",\"Europa\",\"Earth\",\"Earth\",\"Earth\",\"Earth\",\"Earth\",\"Europa\",\"Earth\",\"Mars\",\"Earth\",\"Earth\",\"Earth\",\"Earth\",\"Earth\",\"Europa\",\"Europa\",\"Europa\",\"Mars\",\"Mars\",\"Mars\",\"Mars\",\"Earth\",\"Earth\",\"Earth\",\"Earth\",\"Earth\",\"Europa\",\"Europa\",\"Earth\",\"missing\",\"Europa\",\"Europa\",\"Earth\",\"Europa\",\"Europa\",\"Europa\",\"Europa\",\"Europa\",\"Mars\",\"Mars\",\"Mars\",\"Europa\",\"Mars\",\"Mars\",\"Earth\",\"Europa\",\"Europa\",\"Earth\",\"Mars\",\"Earth\",\"Europa\",\"Europa\",\"Earth\",\"Earth\",\"Europa\",\"Mars\",\"Earth\",\"Earth\",\"Earth\",\"Earth\",\"Earth\",\"Earth\",\"Earth\",\"Earth\",\"Earth\",\"Mars\",\"Europa\",\"Europa\",\"Europa\",\"Europa\",\"Europa\",\"Europa\",\"Earth\",\"Earth\",\"Earth\",\"Europa\",\"Europa\",\"Mars\",\"Mars\",\"Earth\",\"Earth\",\"Europa\",\"Europa\",\"Europa\",\"Earth\",\"Earth\",\"Mars\",\"Earth\",\"Earth\",\"Earth\",\"Earth\",\"Earth\",\"Earth\",\"Earth\",\"Earth\",\"Earth\",\"Earth\",\"Earth\",\"Europa\",\"Earth\",\"Earth\",\"Earth\",\"Earth\",\"Earth\",\"Earth\",\"Mars\",\"Earth\",\"Europa\",\"Earth\",\"Europa\",\"Earth\",\"Earth\",\"Mars\",\"Earth\",\"Europa\",\"Europa\",\"Europa\",\"Europa\",\"Earth\",\"Earth\",\"Mars\",\"Mars\",\"Europa\",\"Europa\",\"Europa\",\"Europa\",\"Mars\",\"Earth\",\"Mars\",\"Mars\",\"Mars\",\"Mars\",\"Mars\",\"Earth\",\"Europa\",\"Europa\",\"Mars\",\"Earth\",\"Earth\",\"Earth\",\"Earth\",\"Earth\",\"Mars\",\"Earth\",\"Earth\",\"Earth\",\"Earth\",\"Earth\",\"Mars\",\"Mars\",\"Europa\",\"Mars\",\"Earth\",\"Mars\",\"Mars\",\"Earth\",\"Earth\",\"Earth\",\"Earth\",\"Mars\",\"Earth\",\"Earth\",\"Earth\",\"Earth\",\"Mars\",\"Mars\",\"Mars\",\"Europa\",\"Europa\",\"Earth\",\"Mars\",\"missing\",\"Europa\",\"missing\",\"Earth\",\"Earth\",\"Earth\",\"Mars\",\"Earth\",\"Earth\",\"Europa\",\"Mars\",\"Mars\",\"Mars\",\"Earth\",\"Earth\",\"Europa\",\"Earth\",\"Earth\",\"Mars\",\"Earth\",\"Earth\",\"Europa\",\"Europa\",\"Earth\",\"Earth\",\"Earth\",\"Earth\",\"Europa\",\"Earth\",\"Europa\",\"Mars\",\"Earth\",\"Earth\",\"Earth\",\"Earth\",\"Earth\",\"Earth\",\"Earth\",\"Earth\",\"Europa\",\"Europa\",\"Europa\",\"Earth\",\"Earth\",\"Earth\",\"Earth\",\"Earth\",\"Earth\",\"Europa\",\"missing\",\"Europa\",\"Earth\",\"Earth\",\"Earth\",\"Earth\",\"Mars\",\"Europa\",\"Europa\",\"Europa\",\"Earth\",\"Europa\",\"Europa\",\"Earth\",\"Earth\",\"Earth\",\"Earth\",\"Earth\",\"Earth\",\"Mars\",\"Earth\",\"Earth\",\"Earth\",\"Earth\",\"Earth\",\"Europa\",\"Earth\",\"Earth\",\"Earth\",\"Earth\",\"Earth\",\"Earth\",\"Earth\",\"Earth\",\"Earth\",\"missing\",\"Europa\",\"Europa\",\"Mars\",\"Mars\",\"Earth\",\"Earth\",\"Mars\",\"Mars\",\"Earth\",\"Europa\",\"Mars\",\"Earth\",\"Europa\",\"Earth\",\"Earth\",\"missing\",\"Earth\",\"Europa\",\"Europa\",\"Europa\",\"Earth\",\"Earth\",\"missing\",\"Earth\",\"Earth\",\"Earth\",\"Earth\",\"Earth\",\"Europa\",\"Earth\",\"Mars\",\"Mars\",\"Earth\",\"Earth\",\"Mars\",\"Earth\",\"Europa\",\"Europa\",\"Europa\",\"Europa\",\"Earth\",\"missing\",\"Mars\",\"Earth\",\"Earth\",\"Earth\",\"Earth\",\"Earth\",\"Mars\",\"Earth\",\"Earth\",\"Earth\",\"Earth\",\"Earth\",\"Earth\",\"Earth\",\"Earth\",\"Earth\",\"Earth\",\"Europa\",\"Europa\",\"Earth\",\"Earth\",\"Earth\",\"Earth\",\"missing\",\"Earth\",\"missing\",\"Earth\",\"Earth\",\"Earth\",\"Europa\",\"Europa\",\"Earth\",\"Earth\",\"Earth\",\"Earth\",\"Earth\",\"Europa\",\"Earth\",\"Mars\",\"Earth\",\"Earth\",\"Earth\",\"Europa\",\"Europa\",\"Mars\",\"Mars\",\"Mars\",\"Mars\",\"Earth\",\"Europa\",\"Europa\",\"Earth\",\"Earth\",\"Earth\",\"Earth\",\"Europa\",\"Mars\",\"Mars\",\"Earth\",\"Earth\",\"Earth\",\"Earth\",\"Earth\",\"Earth\",\"Earth\",\"Earth\",\"Earth\",\"Earth\",\"Earth\",\"Earth\",\"Earth\",\"Earth\",\"Earth\",\"Earth\",\"Earth\",\"Earth\",\"Earth\",\"Mars\",\"Mars\",\"Europa\",\"Europa\",\"Mars\",\"Earth\",\"Earth\",\"Earth\",\"Earth\",\"Earth\",\"Europa\",\"Earth\",\"Earth\",\"Mars\",\"Earth\",\"Earth\",\"Mars\",\"Mars\",\"Earth\",\"Earth\",\"Mars\",\"Mars\",\"Mars\",\"Mars\",\"Earth\",\"Earth\",\"Europa\",\"Europa\",\"Mars\",\"Mars\",\"Europa\",\"Europa\",\"Mars\",\"Earth\",\"Earth\",\"Mars\",\"Mars\",\"Mars\",\"Earth\",\"Earth\",\"Earth\",\"Europa\",\"Earth\",\"Europa\",\"Europa\",\"Europa\",\"missing\",\"Earth\",\"Earth\",\"Mars\",\"Earth\",\"Earth\",\"Earth\",\"Earth\",\"Earth\",\"Earth\",\"Europa\",\"Earth\",\"Earth\",\"Earth\",\"Europa\",\"missing\",\"Europa\",\"Mars\",\"Europa\",\"Europa\",\"Earth\",\"Earth\",\"Earth\",\"Earth\",\"Earth\",\"Earth\",\"Earth\",\"Earth\",\"Earth\",\"Earth\",\"Mars\",\"Earth\",\"Mars\",\"Europa\",\"Earth\",\"Earth\",\"Europa\",\"Earth\",\"Earth\",\"Mars\",\"Earth\",\"Mars\",\"Mars\",\"missing\",\"Earth\",\"Mars\",\"Mars\",\"Europa\",\"Earth\",\"Earth\",\"Europa\",\"missing\",\"Earth\",\"Earth\",\"Earth\",\"Mars\",\"Mars\",\"Earth\",\"Earth\",\"Earth\",\"Earth\",\"Earth\",\"Earth\",\"Earth\",\"Europa\",\"Mars\",\"Mars\",\"Earth\",\"Europa\",\"Europa\",\"Europa\",\"Earth\",\"Earth\",\"Earth\",\"Earth\",\"Europa\",\"Europa\",\"Earth\",\"Mars\",\"Earth\",\"Earth\",\"Earth\",\"Earth\",\"Mars\",\"Europa\",\"Earth\",\"Earth\",\"Mars\",\"Europa\",\"Earth\",\"Earth\",\"Mars\",\"Earth\",\"Earth\",\"Earth\",\"Earth\",\"Mars\",\"Earth\",\"Europa\",\"Earth\",\"Earth\",\"Earth\",\"Earth\",\"missing\",\"Earth\",\"Earth\",\"Earth\",\"Earth\",\"Earth\",\"Earth\",\"Europa\",\"Europa\",\"Europa\",\"missing\",\"Europa\",\"Europa\",\"Mars\",\"Earth\",\"Earth\",\"Europa\",\"Europa\",\"Earth\",\"Earth\",\"Earth\",\"Earth\",\"Earth\",\"Earth\",\"Earth\",\"Earth\",\"Earth\",\"Earth\",\"Earth\",\"Mars\",\"Europa\",\"Mars\",\"Earth\",\"Earth\",\"Earth\",\"Earth\",\"Earth\",\"Earth\",\"Earth\",\"Europa\",\"Europa\",\"Europa\",\"Europa\",\"Europa\",\"Earth\",\"Earth\",\"Earth\",\"Earth\",\"Mars\",\"Mars\",\"Mars\",\"Mars\",\"Mars\",\"Mars\",\"Mars\",\"Earth\",\"Europa\",\"Europa\",\"Europa\",\"Europa\",\"Europa\",\"Earth\",\"Earth\",\"Europa\",\"Earth\",\"Earth\",\"Earth\",\"Europa\",\"Europa\",\"Europa\",\"Earth\",\"Europa\",\"Earth\",\"Earth\",\"Earth\",\"Earth\",\"Mars\",\"Earth\",\"Europa\",\"Europa\",\"Earth\",\"Europa\",\"Europa\",\"Europa\",\"Europa\",\"Europa\",\"Europa\",\"Earth\",\"Mars\",\"Earth\",\"Earth\",\"Earth\",\"Earth\",\"Mars\",\"Europa\",\"Earth\",\"Europa\",\"Europa\",\"Europa\",\"Europa\",\"Europa\",\"Europa\",\"Earth\",\"Earth\",\"Europa\",\"Europa\",\"Europa\",\"Earth\",\"Earth\",\"Europa\",\"Europa\",\"Europa\",\"Europa\",\"Mars\",\"Earth\",\"Earth\",\"Earth\",\"Earth\",\"Mars\",\"Mars\",\"Mars\",\"Mars\",\"Mars\",\"Earth\",\"Earth\",\"Europa\",\"Mars\",\"Mars\",\"Mars\",\"Mars\",\"Earth\",\"Earth\",\"Mars\",\"Mars\",\"Europa\",\"Europa\",\"Europa\",\"Earth\",\"Earth\",\"Earth\",\"Mars\",\"Earth\",\"Mars\",\"Mars\",\"Mars\",\"Earth\",\"Earth\",\"Mars\",\"Mars\",\"Mars\",\"Earth\",\"Earth\",\"Earth\",\"Earth\",\"Earth\",\"Earth\",\"Earth\",\"Earth\",\"Earth\",\"Earth\",\"Europa\",\"Europa\",\"Europa\",\"Europa\",\"Europa\",\"Europa\",\"Earth\",\"Earth\",\"Earth\",\"Earth\",\"Earth\",\"Earth\",\"Earth\",\"Earth\",\"Earth\",\"Earth\",\"Earth\",\"Earth\",\"Mars\",\"Mars\",\"Mars\",\"Earth\",\"Earth\",\"Europa\",\"Earth\",\"Europa\",\"Europa\",\"Europa\",\"Earth\",\"Earth\",\"Mars\",\"Mars\",\"Mars\",\"missing\",\"Mars\",\"Earth\",\"Mars\",\"Earth\",\"Earth\",\"Earth\",\"Earth\",\"Earth\",\"Earth\",\"Earth\",\"Earth\",\"Earth\",\"Earth\",\"Earth\",\"Earth\",\"Mars\",\"Mars\",\"Earth\",\"Europa\",\"Europa\",\"Europa\",\"Europa\",\"Earth\",\"Earth\",\"Earth\",\"Earth\",\"Mars\",\"Earth\",\"Earth\",\"Mars\",\"Earth\",\"Mars\",\"Mars\",\"Europa\",\"Europa\",\"Mars\",\"Europa\",\"Earth\",\"Earth\",\"Earth\",\"Earth\",\"Europa\",\"Mars\",\"Earth\",\"Europa\",\"Europa\",\"Europa\",\"Europa\",\"Earth\",\"Earth\",\"Earth\",\"Earth\",\"Earth\",\"Europa\",\"Europa\",\"Europa\",\"Europa\",\"Europa\",\"Europa\",\"Earth\",\"Earth\",\"Earth\",\"Europa\",\"Earth\",\"Mars\",\"Mars\",\"Mars\",\"Mars\",\"Earth\",\"Mars\",\"Earth\",\"Earth\",\"Mars\",\"Earth\",\"Europa\",\"Mars\",\"Mars\",\"Mars\",\"Europa\",\"Mars\",\"Mars\",\"Mars\",\"Europa\",\"Europa\",\"Europa\",\"Earth\",\"Mars\",\"Europa\",\"Earth\",\"Earth\",\"Earth\",\"Earth\",\"Mars\",\"Mars\",\"Mars\",\"Earth\",\"Europa\",\"Earth\",\"Mars\",\"Europa\",\"Mars\",\"Mars\",\"Mars\",\"Mars\",\"Earth\",\"Earth\",\"Europa\",\"Europa\",\"Europa\",\"Europa\",\"Europa\",\"Europa\",\"Earth\",\"Earth\",\"missing\",\"Earth\",\"Earth\",\"Earth\",\"Earth\",\"Earth\",\"Earth\",\"Europa\",\"Earth\",\"Mars\",\"Mars\",\"Earth\",\"Earth\",\"Mars\",\"Europa\",\"Europa\",\"Europa\",\"Earth\",\"Europa\",\"Europa\",\"Earth\",\"Europa\",\"Europa\",\"Europa\",\"Europa\",\"Mars\",\"missing\",\"Europa\",\"Earth\",\"Earth\",\"Mars\",\"Earth\",\"Earth\",\"Europa\",\"Earth\",\"Earth\",\"Mars\",\"Mars\",\"Europa\",\"Europa\",\"Europa\",\"Europa\",\"Europa\",\"Europa\",\"missing\",\"Earth\",\"Earth\",\"Earth\",\"Earth\",\"Earth\",\"Earth\",\"missing\",\"Earth\",\"Earth\",\"Mars\",\"Mars\",\"Mars\",\"missing\",\"Earth\",\"Europa\",\"Europa\",\"Earth\",\"Europa\",\"Europa\",\"missing\",\"Earth\",\"Earth\",\"Europa\",\"Europa\",\"Earth\",\"Earth\",\"Mars\",\"Mars\",\"Earth\",\"Mars\",\"Europa\",\"Earth\",\"Earth\",\"Earth\",\"missing\",\"Europa\",\"Europa\",\"Earth\",\"Earth\",\"Earth\",\"Earth\",\"Earth\",\"Europa\",\"Europa\",\"Earth\",\"Earth\",\"Mars\",\"Earth\",\"Earth\",\"Earth\",\"Earth\",\"Europa\",\"Europa\",\"Earth\",\"Europa\",\"Earth\",\"Earth\",\"Earth\",\"Earth\",\"Earth\",\"Earth\",\"Earth\",\"Mars\",\"Earth\",\"Mars\",\"Earth\",\"Earth\",\"Earth\",\"Mars\",\"Earth\",\"Mars\",\"Mars\",\"Earth\",\"Earth\",\"Earth\",\"Earth\",\"Mars\",\"Europa\",\"Earth\",\"Europa\",\"Mars\",\"Mars\",\"Earth\",\"Earth\",\"Earth\",\"Earth\",\"Earth\",\"Earth\",\"Earth\",\"Earth\",\"Earth\",\"Earth\",\"Earth\",\"Earth\",\"Earth\",\"Earth\",\"Earth\",\"Earth\",\"Earth\",\"Earth\",\"Europa\",\"Europa\",\"Earth\",\"Mars\",\"Mars\",\"Mars\",\"Earth\",\"Earth\",\"Earth\",\"Europa\",\"Earth\",\"Earth\",\"Earth\",\"Earth\",\"Europa\",\"Earth\",\"Europa\",\"Europa\",\"Europa\",\"Europa\",\"Europa\",\"Europa\",\"Europa\",\"Earth\",\"Earth\",\"missing\",\"Europa\",\"missing\",\"Mars\",\"Europa\",\"Earth\",\"Mars\",\"Earth\",\"Earth\",\"Earth\",\"Earth\",\"Europa\",\"Earth\",\"Earth\",\"Earth\",\"Europa\",\"Europa\",\"Earth\",\"Europa\",\"Europa\",\"Europa\",\"Europa\",\"Europa\",\"Earth\",\"Earth\",\"Earth\",\"Earth\",\"Earth\",\"Mars\",\"Mars\",\"Mars\",\"Mars\",\"Earth\",\"Europa\",\"Mars\",\"Mars\",\"Earth\",\"Earth\",\"Earth\",\"Mars\",\"Mars\",\"Mars\",\"Mars\",\"Mars\",\"Mars\",\"Europa\",\"Earth\",\"Europa\",\"Earth\",\"Mars\",\"Mars\",\"Europa\",\"Earth\",\"Earth\",\"Earth\",\"Earth\",\"Earth\",\"Europa\",\"Europa\",\"Europa\",\"Earth\",\"Earth\",\"Earth\",\"Mars\",\"Earth\",\"Earth\",\"Europa\",\"Europa\",\"Europa\",\"Earth\",\"Europa\",\"Europa\",\"Europa\",\"Europa\",\"Earth\",\"Earth\",\"Earth\",\"Earth\",\"Earth\",\"Mars\",\"Earth\",\"Europa\",\"Earth\",\"Earth\",\"Mars\",\"Earth\",\"Earth\",\"Earth\",\"Earth\",\"Earth\",\"Earth\",\"Mars\",\"Earth\",\"Mars\",\"Europa\",\"Europa\",\"Europa\",\"Europa\",\"Europa\",\"Europa\",\"Europa\",\"Europa\",\"Earth\",\"Europa\",\"Mars\",\"Mars\",\"Earth\",\"Earth\",\"Europa\",\"Mars\",\"Earth\",\"Europa\",\"Earth\",\"Mars\",\"Mars\",\"Mars\",\"Europa\",\"Mars\",\"Earth\",\"missing\",\"Mars\",\"Mars\",\"Mars\",\"Europa\",\"Earth\",\"Earth\",\"Earth\",\"Earth\",\"Earth\",\"Earth\",\"Earth\",\"Earth\",\"Europa\",\"Europa\",\"Earth\",\"Earth\",\"Earth\",\"Earth\",\"Earth\",\"Earth\",\"Earth\",\"Earth\",\"Europa\",\"Mars\",\"Mars\",\"Earth\",\"Earth\",\"Europa\",\"Europa\",\"Europa\",\"Europa\",\"Europa\",\"Europa\",\"Mars\",\"Mars\",\"Earth\",\"Earth\",\"Earth\",\"Mars\",\"Mars\",\"Earth\",\"Mars\",\"Earth\",\"Earth\",\"Earth\",\"Mars\",\"Mars\",\"Earth\",\"Mars\",\"Europa\",\"Earth\",\"Mars\",\"Earth\",\"Earth\",\"Europa\",\"Earth\",\"Mars\",\"Earth\",\"missing\",\"Mars\",\"Earth\",\"Earth\",\"missing\",\"missing\",\"Europa\",\"Mars\",\"Europa\",\"Europa\",\"Earth\",\"Earth\",\"Earth\",\"Earth\",\"Mars\",\"Earth\",\"Earth\",\"Europa\",\"Europa\",\"Europa\",\"Europa\",\"Earth\",\"Earth\",\"Earth\",\"Earth\",\"Earth\",\"Europa\",\"Europa\",\"Earth\",\"Earth\",\"Mars\",\"Mars\",\"Earth\",\"Earth\",\"Earth\",\"Mars\",\"Europa\",\"Earth\",\"Earth\",\"Earth\",\"Europa\",\"Earth\",\"Earth\",\"Earth\",\"Earth\",\"Earth\",\"Earth\",\"Europa\",\"Europa\",\"Europa\",\"Europa\",\"Europa\",\"Europa\",\"Europa\",\"Earth\",\"Earth\",\"Mars\",\"Europa\",\"Europa\",\"Earth\",\"Earth\",\"Earth\",\"Mars\",\"Earth\",\"Earth\",\"Europa\",\"Mars\",\"Earth\",\"Earth\",\"Earth\",\"Earth\",\"Earth\",\"Mars\",\"Europa\",\"Mars\",\"Earth\",\"Europa\",\"Europa\",\"Europa\",\"Earth\",\"Europa\",\"Europa\",\"Europa\",\"Earth\",\"Earth\",\"Earth\",\"Earth\",\"Earth\",\"Earth\",\"Mars\",\"Earth\",\"Earth\",\"Earth\",\"Europa\",\"Europa\",\"Europa\",\"Europa\",\"Europa\",\"Earth\",\"Mars\",\"Earth\",\"Europa\",\"Earth\",\"Europa\",\"Earth\",\"Earth\",\"Mars\",\"Mars\",\"Mars\",\"Earth\",\"Europa\",\"Mars\",\"Earth\",\"Mars\",\"Earth\",\"Europa\",\"Earth\",\"Earth\",\"Mars\",\"Mars\",\"Earth\",\"Mars\",\"Earth\",\"Mars\",\"Europa\",\"Mars\",\"Mars\",\"Mars\",\"Earth\",\"missing\",\"Earth\",\"Europa\",\"Europa\",\"Europa\",\"Earth\",\"Mars\",\"Mars\",\"Mars\",\"Earth\",\"Earth\",\"Earth\",\"Earth\",\"Europa\",\"Earth\",\"Mars\",\"Earth\",\"Earth\",\"Earth\",\"Mars\",\"Mars\",\"Earth\",\"Europa\",\"Europa\",\"Earth\",\"Earth\",\"Earth\",\"Earth\",\"Earth\",\"Earth\",\"Europa\",\"Europa\",\"Earth\",\"Earth\",\"Europa\",\"Europa\",\"Earth\",\"Earth\",\"Earth\",\"Mars\",\"Europa\",\"Europa\",\"Earth\",\"Earth\",\"Earth\",\"Earth\",\"Earth\",\"Earth\",\"Earth\",\"Earth\",\"Earth\",\"Europa\",\"Earth\",\"Mars\",\"Europa\",\"Europa\",\"Europa\",\"Europa\",\"Earth\",\"Earth\",\"Mars\",\"Mars\",\"Earth\",\"Earth\",\"Europa\",\"Europa\",\"Europa\",\"Earth\",\"Earth\",\"Earth\",\"Earth\",\"Mars\",\"Europa\",\"Europa\",\"missing\",\"Europa\",\"Europa\",\"Europa\",\"Europa\",\"Europa\",\"Earth\",\"Earth\",\"Earth\",\"Europa\",\"Earth\",\"Europa\",\"Europa\",\"Earth\",\"Earth\",\"Earth\",\"Mars\",\"Mars\",\"Mars\",\"Mars\",\"Mars\",\"Europa\",\"Europa\",\"Europa\",\"Earth\",\"Earth\",\"Mars\",\"Europa\",\"Earth\",\"Earth\",\"Europa\",\"Earth\",\"Earth\",\"Europa\",\"Mars\",\"Mars\",\"Earth\",\"Europa\",\"Mars\",\"missing\",\"Earth\",\"Europa\",\"Europa\",\"Earth\",\"Earth\",\"Europa\",\"Europa\",\"Earth\",\"Europa\",\"Europa\",\"Europa\",\"Earth\",\"Earth\",\"Earth\",\"Earth\",\"Earth\",\"Earth\",\"Earth\",\"Europa\",\"Earth\",\"Europa\",\"Earth\",\"Earth\",\"Mars\",\"Europa\",\"Earth\",\"Mars\",\"Earth\",\"Mars\",\"Earth\",\"Earth\",\"Earth\",\"Earth\",\"Europa\",\"Earth\",\"Earth\",\"Europa\",\"Earth\",\"Earth\",\"Earth\",\"Earth\",\"Mars\",\"Europa\",\"Europa\",\"Europa\",\"Earth\",\"Mars\",\"Mars\",\"Europa\",\"Europa\",\"Mars\",\"Earth\",\"Mars\",\"Earth\",\"Earth\",\"missing\",\"Mars\",\"Earth\",\"Earth\",\"Earth\",\"Earth\",\"Europa\",\"missing\",\"Europa\",\"Europa\",\"Earth\",\"Earth\",\"Europa\",\"Earth\",\"Mars\",\"Earth\",\"Mars\",\"Europa\",\"Mars\",\"Earth\",\"Europa\",\"Europa\",\"Europa\",\"Mars\",\"Mars\",\"Earth\",\"Earth\",\"Earth\",\"Mars\",\"Mars\",\"Earth\",\"Europa\",\"Europa\",\"Europa\",\"Mars\",\"Europa\",\"Europa\",\"Mars\",\"Mars\",\"Europa\",\"Earth\",\"Earth\",\"Europa\",\"Earth\",\"Europa\",\"Europa\",\"Earth\",\"Earth\",\"Earth\",\"Earth\",\"Earth\",\"Earth\",\"Earth\",\"Earth\",\"Earth\",\"Earth\",\"Earth\",\"Earth\",\"Mars\",\"Europa\",\"Europa\",\"Earth\",\"Mars\",\"Mars\",\"Earth\",\"Europa\",\"Europa\",\"Mars\",\"Mars\",\"Earth\",\"Earth\",\"Europa\",\"Europa\",\"Earth\",\"Earth\",\"missing\",\"Mars\",\"Mars\",\"Earth\",\"missing\",\"Earth\",\"Earth\",\"missing\",\"Mars\",\"Earth\",\"Earth\",\"Earth\",\"Earth\",\"Earth\",\"Mars\",\"Mars\",\"Earth\",\"Mars\",\"Earth\",\"Earth\",\"Earth\",\"Earth\",\"Earth\",\"missing\",\"Earth\",\"Earth\",\"Earth\",\"Earth\",\"Earth\",\"Earth\",\"missing\",\"Mars\",\"Mars\",\"Europa\",\"Europa\",\"Earth\",\"Earth\",\"Europa\",\"Europa\",\"Earth\",\"Earth\",\"Earth\",\"Earth\",\"Mars\",\"Mars\",\"Europa\",\"Earth\",\"Mars\",\"Mars\",\"Earth\",\"Mars\",\"Mars\",\"Earth\",\"missing\",\"Mars\",\"Mars\",\"Earth\",\"Earth\",\"Earth\",\"Earth\",\"missing\",\"Earth\",\"Earth\",\"Earth\",\"Europa\",\"Europa\",\"Europa\",\"Europa\",\"Earth\",\"Europa\",\"Earth\",\"Earth\",\"Earth\",\"Earth\",\"Earth\",\"Earth\",\"Earth\",\"missing\",\"Earth\",\"Europa\",\"Earth\",\"Earth\",\"Earth\",\"Earth\",\"Earth\",\"Earth\",\"Earth\",\"Mars\",\"Earth\",\"Earth\",\"Earth\",\"Europa\",\"Earth\",\"Earth\",\"Earth\",\"Earth\",\"Earth\",\"Mars\",\"Earth\",\"Earth\",\"Europa\",\"Earth\",\"Earth\",\"Earth\",\"Mars\",\"Earth\",\"Earth\",\"Earth\",\"Earth\",\"Earth\",\"Earth\",\"Earth\",\"Europa\",\"Europa\",\"Europa\",\"Mars\",\"Europa\",\"Earth\",\"Earth\",\"Earth\",\"Earth\",\"Earth\",\"Earth\",\"Mars\",\"Earth\",\"Mars\",\"Earth\",\"Earth\",\"Earth\",\"Europa\",\"Earth\",\"Earth\",\"Earth\",\"Earth\",\"Earth\",\"Europa\",\"Europa\",\"Earth\",\"Earth\",\"Europa\",\"Europa\",\"Europa\",\"Europa\",\"Europa\",\"Mars\",\"Earth\",\"Mars\",\"Earth\",\"missing\",\"Earth\",\"Earth\",\"Earth\",\"Mars\",\"Mars\",\"Earth\",\"Earth\",\"Earth\",\"Mars\",\"Earth\",\"Earth\",\"Earth\",\"Mars\",\"Europa\",\"Europa\",\"Europa\",\"missing\",\"Europa\",\"Europa\",\"Earth\",\"Earth\",\"Earth\",\"Europa\",\"Europa\",\"Europa\",\"Mars\",\"Mars\",\"Mars\",\"Mars\",\"Earth\",\"Mars\",\"Mars\",\"Europa\",\"Earth\",\"Earth\",\"Europa\",\"Europa\",\"Earth\",\"Europa\",\"Earth\",\"Europa\",\"Earth\",\"Earth\",\"Mars\",\"Mars\",\"Earth\",\"Earth\",\"Earth\",\"Earth\",\"Earth\",\"Earth\",\"Europa\",\"Mars\",\"Mars\",\"Mars\",\"Earth\",\"Europa\",\"Europa\",\"Europa\",\"Earth\",\"Earth\",\"Mars\",\"Earth\",\"Earth\",\"Europa\",\"Europa\",\"Earth\",\"Europa\",\"Mars\",\"Earth\",\"Earth\",\"Earth\",\"Earth\",\"Europa\",\"Europa\",\"Europa\",\"Mars\",\"Mars\",\"Mars\",\"Earth\",\"Earth\",\"Earth\",\"Europa\",\"Europa\",\"missing\",\"Europa\",\"Europa\",\"Europa\",\"Europa\",\"Earth\",\"Earth\",\"Earth\",\"Earth\",\"Earth\",\"Earth\",\"Earth\",\"Mars\",\"Mars\",\"Earth\",\"Europa\",\"Europa\",\"Europa\",\"Europa\",\"Earth\",\"missing\",\"Mars\",\"Mars\",\"Earth\",\"Mars\",\"Mars\",\"Mars\",\"Mars\",\"Earth\",\"Earth\",\"Europa\",\"Earth\",\"Europa\",\"Europa\",\"Earth\",\"Europa\",\"Europa\",\"Earth\",\"Earth\",\"Earth\",\"Europa\",\"Earth\",\"Earth\",\"Earth\",\"Europa\",\"Earth\",\"Earth\",\"Europa\",\"Mars\",\"Mars\",\"Earth\",\"Earth\",\"Europa\",\"Europa\",\"Europa\",\"Europa\",\"Europa\",\"Europa\",\"Europa\",\"Europa\",\"Europa\",\"Earth\",\"Mars\",\"Earth\",\"Earth\",\"Earth\",\"Earth\",\"Earth\",\"Europa\",\"Europa\",\"Mars\",\"Europa\",\"Europa\",\"Europa\",\"Earth\",\"Earth\",\"Earth\",\"Earth\",\"Europa\",\"Earth\",\"Europa\",\"Europa\",\"Europa\",\"Earth\",\"Earth\",\"Mars\",\"Earth\",\"Earth\",\"Earth\",\"Earth\",\"Earth\",\"Earth\",\"Earth\",\"Earth\",\"Mars\",\"Mars\",\"Europa\",\"Europa\",\"Europa\",\"Earth\",\"Earth\",\"Earth\",\"Earth\",\"Earth\",\"Earth\",\"Europa\",\"Europa\",\"Europa\",\"Europa\",\"Earth\",\"Earth\",\"Earth\",\"Earth\",\"Earth\",\"Earth\",\"Mars\",\"Mars\",\"Mars\",\"Earth\",\"Earth\",\"Earth\",\"Earth\",\"Earth\",\"Earth\",\"Earth\",\"Earth\",\"Earth\",\"Mars\",\"Earth\",\"Earth\",\"Europa\",\"Earth\",\"Mars\",\"Earth\",\"Earth\",\"Earth\",\"Earth\",\"Earth\",\"Earth\",\"Earth\",\"Earth\",\"Earth\",\"Earth\",\"Europa\",\"Europa\",\"Europa\",\"Earth\",\"Earth\",\"Earth\",\"Earth\",\"Earth\",\"Earth\",\"Earth\",\"Europa\",\"Europa\",\"Earth\",\"Earth\",\"Earth\",\"Earth\",\"Earth\",\"Earth\",\"Europa\",\"Europa\",\"missing\",\"Europa\",\"Europa\",\"Europa\",\"Europa\",\"Europa\",\"Europa\",\"Europa\",\"Earth\",\"Mars\",\"Earth\",\"Earth\",\"Mars\",\"Earth\",\"Earth\",\"Earth\",\"Europa\",\"Earth\",\"Earth\",\"Europa\",\"Earth\",\"Europa\",\"Mars\",\"Mars\",\"Mars\",\"Earth\",\"Mars\",\"Mars\",\"Mars\",\"Mars\",\"Earth\",\"Earth\",\"Earth\",\"Earth\",\"Earth\",\"Earth\",\"Earth\",\"Earth\",\"Earth\",\"Earth\",\"Earth\",\"Earth\",\"Earth\",\"Earth\",\"Earth\",\"Europa\",\"Earth\",\"Earth\",\"Earth\",\"Earth\",\"Earth\",\"Earth\",\"Mars\",\"Earth\",\"Mars\",\"Earth\",\"Earth\",\"Earth\",\"Earth\",\"Earth\",\"Mars\",\"Earth\",\"Earth\",\"Mars\",\"Mars\",\"Europa\",\"Europa\",\"Mars\",\"Earth\",\"Mars\",\"Mars\",\"Mars\",\"Earth\",\"Mars\",\"Europa\",\"Europa\",\"Earth\",\"Earth\",\"Earth\",\"missing\",\"Earth\",\"Mars\",\"Mars\",\"Mars\",\"Earth\",\"Earth\",\"Europa\",\"Mars\",\"Mars\",\"missing\",\"Mars\",\"Europa\",\"Europa\",\"Earth\",\"Earth\",\"Mars\",\"Earth\",\"Earth\",\"Earth\",\"Europa\",\"Europa\",\"Europa\",\"Earth\",\"Europa\",\"missing\",\"Earth\",\"Earth\",\"Earth\",\"Mars\",\"Mars\",\"Mars\",\"Mars\",\"Earth\",\"Earth\",\"Earth\",\"Europa\",\"missing\",\"Earth\",\"Earth\",\"Earth\",\"Earth\",\"Earth\",\"Earth\",\"Earth\",\"Europa\",\"Earth\",\"Mars\",\"Mars\",\"Mars\",\"Mars\",\"Mars\",\"Europa\",\"Europa\",\"Earth\",\"Europa\",\"Europa\",\"Europa\",\"Earth\",\"Mars\",\"Mars\",\"Mars\",\"Earth\",\"Earth\",\"Mars\",\"Europa\",\"Europa\",\"Earth\",\"Europa\",\"Europa\",\"Earth\",\"Europa\",\"Europa\",\"Earth\",\"Earth\",\"Earth\",\"Earth\",\"Earth\",\"Earth\",\"Earth\",\"Earth\",\"Mars\",\"Mars\",\"Earth\",\"Earth\",\"Europa\",\"Earth\",\"Mars\",\"Mars\",\"Earth\",\"Earth\",\"Earth\",\"Earth\",\"Europa\",\"Earth\",\"Earth\",\"Earth\",\"Earth\",\"Earth\",\"Earth\",\"Earth\",\"Earth\",\"Earth\",\"Earth\",\"Earth\",\"Earth\",\"Earth\",\"Europa\",\"Europa\",\"Earth\",\"Europa\",\"Europa\",\"Europa\",\"Europa\",\"Earth\",\"Earth\",\"Earth\",\"Mars\",\"Earth\",\"Earth\",\"Earth\",\"Earth\",\"Earth\",\"Earth\",\"Europa\",\"Europa\",\"Earth\",\"Earth\",\"Earth\",\"Earth\",\"Earth\",\"Earth\",\"Earth\",\"Earth\",\"Europa\",\"Europa\",\"Earth\",\"Earth\",\"Earth\",\"Mars\",\"Earth\",\"Mars\",\"Earth\",\"Earth\",\"Europa\",\"Europa\",\"Europa\",\"Mars\",\"Mars\",\"Europa\",\"Europa\",\"Europa\",\"Europa\",\"Earth\",\"Europa\",\"Earth\",\"Europa\",\"Europa\",\"Europa\",\"Europa\",\"Europa\",\"Europa\",\"Earth\",\"Earth\",\"Earth\",\"Earth\",\"Mars\",\"Mars\",\"Earth\",\"Earth\",\"Mars\",\"Earth\",\"Europa\",\"Europa\",\"Earth\",\"Earth\",\"Europa\",\"Europa\",\"Mars\",\"Earth\",\"Earth\",\"Earth\",\"Earth\",\"Europa\",\"Earth\",\"Europa\",\"Earth\",\"Europa\",\"Earth\",\"Mars\",\"Earth\",\"Earth\",\"Mars\",\"Europa\",\"Mars\",\"Mars\",\"Europa\",\"Europa\",\"Europa\",\"Earth\",\"Earth\",\"Earth\",\"Mars\",\"Mars\",\"Mars\",\"Earth\",\"Earth\",\"Earth\",\"Mars\",\"Earth\",\"Europa\",\"Earth\",\"Europa\",\"Europa\",\"Earth\",\"Mars\",\"Earth\",\"Europa\",\"Mars\",\"Mars\",\"Mars\",\"Earth\",\"Earth\",\"Mars\",\"Mars\",\"Mars\",\"Earth\",\"Earth\",\"Earth\",\"Mars\",\"Europa\",\"Mars\",\"Mars\",\"Earth\",\"Europa\",\"Europa\",\"Europa\",\"Europa\",\"Mars\",\"Mars\",\"Mars\",\"Earth\",\"Earth\",\"Earth\",\"Europa\",\"Earth\",\"Mars\",\"Europa\",\"Earth\",\"Earth\",\"Mars\",\"Mars\",\"Mars\",\"Mars\",\"Mars\",\"Mars\",\"Earth\",\"Europa\",\"Europa\",\"Earth\",\"Mars\",\"Mars\",\"missing\",\"Mars\",\"Europa\",\"Europa\",\"Earth\",\"Mars\",\"Europa\",\"Europa\",\"Earth\",\"Earth\",\"Earth\",\"Earth\",\"Earth\",\"Earth\",\"Earth\",\"Earth\",\"Earth\",\"Mars\",\"Mars\",\"Europa\",\"Europa\",\"Europa\",\"Europa\",\"Europa\",\"Earth\",\"Earth\",\"Earth\",\"Earth\",\"Earth\",\"Earth\",\"Earth\",\"missing\",\"Earth\",\"Earth\",\"Earth\",\"Earth\",\"Mars\",\"Mars\",\"Earth\",\"Europa\",\"Europa\",\"Europa\",\"Mars\",\"Earth\",\"Earth\",\"Earth\",\"Earth\",\"Earth\",\"Earth\",\"Mars\",\"Earth\",\"Earth\",\"Earth\",\"Mars\",\"missing\",\"Mars\",\"Mars\",\"Earth\",\"Earth\",\"Earth\",\"Mars\",\"Mars\",\"Earth\",\"Mars\",\"Mars\",\"Mars\",\"Earth\",\"Mars\",\"Earth\",\"Earth\",\"Earth\",\"Europa\",\"Europa\",\"Europa\",\"Europa\",\"Earth\",\"Earth\",\"Earth\",\"Europa\",\"Europa\",\"Europa\",\"Mars\",\"Mars\",\"Mars\",\"Earth\",\"Earth\",\"Earth\",\"Earth\",\"Earth\",\"Mars\",\"Mars\",\"Mars\",\"Mars\",\"Earth\",\"Earth\",\"Earth\",\"Earth\",\"Europa\",\"Earth\",\"Europa\",\"Mars\",\"Europa\",\"Mars\",\"Mars\",\"Mars\",\"Mars\",\"Earth\",\"Earth\",\"Earth\",\"Earth\",\"Earth\",\"Earth\",\"Earth\",\"Earth\",\"Earth\",\"Earth\",\"Mars\",\"Europa\",\"Mars\",\"Mars\",\"Earth\",\"Mars\",\"Mars\",\"Earth\",\"Earth\",\"Earth\",\"Mars\",\"Mars\",\"Earth\",\"Earth\",\"Europa\",\"Europa\",\"Europa\",\"Earth\",\"Europa\",\"Mars\",\"Mars\",\"Earth\",\"Earth\",\"Earth\",\"Earth\",\"Earth\",\"Earth\",\"Earth\",\"Earth\",\"Earth\",\"Earth\",\"Europa\",\"Europa\",\"Earth\",\"Earth\",\"Earth\",\"Earth\",\"Mars\",\"Mars\",\"Europa\",\"Europa\",\"Europa\",\"Earth\",\"Earth\",\"Mars\",\"Earth\",\"Earth\",\"Mars\",\"Earth\",\"Earth\",\"Earth\",\"Earth\",\"Europa\",\"Earth\",\"Mars\",\"Mars\",\"Earth\",\"Earth\",\"Mars\",\"Mars\",\"Mars\",\"Earth\",\"Earth\",\"Earth\",\"Earth\",\"Earth\",\"Earth\",\"Earth\",\"Earth\",\"Europa\",\"Europa\",\"Mars\",\"Earth\",\"Earth\",\"Earth\",\"Earth\",\"Earth\",\"Mars\",\"Mars\",\"Mars\",\"Earth\",\"Earth\",\"Europa\",\"Earth\",\"Earth\",\"Earth\",\"Europa\",\"Earth\",\"Earth\",\"Earth\",\"Earth\",\"Earth\",\"Earth\",\"Earth\",\"Earth\",\"Earth\",\"Earth\",\"Earth\",\"Earth\",\"Earth\",\"Earth\",\"Europa\",\"Earth\",\"Mars\",\"Earth\",\"Earth\",\"Earth\",\"Earth\",\"Mars\",\"Earth\",\"Earth\",\"Europa\",\"missing\",\"Europa\",\"Europa\",\"Europa\",\"Earth\",\"Earth\",\"Earth\",\"Earth\",\"Earth\",\"Europa\",\"Mars\",\"Earth\",\"Earth\",\"Europa\",\"Europa\",\"Europa\",\"Earth\",\"Earth\",\"Mars\",\"Mars\",\"Mars\",\"Earth\",\"Earth\",\"Earth\",\"Earth\",\"Earth\",\"Earth\",\"Earth\",\"Mars\",\"Europa\",\"Europa\",\"Earth\",\"Earth\",\"Earth\",\"missing\",\"Earth\",\"Mars\",\"Mars\",\"Mars\",\"Earth\",\"Earth\",\"Earth\",\"Europa\",\"Mars\",\"missing\",\"Mars\",\"Mars\",\"Europa\",\"Europa\",\"Europa\",\"Europa\",\"Europa\",\"Europa\",\"Earth\",\"Mars\",\"Earth\",\"Europa\",\"Europa\",\"Earth\",\"Earth\",\"Earth\",\"Earth\",\"Mars\",\"Earth\",\"Europa\",\"Earth\",\"Mars\",\"Earth\",\"missing\",\"Earth\",\"Mars\",\"Earth\",\"Earth\",\"Earth\",\"missing\",\"Earth\",\"Earth\",\"Earth\",\"Earth\",\"Mars\",\"Mars\",\"Earth\",\"Earth\",\"Earth\",\"Europa\",\"Earth\",\"Earth\",\"Earth\",\"Mars\",\"Earth\",\"Earth\",\"Earth\",\"Earth\",\"Europa\",\"Europa\",\"Earth\",\"Earth\",\"Earth\",\"Europa\",\"Earth\",\"Earth\",\"Europa\",\"missing\",\"Mars\",\"Earth\",\"Earth\",\"Mars\",\"Mars\",\"Mars\",\"Europa\",\"Earth\",\"Earth\",\"Earth\",\"Europa\",\"Europa\",\"Mars\",\"Europa\",\"Europa\",\"Earth\",\"Earth\",\"Earth\",\"Earth\",\"Earth\",\"Earth\",\"Earth\",\"Earth\",\"Earth\",\"Earth\",\"Europa\",\"Earth\",\"Earth\",\"Earth\",\"missing\",\"Earth\",\"Mars\",\"Mars\",\"Mars\",\"Mars\",\"Earth\",\"Europa\",\"Europa\",\"Europa\",\"Mars\",\"Earth\",\"Earth\",\"Earth\",\"Earth\",\"Mars\",\"Mars\",\"Earth\",\"Earth\",\"Earth\",\"Earth\",\"Earth\",\"Earth\",\"Europa\",\"Earth\",\"Earth\",\"Earth\",\"Earth\",\"Earth\",\"Earth\",\"Earth\",\"Earth\",\"Europa\",\"Europa\",\"Europa\",\"Europa\",\"Mars\",\"Earth\",\"Europa\",\"Earth\",\"Earth\",\"Earth\",\"Earth\",\"Mars\",\"Earth\",\"Earth\",\"Europa\",\"Europa\",\"Earth\",\"Earth\",\"Earth\",\"Earth\",\"Mars\",\"Earth\",\"Earth\",\"Earth\",\"Earth\",\"Earth\",\"Europa\",\"Europa\",\"Earth\",\"Earth\",\"Earth\",\"Mars\",\"Mars\",\"Earth\",\"Mars\",\"Earth\",\"Earth\",\"Mars\",\"Earth\",\"missing\",\"Earth\",\"Mars\",\"Europa\",\"Europa\",\"Europa\",\"Europa\",\"Europa\",\"Earth\",\"Earth\",\"Mars\",\"Europa\",\"Earth\",\"Europa\",\"missing\",\"Europa\",\"Europa\",\"Earth\",\"Europa\",\"Earth\",\"Earth\",\"Europa\",\"Europa\",\"Earth\",\"Earth\",\"Mars\",\"Earth\",\"Earth\",\"Europa\",\"Europa\",\"Europa\",\"Europa\",\"Europa\",\"Europa\",\"Earth\",\"missing\",\"Mars\",\"Mars\",\"Europa\",\"Europa\",\"Earth\",\"Earth\",\"Earth\",\"Earth\",\"Earth\",\"Earth\",\"Earth\",\"Earth\",\"Earth\",\"Earth\",\"Earth\",\"Earth\",\"Earth\",\"Earth\",\"Earth\",\"Earth\",\"Earth\",\"Earth\",\"Earth\",\"Earth\",\"Earth\",\"missing\",\"Europa\",\"Europa\",\"Europa\",\"Earth\",\"Earth\",\"Earth\",\"Mars\",\"Earth\",\"Earth\",\"Earth\",\"Earth\",\"Europa\",\"Earth\",\"Earth\",\"Earth\",\"Earth\",\"Earth\",\"Mars\",\"Mars\",\"Europa\",\"Earth\",\"Earth\",\"Earth\",\"Earth\",\"Earth\",\"Earth\",\"Earth\",\"Mars\",\"Mars\",\"Mars\",\"Mars\",\"Earth\",\"Earth\",\"Earth\",\"Earth\",\"Mars\",\"Europa\",\"Europa\",\"Mars\",\"Mars\",\"Earth\",\"Earth\",\"Mars\",\"Mars\",\"Earth\",\"Europa\",\"Earth\",\"Earth\",\"Earth\",\"Earth\",\"Europa\",\"Europa\",\"Earth\",\"Mars\",\"Earth\",\"Europa\",\"Earth\",\"Earth\",\"Earth\",\"Earth\",\"Earth\",\"Earth\",\"Earth\",\"Europa\",\"Earth\",\"Earth\",\"Earth\",\"Earth\",\"Earth\",\"Mars\",\"Earth\",\"Earth\",\"Europa\",\"Europa\",\"Mars\",\"Earth\",\"Earth\",\"Earth\",\"Earth\",\"Europa\",\"Earth\",\"Earth\",\"Earth\",\"Earth\",\"Earth\",\"Earth\",\"Mars\",\"Earth\",\"Europa\",\"Earth\",\"Earth\",\"Mars\",\"Earth\",\"Earth\",\"Earth\",\"Earth\",\"Earth\",\"missing\",\"Europa\",\"Mars\",\"Mars\",\"Europa\",\"Europa\",\"Europa\",\"Europa\",\"Europa\",\"Europa\",\"Europa\",\"Europa\",\"Earth\",\"Europa\",\"Mars\",\"Europa\",\"Europa\",\"Europa\",\"Earth\",\"Earth\",\"Earth\",\"Earth\",\"Earth\",\"Europa\",\"Earth\",\"Earth\",\"Earth\",\"Earth\",\"Earth\",\"Earth\",\"Mars\",\"Mars\",\"Earth\",\"Earth\",\"Earth\",\"Earth\",\"Earth\",\"Earth\",\"Earth\",\"Europa\",\"Mars\",\"Mars\",\"Mars\",\"Earth\",\"Earth\",\"Earth\",\"Earth\",\"Mars\",\"Mars\",\"Earth\",\"Earth\",\"Earth\",\"Earth\",\"missing\",\"Europa\",\"Mars\",\"Europa\",\"Europa\",\"Earth\",\"Earth\",\"Earth\",\"missing\",\"Earth\",\"Earth\",\"Europa\",\"Europa\",\"Europa\",\"Earth\",\"Earth\",\"Earth\",\"Earth\",\"missing\",\"Europa\",\"Europa\",\"Europa\",\"Europa\",\"Earth\",\"Earth\",\"Europa\",\"Europa\"],\"type\":\"pie\",\"marker\":{\"line\":{\"color\":\"#000000\",\"width\":2},\"colors\":[\"darkorange\",\"blue\"]},\"hoverinfo\":\"label+percent+value\",\"textinfo\":\"percent+label\",\"textposition\":\"outside\"}],                        {\"template\":{\"data\":{\"bar\":[{\"error_x\":{\"color\":\"#2a3f5f\"},\"error_y\":{\"color\":\"#2a3f5f\"},\"marker\":{\"line\":{\"color\":\"#E5ECF6\",\"width\":0.5},\"pattern\":{\"fillmode\":\"overlay\",\"size\":10,\"solidity\":0.2}},\"type\":\"bar\"}],\"barpolar\":[{\"marker\":{\"line\":{\"color\":\"#E5ECF6\",\"width\":0.5},\"pattern\":{\"fillmode\":\"overlay\",\"size\":10,\"solidity\":0.2}},\"type\":\"barpolar\"}],\"carpet\":[{\"aaxis\":{\"endlinecolor\":\"#2a3f5f\",\"gridcolor\":\"white\",\"linecolor\":\"white\",\"minorgridcolor\":\"white\",\"startlinecolor\":\"#2a3f5f\"},\"baxis\":{\"endlinecolor\":\"#2a3f5f\",\"gridcolor\":\"white\",\"linecolor\":\"white\",\"minorgridcolor\":\"white\",\"startlinecolor\":\"#2a3f5f\"},\"type\":\"carpet\"}],\"choropleth\":[{\"colorbar\":{\"outlinewidth\":0,\"ticks\":\"\"},\"type\":\"choropleth\"}],\"contour\":[{\"colorbar\":{\"outlinewidth\":0,\"ticks\":\"\"},\"colorscale\":[[0.0,\"#0d0887\"],[0.1111111111111111,\"#46039f\"],[0.2222222222222222,\"#7201a8\"],[0.3333333333333333,\"#9c179e\"],[0.4444444444444444,\"#bd3786\"],[0.5555555555555556,\"#d8576b\"],[0.6666666666666666,\"#ed7953\"],[0.7777777777777778,\"#fb9f3a\"],[0.8888888888888888,\"#fdca26\"],[1.0,\"#f0f921\"]],\"type\":\"contour\"}],\"contourcarpet\":[{\"colorbar\":{\"outlinewidth\":0,\"ticks\":\"\"},\"type\":\"contourcarpet\"}],\"heatmap\":[{\"colorbar\":{\"outlinewidth\":0,\"ticks\":\"\"},\"colorscale\":[[0.0,\"#0d0887\"],[0.1111111111111111,\"#46039f\"],[0.2222222222222222,\"#7201a8\"],[0.3333333333333333,\"#9c179e\"],[0.4444444444444444,\"#bd3786\"],[0.5555555555555556,\"#d8576b\"],[0.6666666666666666,\"#ed7953\"],[0.7777777777777778,\"#fb9f3a\"],[0.8888888888888888,\"#fdca26\"],[1.0,\"#f0f921\"]],\"type\":\"heatmap\"}],\"heatmapgl\":[{\"colorbar\":{\"outlinewidth\":0,\"ticks\":\"\"},\"colorscale\":[[0.0,\"#0d0887\"],[0.1111111111111111,\"#46039f\"],[0.2222222222222222,\"#7201a8\"],[0.3333333333333333,\"#9c179e\"],[0.4444444444444444,\"#bd3786\"],[0.5555555555555556,\"#d8576b\"],[0.6666666666666666,\"#ed7953\"],[0.7777777777777778,\"#fb9f3a\"],[0.8888888888888888,\"#fdca26\"],[1.0,\"#f0f921\"]],\"type\":\"heatmapgl\"}],\"histogram\":[{\"marker\":{\"pattern\":{\"fillmode\":\"overlay\",\"size\":10,\"solidity\":0.2}},\"type\":\"histogram\"}],\"histogram2d\":[{\"colorbar\":{\"outlinewidth\":0,\"ticks\":\"\"},\"colorscale\":[[0.0,\"#0d0887\"],[0.1111111111111111,\"#46039f\"],[0.2222222222222222,\"#7201a8\"],[0.3333333333333333,\"#9c179e\"],[0.4444444444444444,\"#bd3786\"],[0.5555555555555556,\"#d8576b\"],[0.6666666666666666,\"#ed7953\"],[0.7777777777777778,\"#fb9f3a\"],[0.8888888888888888,\"#fdca26\"],[1.0,\"#f0f921\"]],\"type\":\"histogram2d\"}],\"histogram2dcontour\":[{\"colorbar\":{\"outlinewidth\":0,\"ticks\":\"\"},\"colorscale\":[[0.0,\"#0d0887\"],[0.1111111111111111,\"#46039f\"],[0.2222222222222222,\"#7201a8\"],[0.3333333333333333,\"#9c179e\"],[0.4444444444444444,\"#bd3786\"],[0.5555555555555556,\"#d8576b\"],[0.6666666666666666,\"#ed7953\"],[0.7777777777777778,\"#fb9f3a\"],[0.8888888888888888,\"#fdca26\"],[1.0,\"#f0f921\"]],\"type\":\"histogram2dcontour\"}],\"mesh3d\":[{\"colorbar\":{\"outlinewidth\":0,\"ticks\":\"\"},\"type\":\"mesh3d\"}],\"parcoords\":[{\"line\":{\"colorbar\":{\"outlinewidth\":0,\"ticks\":\"\"}},\"type\":\"parcoords\"}],\"pie\":[{\"automargin\":true,\"type\":\"pie\"}],\"scatter\":[{\"marker\":{\"colorbar\":{\"outlinewidth\":0,\"ticks\":\"\"}},\"type\":\"scatter\"}],\"scatter3d\":[{\"line\":{\"colorbar\":{\"outlinewidth\":0,\"ticks\":\"\"}},\"marker\":{\"colorbar\":{\"outlinewidth\":0,\"ticks\":\"\"}},\"type\":\"scatter3d\"}],\"scattercarpet\":[{\"marker\":{\"colorbar\":{\"outlinewidth\":0,\"ticks\":\"\"}},\"type\":\"scattercarpet\"}],\"scattergeo\":[{\"marker\":{\"colorbar\":{\"outlinewidth\":0,\"ticks\":\"\"}},\"type\":\"scattergeo\"}],\"scattergl\":[{\"marker\":{\"colorbar\":{\"outlinewidth\":0,\"ticks\":\"\"}},\"type\":\"scattergl\"}],\"scattermapbox\":[{\"marker\":{\"colorbar\":{\"outlinewidth\":0,\"ticks\":\"\"}},\"type\":\"scattermapbox\"}],\"scatterpolar\":[{\"marker\":{\"colorbar\":{\"outlinewidth\":0,\"ticks\":\"\"}},\"type\":\"scatterpolar\"}],\"scatterpolargl\":[{\"marker\":{\"colorbar\":{\"outlinewidth\":0,\"ticks\":\"\"}},\"type\":\"scatterpolargl\"}],\"scatterternary\":[{\"marker\":{\"colorbar\":{\"outlinewidth\":0,\"ticks\":\"\"}},\"type\":\"scatterternary\"}],\"surface\":[{\"colorbar\":{\"outlinewidth\":0,\"ticks\":\"\"},\"colorscale\":[[0.0,\"#0d0887\"],[0.1111111111111111,\"#46039f\"],[0.2222222222222222,\"#7201a8\"],[0.3333333333333333,\"#9c179e\"],[0.4444444444444444,\"#bd3786\"],[0.5555555555555556,\"#d8576b\"],[0.6666666666666666,\"#ed7953\"],[0.7777777777777778,\"#fb9f3a\"],[0.8888888888888888,\"#fdca26\"],[1.0,\"#f0f921\"]],\"type\":\"surface\"}],\"table\":[{\"cells\":{\"fill\":{\"color\":\"#EBF0F8\"},\"line\":{\"color\":\"white\"}},\"header\":{\"fill\":{\"color\":\"#C8D4E3\"},\"line\":{\"color\":\"white\"}},\"type\":\"table\"}]},\"layout\":{\"annotationdefaults\":{\"arrowcolor\":\"#2a3f5f\",\"arrowhead\":0,\"arrowwidth\":1},\"autotypenumbers\":\"strict\",\"coloraxis\":{\"colorbar\":{\"outlinewidth\":0,\"ticks\":\"\"}},\"colorscale\":{\"diverging\":[[0,\"#8e0152\"],[0.1,\"#c51b7d\"],[0.2,\"#de77ae\"],[0.3,\"#f1b6da\"],[0.4,\"#fde0ef\"],[0.5,\"#f7f7f7\"],[0.6,\"#e6f5d0\"],[0.7,\"#b8e186\"],[0.8,\"#7fbc41\"],[0.9,\"#4d9221\"],[1,\"#276419\"]],\"sequential\":[[0.0,\"#0d0887\"],[0.1111111111111111,\"#46039f\"],[0.2222222222222222,\"#7201a8\"],[0.3333333333333333,\"#9c179e\"],[0.4444444444444444,\"#bd3786\"],[0.5555555555555556,\"#d8576b\"],[0.6666666666666666,\"#ed7953\"],[0.7777777777777778,\"#fb9f3a\"],[0.8888888888888888,\"#fdca26\"],[1.0,\"#f0f921\"]],\"sequentialminus\":[[0.0,\"#0d0887\"],[0.1111111111111111,\"#46039f\"],[0.2222222222222222,\"#7201a8\"],[0.3333333333333333,\"#9c179e\"],[0.4444444444444444,\"#bd3786\"],[0.5555555555555556,\"#d8576b\"],[0.6666666666666666,\"#ed7953\"],[0.7777777777777778,\"#fb9f3a\"],[0.8888888888888888,\"#fdca26\"],[1.0,\"#f0f921\"]]},\"colorway\":[\"#636efa\",\"#EF553B\",\"#00cc96\",\"#ab63fa\",\"#FFA15A\",\"#19d3f3\",\"#FF6692\",\"#B6E880\",\"#FF97FF\",\"#FECB52\"],\"font\":{\"color\":\"#2a3f5f\"},\"geo\":{\"bgcolor\":\"white\",\"lakecolor\":\"white\",\"landcolor\":\"#E5ECF6\",\"showlakes\":true,\"showland\":true,\"subunitcolor\":\"white\"},\"hoverlabel\":{\"align\":\"left\"},\"hovermode\":\"closest\",\"mapbox\":{\"style\":\"light\"},\"paper_bgcolor\":\"white\",\"plot_bgcolor\":\"#E5ECF6\",\"polar\":{\"angularaxis\":{\"gridcolor\":\"white\",\"linecolor\":\"white\",\"ticks\":\"\"},\"bgcolor\":\"#E5ECF6\",\"radialaxis\":{\"gridcolor\":\"white\",\"linecolor\":\"white\",\"ticks\":\"\"}},\"scene\":{\"xaxis\":{\"backgroundcolor\":\"#E5ECF6\",\"gridcolor\":\"white\",\"gridwidth\":2,\"linecolor\":\"white\",\"showbackground\":true,\"ticks\":\"\",\"zerolinecolor\":\"white\"},\"yaxis\":{\"backgroundcolor\":\"#E5ECF6\",\"gridcolor\":\"white\",\"gridwidth\":2,\"linecolor\":\"white\",\"showbackground\":true,\"ticks\":\"\",\"zerolinecolor\":\"white\"},\"zaxis\":{\"backgroundcolor\":\"#E5ECF6\",\"gridcolor\":\"white\",\"gridwidth\":2,\"linecolor\":\"white\",\"showbackground\":true,\"ticks\":\"\",\"zerolinecolor\":\"white\"}},\"shapedefaults\":{\"line\":{\"color\":\"#2a3f5f\"}},\"ternary\":{\"aaxis\":{\"gridcolor\":\"white\",\"linecolor\":\"white\",\"ticks\":\"\"},\"baxis\":{\"gridcolor\":\"white\",\"linecolor\":\"white\",\"ticks\":\"\"},\"bgcolor\":\"#E5ECF6\",\"caxis\":{\"gridcolor\":\"white\",\"linecolor\":\"white\",\"ticks\":\"\"}},\"title\":{\"x\":0.05},\"xaxis\":{\"automargin\":true,\"gridcolor\":\"white\",\"linecolor\":\"white\",\"ticks\":\"\",\"title\":{\"standoff\":15},\"zerolinecolor\":\"white\",\"zerolinewidth\":2},\"yaxis\":{\"automargin\":true,\"gridcolor\":\"white\",\"linecolor\":\"white\",\"ticks\":\"\",\"title\":{\"standoff\":15},\"zerolinecolor\":\"white\",\"zerolinewidth\":2}}},\"annotations\":[{\"font\":{\"family\":\"monospace\",\"size\":14},\"opacity\":0.7,\"showarrow\":false,\"text\":\"HomePlanet\",\"x\":0.5,\"y\":0.5}],\"font\":{\"family\":\"monospace\"},\"title\":{\"font\":{\"color\":\"black\",\"size\":20},\"text\":\"HomePlanet\",\"x\":0.47,\"y\":0.98},\"legend\":{\"orientation\":\"v\",\"traceorder\":\"reversed\"},\"hoverlabel\":{\"bgcolor\":\"white\"}},                        {\"responsive\": true}                    ).then(function(){\n",
       "                            \n",
       "var gd = document.getElementById('7d1f9518-cbb0-46e3-b2e4-07da68b86e28');\n",
       "var x = new MutationObserver(function (mutations, observer) {{\n",
       "        var display = window.getComputedStyle(gd).display;\n",
       "        if (!display || display === 'none') {{\n",
       "            console.log([gd, 'removed!']);\n",
       "            Plotly.purge(gd);\n",
       "            observer.disconnect();\n",
       "        }}\n",
       "}});\n",
       "\n",
       "// Listen for the removal of the full notebook cells\n",
       "var notebookContainer = gd.closest('#notebook-container');\n",
       "if (notebookContainer) {{\n",
       "    x.observe(notebookContainer, {childList: true});\n",
       "}}\n",
       "\n",
       "// Listen for the clearing of the current output cell\n",
       "var outputEl = gd.closest('.output');\n",
       "if (outputEl) {{\n",
       "    x.observe(outputEl, {childList: true});\n",
       "}}\n",
       "\n",
       "                        })                };                });            </script>        </div>"
      ]
     },
     "metadata": {},
     "output_type": "display_data"
    }
   ],
   "source": [
    "\n",
    "fig = go.Figure(data=[go.Pie(labels=train.HomePlanet, hole=.4)])\n",
    "fig.add_annotation(text='HomePlanet',\n",
    "                   x=0.5,y=0.5,showarrow=False,font_size=14,opacity=0.7,font_family='monospace')\n",
    "fig.update_traces(hoverinfo='label+percent+value',\n",
    "                  marker=dict(colors=['darkorange','blue'], line=dict(color='#000000', width=2)))\n",
    "fig.update_layout(\n",
    "    font_family='monospace',\n",
    "    title=dict(text='HomePlanet',x=0.47,y=0.98,\n",
    "               font=dict(color='black',size=20)),\n",
    "    legend=dict(orientation='v',traceorder='reversed'),\n",
    "    hoverlabel=dict(bgcolor='white'))\n",
    "fig.update_traces(textposition='outside', textinfo='percent+label')\n",
    "fig.show()"
   ]
  },
  {
   "cell_type": "code",
   "execution_count": 17,
   "id": "c3f96c08",
   "metadata": {
    "execution": {
     "iopub.execute_input": "2022-04-01T08:37:45.091103Z",
     "iopub.status.busy": "2022-04-01T08:37:45.052992Z",
     "iopub.status.idle": "2022-04-01T08:37:45.095456Z",
     "shell.execute_reply": "2022-04-01T08:37:45.094991Z",
     "shell.execute_reply.started": "2022-04-01T08:35:52.847360Z"
    },
    "papermill": {
     "duration": 0.065859,
     "end_time": "2022-04-01T08:37:45.095585",
     "exception": false,
     "start_time": "2022-04-01T08:37:45.029726",
     "status": "completed"
    },
    "tags": []
   },
   "outputs": [
    {
     "data": {
      "text/html": [
       "<div>                            <div id=\"5f795dd6-0e1c-4dd2-88ec-9a801b1de815\" class=\"plotly-graph-div\" style=\"height:525px; width:100%;\"></div>            <script type=\"text/javascript\">                require([\"plotly\"], function(Plotly) {                    window.PLOTLYENV=window.PLOTLYENV || {};                                    if (document.getElementById(\"5f795dd6-0e1c-4dd2-88ec-9a801b1de815\")) {                    Plotly.newPlot(                        \"5f795dd6-0e1c-4dd2-88ec-9a801b1de815\",                        [{\"hole\":0.4,\"labels\":[false,false,false,false,false,false,false,true,false,true,true,false,false,false,false,false,false,false,true,false,false,true,true,true,false,true,false,false,true,false,false,false,false,false,false,false,true,false,false,false,true,true,false,true,true,true,false,true,false,false,false,false,false,true,false,true,false,false,true,true,false,true,false,false,false,false,false,false,false,false,false,false,false,false,true,false,true,false,false,true,false,true,true,true,false,false,true,true,false,false,false,false,\"missing\",true,false,false,true,true,\"missing\",false,true,false,false,false,\"missing\",false,true,true,false,false,false,\"missing\",false,false,true,true,false,false,true,false,false,false,true,true,false,false,false,true,false,true,true,false,false,false,false,true,false,true,true,false,false,true,true,false,true,true,true,false,true,false,true,true,\"missing\",false,false,false,false,false,false,false,true,false,false,true,false,true,true,false,false,true,false,false,false,false,false,\"missing\",true,true,true,true,true,false,true,false,false,true,true,false,true,false,false,false,false,false,false,true,true,false,true,false,false,false,true,false,false,false,true,false,false,true,false,true,true,false,false,true,false,false,true,false,false,true,false,true,\"missing\",false,true,true,true,false,false,false,false,true,true,false,false,false,true,false,true,false,false,false,true,true,false,false,false,true,false,false,false,false,false,true,false,true,true,false,true,false,false,true,false,true,\"missing\",false,false,true,false,true,true,false,true,false,false,false,false,false,false,false,true,false,false,false,true,false,true,false,false,false,true,true,true,false,false,false,false,false,true,false,false,true,false,false,true,true,true,false,true,true,false,false,\"missing\",true,false,true,true,false,true,true,false,false,false,false,false,true,false,false,true,false,true,false,false,false,false,true,false,true,true,false,true,false,true,true,true,false,false,true,false,false,false,true,true,false,false,false,false,false,true,true,false,false,false,true,false,false,false,false,true,false,false,false,false,false,false,true,true,false,true,false,false,true,true,false,false,false,true,false,true,false,\"missing\",false,true,true,false,false,false,false,true,false,false,false,false,false,false,false,true,false,false,true,true,true,true,true,true,\"missing\",true,true,false,false,true,false,true,false,true,false,false,false,true,false,false,false,false,false,true,true,true,false,false,false,true,false,false,true,true,false,false,true,false,false,false,\"missing\",true,true,true,true,true,false,false,false,false,false,false,false,true,true,true,false,true,true,true,false,false,false,true,true,true,false,false,true,true,false,false,false,false,true,false,true,false,true,true,true,false,false,false,false,false,true,true,true,true,false,true,false,false,false,false,false,false,false,true,false,false,true,true,false,true,false,false,false,false,false,false,false,false,true,true,false,false,true,true,\"missing\",true,false,false,true,true,true,true,true,false,true,false,false,true,false,false,false,false,true,false,true,true,true,true,true,true,false,true,false,true,false,false,true,false,false,false,false,true,true,true,false,false,false,true,false,true,false,true,false,false,false,false,false,false,false,true,true,false,true,false,true,false,false,true,true,true,false,false,true,true,false,false,false,false,false,false,false,true,false,false,false,false,false,true,true,false,true,false,true,true,true,false,true,\"missing\",false,false,false,false,false,true,true,false,false,false,false,false,false,false,true,false,true,true,true,false,true,true,true,true,false,false,false,true,false,true,false,false,false,true,true,false,false,true,true,false,false,false,true,false,true,false,true,true,false,true,false,true,true,false,\"missing\",\"missing\",false,true,false,false,true,true,true,true,\"missing\",false,false,false,true,false,false,false,false,false,false,false,false,\"missing\",false,true,false,true,true,false,true,false,true,true,true,false,true,false,false,true,\"missing\",false,false,false,false,true,true,true,false,\"missing\",true,false,true,true,false,true,true,false,false,false,false,false,false,true,true,false,true,true,false,false,false,true,true,true,false,\"missing\",true,false,true,false,true,false,true,false,false,false,false,false,false,false,false,false,true,false,true,false,false,true,false,true,false,false,false,true,false,false,true,false,false,false,false,false,true,false,false,false,false,\"missing\",false,true,true,true,false,true,true,false,true,true,false,true,false,true,true,true,false,true,false,false,false,false,false,false,false,true,false,false,false,false,true,true,false,false,false,true,true,false,true,false,false,true,false,false,false,false,false,true,false,false,false,false,false,false,false,true,true,false,false,true,false,false,true,true,false,false,false,true,false,true,false,true,false,false,false,false,false,false,true,false,false,false,false,false,false,false,true,true,false,false,true,false,true,false,false,true,true,false,false,false,true,true,true,false,false,true,false,false,true,false,true,false,false,false,true,false,true,true,true,false,false,false,false,false,false,true,false,false,false,false,true,false,false,true,false,true,false,false,false,true,false,false,true,true,false,false,true,false,true,true,false,true,true,true,true,false,false,true,false,true,false,false,true,false,false,false,true,false,false,false,false,true,false,false,true,true,false,false,true,false,false,true,false,false,false,false,true,false,true,true,false,false,false,false,true,true,true,false,false,false,false,true,true,true,true,false,true,true,true,\"missing\",false,false,false,false,true,true,false,false,\"missing\",true,false,true,false,false,true,true,false,true,false,false,true,false,true,false,false,false,false,false,\"missing\",false,false,true,false,false,false,false,false,false,true,false,\"missing\",true,false,false,false,true,false,true,false,true,false,true,false,false,true,true,true,false,false,false,false,false,true,true,false,false,false,true,true,false,false,false,true,false,false,true,false,true,true,true,true,false,true,false,true,false,false,false,false,false,false,true,true,false,true,false,\"missing\",false,false,true,true,true,false,true,false,true,false,false,false,false,false,true,false,false,false,false,false,false,false,false,false,true,true,false,false,false,false,false,false,false,true,false,true,true,true,true,false,true,false,false,false,true,true,false,false,false,false,false,false,true,false,true,false,false,false,true,true,false,true,false,false,false,false,true,false,false,false,false,false,false,false,false,false,false,true,true,false,false,false,true,false,false,false,true,false,true,false,false,true,true,false,true,true,false,true,false,true,true,true,false,false,false,false,false,false,false,false,true,true,false,\"missing\",false,false,false,true,false,false,false,true,false,false,false,true,true,false,false,true,false,false,false,false,false,true,true,false,false,true,true,true,false,true,true,false,true,false,false,true,false,false,true,false,false,true,true,\"missing\",true,false,false,false,false,true,true,false,false,true,false,false,false,false,true,false,true,false,true,false,false,false,true,true,true,false,\"missing\",false,false,true,false,false,false,false,false,true,false,true,false,true,false,false,false,false,true,false,true,true,true,false,false,false,false,false,false,false,false,true,\"missing\",true,true,false,false,false,false,false,false,false,false,false,true,false,false,true,false,false,true,false,false,true,true,true,true,false,false,false,true,false,true,true,true,true,false,false,false,false,true,false,false,true,false,false,false,false,false,true,true,false,false,false,true,false,false,true,false,true,false,false,true,\"missing\",false,false,true,false,true,false,false,false,false,false,true,true,true,false,false,false,true,false,false,true,false,\"missing\",true,true,false,false,false,false,false,false,false,false,false,false,false,\"missing\",false,true,true,false,false,false,false,false,false,false,false,false,false,false,true,false,false,false,true,true,true,true,true,false,false,true,false,false,false,false,false,false,false,true,\"missing\",false,false,false,false,false,true,false,false,false,true,true,false,false,false,true,false,false,false,false,false,true,false,true,false,true,true,false,false,false,false,false,false,false,false,false,true,true,false,true,true,true,false,false,false,false,false,false,false,false,true,true,true,true,false,false,false,true,false,false,false,false,false,false,true,false,false,false,true,false,false,true,false,false,true,true,false,\"missing\",true,false,false,true,true,true,false,false,true,true,true,true,false,false,true,false,false,false,true,false,false,true,true,true,false,true,false,false,false,false,false,false,false,\"missing\",false,false,true,false,false,true,false,false,false,true,false,false,true,false,false,false,true,true,false,false,true,false,false,true,false,false,true,true,false,false,true,false,false,false,true,false,true,false,false,false,false,false,false,false,false,false,true,false,false,true,\"missing\",\"missing\",false,false,false,true,false,false,true,true,false,false,false,false,true,false,false,false,false,true,false,false,true,true,false,true,true,false,false,false,true,false,false,false,false,true,false,true,true,false,false,false,false,false,false,false,true,false,false,true,false,false,true,false,true,true,false,false,true,false,false,true,false,false,true,false,false,true,true,false,false,true,true,false,false,false,true,true,false,true,false,false,true,true,false,false,false,false,true,false,false,false,false,false,false,true,false,false,false,false,false,false,false,false,false,false,true,false,true,false,false,false,false,false,false,true,true,false,false,false,false,false,false,true,false,true,false,false,false,true,false,false,true,false,false,false,true,false,false,false,\"missing\",false,false,true,false,true,true,true,\"missing\",false,false,false,false,false,\"missing\",true,true,false,false,false,false,true,true,true,false,false,false,false,false,true,false,true,true,false,true,false,true,false,false,false,false,true,false,true,true,false,false,true,false,true,true,true,false,false,true,false,true,false,false,false,false,false,false,false,false,false,false,false,false,false,false,false,true,true,false,false,true,false,false,false,false,true,false,false,true,true,false,false,true,false,false,false,false,true,false,true,true,true,true,true,false,true,false,true,false,false,false,true,true,false,false,true,false,false,false,false,\"missing\",false,false,false,false,false,false,true,false,false,true,true,true,true,false,false,false,false,\"missing\",false,false,false,true,true,false,false,false,false,true,false,false,true,true,true,false,true,false,true,true,false,false,false,false,false,false,true,false,true,true,true,false,false,true,false,false,false,\"missing\",true,false,true,true,false,false,false,false,false,false,false,false,false,false,false,false,false,true,false,false,false,false,false,false,false,false,false,false,false,false,false,false,true,false,false,false,true,false,false,false,false,false,true,false,false,true,false,false,true,true,true,false,true,false,true,true,true,false,false,false,false,false,false,false,false,false,true,false,false,\"missing\",false,true,false,false,true,true,false,false,true,false,true,true,false,false,false,true,true,false,true,false,false,false,false,true,true,false,false,true,false,true,false,false,false,false,true,true,true,false,false,false,false,false,true,false,false,\"missing\",false,true,false,true,false,false,false,true,false,false,false,false,false,false,true,false,false,false,false,true,false,false,false,false,true,false,true,false,true,false,false,true,false,false,false,false,false,false,true,true,false,false,false,true,\"missing\",false,false,true,true,false,false,false,false,false,false,false,false,true,true,true,false,true,true,false,false,false,false,false,false,true,true,false,false,true,false,false,true,true,false,false,true,false,false,false,\"missing\",false,false,false,false,\"missing\",false,false,false,false,true,false,false,false,false,false,false,false,false,false,true,false,false,false,false,true,false,true,false,false,false,true,true,true,false,true,false,true,false,true,true,true,false,false,true,false,true,true,false,true,false,false,true,false,true,false,false,false,false,true,\"missing\",true,true,true,true,false,false,false,false,false,false,false,true,true,false,true,true,false,false,false,true,true,false,false,false,false,false,false,false,true,false,false,true,true,false,false,true,\"missing\",true,false,false,false,\"missing\",false,true,false,false,false,false,false,false,true,true,false,false,true,false,true,true,false,true,true,false,true,true,false,false,false,true,false,true,false,true,true,true,false,false,false,true,false,false,true,false,false,true,false,false,false,false,true,true,true,true,false,true,false,false,true,true,false,true,true,true,false,false,false,false,false,false,false,true,false,false,true,true,true,true,false,false,false,false,false,true,false,true,false,false,false,true,false,false,false,false,false,false,false,true,false,true,true,false,false,false,true,false,false,true,false,true,true,false,false,true,true,true,true,true,true,false,false,true,false,true,false,true,true,false,false,false,false,false,false,true,false,false,false,false,false,false,false,true,false,false,false,false,true,true,true,true,false,\"missing\",false,true,false,true,false,false,false,true,false,false,true,false,false,true,true,true,false,false,false,false,false,false,\"missing\",false,true,true,false,false,true,false,false,true,false,false,false,false,false,true,false,\"missing\",false,false,false,true,true,false,false,true,true,true,false,true,true,false,false,true,true,false,false,true,\"missing\",false,true,false,false,false,true,false,false,false,true,false,false,true,false,true,false,false,false,false,true,false,false,false,false,true,false,true,false,false,false,false,true,true,false,true,false,false,false,false,false,true,false,false,true,true,false,false,false,false,false,false,false,false,false,false,true,false,false,false,false,false,false,false,false,false,false,false,false,true,false,false,false,false,true,true,false,false,true,false,true,false,true,false,false,false,true,true,false,false,true,false,false,true,false,true,true,false,true,false,false,true,false,true,true,false,true,true,false,false,false,false,false,false,true,false,false,false,false,false,\"missing\",false,false,true,false,true,false,false,false,true,false,true,false,\"missing\",true,true,false,false,false,false,false,false,false,true,false,false,false,false,false,false,false,false,true,false,true,true,false,false,true,false,false,true,true,true,false,false,false,false,true,false,false,false,false,false,false,true,false,true,false,false,false,false,false,true,true,true,true,false,false,true,true,false,false,true,false,false,true,true,true,\"missing\",true,true,true,true,true,\"missing\",false,false,false,false,false,false,false,false,false,false,false,false,true,true,false,false,false,false,false,true,true,true,true,false,false,true,false,false,false,true,false,false,true,false,true,true,false,false,true,false,false,false,true,false,true,false,false,false,false,false,true,false,false,true,true,false,false,false,false,false,false,true,false,false,false,false,false,false,false,false,true,false,true,false,false,false,true,false,false,true,false,true,false,true,true,true,false,false,false,false,true,false,false,false,true,false,false,true,false,true,false,true,false,false,false,false,false,false,false,false,false,false,false,false,true,false,false,false,false,\"missing\",false,true,false,false,false,false,true,false,false,false,true,true,false,false,false,false,false,true,true,false,true,false,true,false,false,false,false,false,false,false,false,false,false,false,false,true,false,false,false,true,true,false,\"missing\",false,true,false,true,false,false,false,false,false,false,false,false,false,false,true,true,false,true,false,false,false,false,false,false,\"missing\",false,false,false,true,true,false,true,false,false,true,false,true,true,false,true,true,false,false,false,true,false,false,true,\"missing\",\"missing\",false,false,false,true,false,false,false,false,true,false,false,true,true,false,false,true,false,false,true,true,true,false,false,false,true,false,true,false,true,true,true,false,true,false,false,false,false,true,true,true,true,false,false,true,false,false,false,false,true,true,false,false,true,true,false,true,false,false,false,true,false,\"missing\",true,true,false,false,true,false,false,true,true,false,false,false,false,false,false,true,false,true,true,\"missing\",true,false,false,false,false,false,false,false,true,false,false,false,false,true,false,false,false,true,false,true,false,false,false,false,false,false,false,false,true,true,true,false,false,false,false,false,true,false,false,false,\"missing\",true,false,false,false,true,true,false,true,false,false,false,false,false,true,true,false,true,false,false,false,false,false,false,true,true,true,false,false,false,false,false,false,true,false,\"missing\",true,true,true,false,false,false,false,false,true,true,true,true,false,true,true,false,false,false,false,false,true,true,false,false,false,true,true,false,true,false,true,false,true,true,false,false,false,false,\"missing\",true,false,true,false,false,\"missing\",true,true,false,false,false,true,false,false,true,false,\"missing\",false,false,true,false,true,true,false,true,true,true,true,true,true,false,false,false,true,false,false,false,true,true,true,true,false,false,true,true,true,true,false,true,false,true,false,true,false,false,false,false,true,false,false,true,true,true,false,false,false,false,false,true,false,false,true,true,false,true,false,true,false,false,false,true,true,true,false,true,true,false,false,true,true,false,false,false,true,false,false,false,false,true,true,false,false,false,false,true,false,true,false,true,false,true,false,false,true,false,true,false,\"missing\",true,true,false,false,false,true,false,false,true,false,false,true,false,true,true,false,true,\"missing\",true,false,false,false,false,false,false,true,false,false,false,true,false,false,false,false,true,true,true,true,true,true,false,true,false,true,false,false,true,true,true,true,false,true,false,true,true,true,false,false,\"missing\",false,false,false,false,false,false,true,false,false,true,false,false,false,false,false,\"missing\",true,false,false,false,false,false,false,true,true,true,false,false,false,false,false,false,false,true,true,false,false,false,true,true,true,false,true,true,false,true,true,true,true,true,false,false,true,false,true,false,false,false,true,true,false,false,true,true,false,true,true,false,false,false,true,true,true,false,true,false,false,true,false,true,false,false,true,false,false,false,true,true,true,false,false,false,true,false,false,false,false,false,true,false,false,false,false,false,false,false,false,false,true,true,false,false,false,true,\"missing\",true,true,true,true,true,\"missing\",false,false,\"missing\",true,true,false,false,false,false,false,false,true,false,true,true,false,false,false,true,false,true,false,false,false,false,false,false,true,true,false,false,false,true,true,true,true,true,true,true,false,true,true,false,false,false,false,true,false,false,false,true,true,true,true,true,false,false,false,false,false,false,true,true,false,true,false,false,false,true,false,false,false,true,true,false,true,false,false,true,true,false,false,false,false,false,false,false,true,false,false,true,true,false,true,true,true,true,\"missing\",false,true,true,false,true,false,false,true,true,true,true,true,true,false,true,false,false,true,false,false,false,false,true,false,true,true,true,false,false,false,false,true,\"missing\",true,true,true,true,false,false,false,false,false,true,true,true,true,true,false,true,true,true,false,true,false,false,false,true,false,false,false,false,false,false,false,true,false,true,true,false,true,false,false,false,false,false,true,false,false,true,false,false,false,true,true,true,true,false,false,true,false,false,false,false,true,false,true,false,false,true,false,false,false,false,true,false,false,false,false,false,false,false,false,false,false,false,false,false,false,true,false,false,false,false,true,false,true,true,false,true,false,true,false,true,false,true,true,false,true,false,false,false,false,true,false,false,false,false,false,false,false,true,true,true,true,true,false,false,false,false,false,true,false,true,true,false,true,false,true,false,false,\"missing\",true,true,true,false,true,true,false,false,true,false,true,true,false,false,true,false,false,false,true,false,true,false,false,false,true,false,true,true,false,false,false,false,false,true,false,false,false,false,true,true,false,false,true,true,true,false,false,true,true,false,true,false,false,false,false,false,true,true,false,false,false,true,false,true,\"missing\",false,\"missing\",true,false,false,false,false,true,false,false,true,false,true,false,false,true,false,true,false,false,false,false,false,false,false,true,false,false,false,false,false,false,false,false,false,false,true,false,true,false,true,true,true,false,false,false,true,false,false,false,false,true,true,false,true,true,true,true,false,\"missing\",false,true,false,true,false,false,false,false,false,true,true,true,false,false,false,false,false,false,false,true,true,false,true,false,true,false,true,true,\"missing\",false,true,true,false,true,true,false,true,false,true,true,false,false,false,true,false,true,true,true,false,true,false,false,false,false,true,true,true,false,false,\"missing\",true,false,false,true,true,true,false,false,true,false,false,false,false,false,false,false,false,false,false,false,false,false,true,true,false,true,true,false,false,false,true,\"missing\",false,false,true,true,false,true,true,false,true,true,\"missing\",false,false,true,false,true,true,true,true,false,false,false,false,true,true,false,false,false,true,false,false,true,false,true,true,false,false,false,true,false,true,false,false,false,false,true,false,true,true,true,false,true,false,false,true,false,false,false,false,true,true,false,false,false,true,false,true,true,false,false,false,true,false,false,true,true,false,false,false,false,false,false,false,false,true,false,false,false,true,true,false,false,false,false,false,true,false,true,false,false,true,true,false,true,true,true,true,false,false,false,true,true,true,false,true,false,false,false,false,false,false,false,false,true,false,false,false,false,false,false,true,false,\"missing\",true,false,false,true,false,false,true,false,false,false,false,false,true,false,true,false,true,true,false,false,true,false,false,false,false,\"missing\",false,true,true,false,true,false,false,true,true,false,false,true,false,false,false,false,false,true,true,false,false,false,false,true,true,false,true,true,true,false,false,false,true,true,false,false,false,false,false,false,\"missing\",false,false,true,false,false,false,true,false,true,false,false,false,true,false,true,true,false,true,false,false,false,false,false,false,false,false,true,false,false,false,false,true,false,true,false,false,false,false,false,true,false,false,false,false,false,true,false,false,true,false,\"missing\",true,true,false,false,\"missing\",false,true,false,false,true,false,false,false,false,false,false,false,false,false,true,true,false,false,false,true,false,false,false,true,false,false,false,true,\"missing\",true,true,false,false,\"missing\",true,true,true,false,false,false,false,false,true,true,false,false,true,false,false,false,false,false,false,true,true,true,true,false,false,true,true,false,false,false,false,false,true,false,\"missing\",true,false,false,true,false,true,false,true,true,false,false,false,true,true,false,true,true,false,true,false,false,false,false,true,false,false,false,false,false,false,true,true,true,false,true,false,false,false,false,false,false,true,true,false,false,true,false,true,false,false,false,true,false,true,false,true,false,true,true,false,true,false,false,false,false,true,true,false,false,false,false,false,false,false,false,false,false,true,true,false,true,false,false,false,false,false,false,false,false,false,false,true,true,true,false,false,false,false,false,false,true,true,true,false,true,\"missing\",false,false,false,false,false,false,false,false,false,false,false,true,true,false,false,false,false,true,\"missing\",true,true,false,false,false,\"missing\",false,\"missing\",true,false,false,false,false,false,true,false,true,true,true,false,false,false,false,false,true,true,true,false,\"missing\",false,false,false,false,\"missing\",false,false,false,false,true,false,true,false,false,true,false,true,false,false,false,true,false,true,true,false,true,false,false,true,true,true,false,false,false,false,false,true,false,false,false,false,false,false,false,false,true,false,false,false,false,false,false,false,true,true,true,false,false,false,false,false,false,false,true,true,true,false,true,false,false,true,false,true,true,true,false,true,true,false,true,true,true,true,true,false,false,false,false,false,false,true,\"missing\",false,false,false,false,true,false,false,false,true,false,false,false,true,true,false,false,true,true,false,false,false,false,false,true,false,true,true,true,false,true,false,false,false,false,false,false,true,false,false,true,false,true,true,false,false,false,false,false,true,false,\"missing\",false,false,true,false,false,false,false,false,false,false,true,true,true,false,false,false,true,false,false,true,false,true,false,false,true,true,false,true,false,true,false,false,true,true,false,false,true,false,false,true,true,true,false,false,false,false,true,false,false,false,false,false,true,true,true,true,true,true,false,false,false,true,false,false,false,false,true,false,false,false,true,true,true,true,false,false,true,false,false,false,true,false,true,false,false,false,true,true,false,false,false,true,false,true,false,false,false,false,false,false,false,false,false,\"missing\",false,false,false,false,false,false,false,true,false,false,false,false,false,true,false,true,true,false,false,false,true,false,false,false,true,true,false,true,true,false,false,false,true,false,false,false,false,true,false,false,false,false,false,false,true,false,true,true,false,true,true,true,true,false,false,false,false,true,false,false,true,true,false,\"missing\",true,false,false,false,true,false,false,false,false,true,false,true,true,true,false,false,false,true,true,true,false,true,false,true,false,false,true,false,\"missing\",false,false,false,true,false,true,true,false,true,false,false,false,true,false,false,false,\"missing\",\"missing\",false,false,false,false,true,false,false,false,true,true,true,false,true,true,true,false,true,true,false,false,true,true,false,true,false,false,true,false,false,true,true,false,false,false,false,false,false,false,true,false,true,true,false,false,true,false,false,false,false,false,false,true,false,false,false,true,false,true,true,false,true,false,true,true,false,false,true,false,false,false,false,true,false,false,\"missing\",false,false,false,true,true,false,false,false,true,true,false,false,false,false,false,false,\"missing\",true,false,true,false,false,false,false,true,true,false,false,true,false,true,true,true,false,false,false,false,true,true,true,true,true,true,true,false,false,false,false,true,false,false,false,false,true,true,false,false,true,true,false,false,true,false,false,false,false,false,true,false,false,true,false,true,true,false,false,true,true,false,false,true,false,\"missing\",false,false,true,true,false,true,false,false,false,false,false,false,true,true,false,false,false,false,true,true,\"missing\",true,false,false,false,false,false,false,true,true,false,true,false,true,true,true,true,false,false,false,\"missing\",true,false,false,false,\"missing\",true,false,false,false,false,true,false,false,false,false,false,false,true,true,true,false,false,false,false,true,true,false,true,true,true,false,false,false,false,false,true,true,true,true,false,true,false,true,false,false,false,false,true,false,false,false,true,true,true,false,true,false,false,false,true,true,true,false,false,false,false,false,false,false,true,false,false,false,false,false,true,false,false,false,false,false,true,false,false,false,false,false,true,true,true,true,true,true,false,false,false,true,false,false,true,false,true,false,true,false,false,false,true,true,false,true,true,false,true,false,false,false,false,true,false,false,false,true,false,false,true,false,false,false,false,false,false,\"missing\",true,false,false,false,false,true,false,false,true,false,true,true,false,true,true,false,false,false,false,false,true,true,false,false,false,false,false,false,false,false,true,false,false,true,true,false,false,false,false,false,true,true,true,false,false,false,false,false,false,false,false,\"missing\",false,false,false,false,false,true,false,false,false,true,false,\"missing\",false,false,true,false,false,false,false,false,true,false,false,true,false,true,false,false,false,true,true,false,false,true,false,false,true,true,\"missing\",true,false,\"missing\",false,false,false,false,false,false,false,false,false,false,true,true,false,false,false,false,false,true,true,true,false,false,true,false,false,false,false,true,false,false,true,false,true,true,false,false,true,true,true,false,false,false,false,true,true,false,true,false,false,false,true,false,false,false,true,true,false,false,false,true,true,false,false,false,false,false,false,false,false,false,false,false,false,true,false,true,true,true,false,false,false,true,false,true,false,false,false,true,false,true,true,false,false,true,true,false,false,true,true,false,false,true,\"missing\",true,false,false,false,true,true,false,true,false,false,false,true,false,false,true,true,false,true,false,false,false,true,true,true,true,false,false,false,false,false,false,false,false,true,false,false,false,false,false,true,false,false,false,true,true,false,false,true,false,false,false,true,false,true,false,false,true,true,false,false,true,false,true,true,\"missing\",false,true,false,true,false,true,true,false,false,false,true,true,true,false,false,false,false,false,true,true,false,false,false,false,false,false,false,true,false,false,false,true,true,false,false,false,false,false,false,false,true,true,true,false,true,true,true,false,true,true,false,false,false,false,false,false,false,true,true,false,false,true,true,true,true,true,false,false,false,false,false,false,true,false,false,false,false,true,true,false,false,true,false,true,true,false,false,true,true,false,true,false,false,true,false,false,false,false,true,\"missing\",false,false,true,true,false,false,false,false,false,false,false,false,false,false,false,false,false,\"missing\",true,false,false,false,false,true,true,false,false,false,false,true,true,true,true,true,false,false,true,false,\"missing\",false,false,false,true,true,false,false,false,false,false,false,false,false,true,false,false,false,true,false,false,true,false,false,false,false,false,false,true,false,false,false,true,false,true,true,true,true,true,false,true,true,false,true,false,true,false,true,false,true,\"missing\",false,true,true,true,false,true,false,false,false,false,false,true,true,false,true,true,true,true,true,false,false,false,false,false,false,false,\"missing\",false,true,true,false,false,false,false,true,false,false,false,false,false,false,true,false,true,false,false,true,true,false,true,true,true,false,false,false,false,false,true,false,false,false,false,true,false,false,false,false,false,true,true,true,\"missing\",true,true,true,true,false,false,false,false,false,true,false,false,true,true,true,false,false,false,false,false,true,false,false,true,false,false,false,false,false,false,true,\"missing\",true,false,false,false,true,false,true,false,false,false,false,true,false,false,true,true,true,false,false,true,false,true,false,false,\"missing\",false,false,false,false,false,true,true,false,false,true,false,false,true,false,false,true,false,false,false,true,false,false,true,false,false,false,true,true,false,false,false,false,false,false,false,false,false,false,true,false,false,false,\"missing\",false,false,false,true,false,true,true,false,true,false,false,false,false,true,false,true,false,true,true,false,true,false,false,true,false,false,false,true,true,false,true,true,false,true,false,false,true,false,true,false,false,false,false,false,false,false,false,false,false,true,false,false,true,true,false,false,true,false,true,false,true,false,true,false,false,\"missing\",false,false,false,false,\"missing\",false,false,false,false,false,false,false,true,false,true,true,false,true,false,false,false,false,false,false,false,false,false,false,\"missing\",false,false,false,false,false,true,true,\"missing\",true,false,false,false,false,false,true,true,false,false,true,false,true,true,true,false,false,false,false,false,true,false,false,true,false,true,false,false,false,true,false,true,false,true,true,false,true,false,\"missing\",false,false,true,false,false,false,false,true,false,true,false,true,false,false,true,true,false,false,false,false,true,true,true,false,false,\"missing\",true,false,true,true,true,false,false,false,\"missing\",false,true,true,\"missing\",false,true,false,true,false,false,false,true,false,false,false,true,true,false,false,false,false,true,true,false,true,true,false,true,false,true,true,true,true,false,true,true,false,false,true,true,true,true,false,false,true,false,false,false,false,false,false,false,false,false,false,true,false,false,false,false,false,false,false,false,false,false,false,false,false,false,false,false,true,false,true,false,false,true,true,false,false,true,false,false,true,false,false,false,false,false,false,true,true,true,true,false,true,false,false,false,false,true,false,false,false,false,false,true,true,true,false,true,false,false,false,false,\"missing\",false,false,false,false,false,true,false,false,true,false,false,false,false,true,false,false,true,false,true,false,false,false,\"missing\",true,false,false,false,false,false,false,false,true,false,false,true,false,true,false,false,false,false,\"missing\",false,true,false,false,true,true,true,false,false,true,true,true,true,false,true,false,false,false,false,false,false,false,false,false,true,false,true,false,false,true,false,false,false,true,false,false,false,false,false,true,true,false,true,true,true,true,false,true,true,false,false,false,false,false,false,true,false,false,false,false,true,false,false,true,true,false,true,false,false,false,false,true,true,true,true,false,false,false,true,false,false,false,false,true,true,false,false,false,false,\"missing\",true,false,true,true,true,false,false,false,false,false,false,true,false,false,\"missing\",true,false,false,true,false,false,false,true,true,true,false,true,false,false,false,true,true,false,false,true,false,false,true,false,true,false,false,true,\"missing\",true,false,true,true,true,false,false,false,false,true,false,false,false,true,false,true,false,\"missing\",false,false,true,false,true,false,false,false,true,true,true,false,false,false,true,true,true,true,false,false,false,false,false,false,true,true,false,false,false,false,true,true,false,false,false,true,true,false,false,false,false,false,false,false,false,false,true,true,false,true,false,false,false,false,false,false,false,true,\"missing\",true,true,true,false,true,false,true,false,false,false,false,false,false,false,false,false,false,false,false,false,true,true,false,false,false,false,false,false,false,false,false,false,true,false,false,true,false,false,false,false,true,true,false,false,false,false,true,\"missing\",false,true,true,false,false,true,false,false,true,false,true,true,false,false,false,true,false,false,true,false,true,false,true,true,false,false,false,false,false,true,true,false,true,false,true,false,false,\"missing\",false,true,true,false,false,false,true,true,true,true,true,false,true,true,false,false,false,false,true,true,true,true,true,\"missing\",false,false,\"missing\",true,false,false,false,true,false,false,false,true,false,false,false,false,true,false,false,false,false,false,true,false,false,true,\"missing\",true,false,\"missing\",false,true,false,false,true,false,false,false,false,true,false,true,false,false,false,true,true,true,true,false,false,false,true,true,true,true,false,false,false,true,true,true,false,\"missing\",true,false,true,true,true,false,false,false,false,true,false,false,false,false,true,true,true,false,false,false,\"missing\",false,false,false,false,true,false,false,true,true,true,false,false,false,false,false,true,true,true,false,false,false,false,false,false,false,false,true,false,false,false,false,false,true,false,true,true,false,true,true,false,true,false,false,false,true,true,false,true,false,false,false,false,false,false,\"missing\",false,true,true,false,false,false,false,false,false,false,false,true,true,false,false,false,false,false,true,false,true,true,true,false,false,true,false,true,false,true,true,false,false,false,false,false,false,true,false,false,false,true,true,\"missing\",true,false,true,true,true,false,true,true,false,true,true,true,true,false,true,false,true,false,false,false,false,false,true,true,false,false,true,true,true,false,false,true,true,false,true,false,false,false,false,false,false,true,false,true,true,false,false,true,false,false,false,\"missing\",true,true,false,false,false,false,false,false,false,false,\"missing\",true,false,true,false,false,false,false,false,false,true,true,false,false,false,false,true,false,true,false,true,false,false,true,false,false,true,false,false,false,false,false,false,false,true,false,true,true,false,false,false,true,false,false,true,true,true,false,true,false,false,true,true,false,true,false,false,false,false,false,false,false,false,false,false,false,false,false,false,false,true,true,false,false,false,false,false,true,false,false,false,false,false,true,false,true,false,false,true,false,false,false,false,true,false,true,true,true,false,false,false,false,false,false,false,true,false,false,false,true,false,false,false,false,false,false,true,false,true,true,true,false,false,false,true,true,false,false,true,false,false,false,true,false,true,false,false,false,true,false,true,false,true,true,true,false,false,true,false,true,false,false,\"missing\",\"missing\",false,false,true,true,false,false,false,false,false,true,false,false,false,true,true,false,false,false,false,true,false,true,\"missing\",false,false,true,true,false,true,false,false,false,true,false,true,false,true,true,false,true,false,false,false,false,false,false,false,false,false,true,false,false,false,false,false,false,true,true,false,false,false,true,true,false,false,true,false,false,false,false,false,true,false,false,false,false,true,false,true,false,true,false,false,true,false,false,false,true,false,true,false,true,true,false,\"missing\",true,false,false,false,true,true,true,false,true,false,false,false,false,false,true,false,false,true,\"missing\",false,true,false,false,true,true,true,false,true,false,false,false,false,false,false,false,false,false,true,false,false,false,\"missing\",true,false,false,false,false,true,true,false,true,false,false,true,false,false,false,false,true,false,true,false,false,true,false,false,false,true,false,false,false,false,false,false,false,false,false,true,false,false,false,false,true,true,false,false,true,false,false,false,false,true,false,true,false,\"missing\",false,true,false,true,true,true,false,false,false,false,false,\"missing\",false,true,false,false,true,true,false,false,false,\"missing\",false,false,\"missing\",false,true,false,false,false,false,false,false,false,false,false,false,false,false,false,false,false,false,true,false,false,false,false,false,true,true,false,true,false,true,true,false,false,true,true,true,false,false,false,false,false,true,false,true,true,true,false,false,false,true,false,true,true,false,false,true,true,false,false,false,true,true,false,false,\"missing\",\"missing\",true,false,false,false,false,false,false,false,false,false,false,false,true,false,\"missing\",false,false,false,false,true,true,\"missing\",true,true,true,false,false,true,true,true,false,false,false,false,false,true,false,true,true,false,true,false,true,false,false,true,true,true,true,true,true,false,false,true,false,false,false,false,false,false,false,true,true,false,false,false,false,false,true,false,false,false,false,false,true,false,false,false,true,true,false,false,false,false,false,false,false,\"missing\",\"missing\",false,true,false,false,true,false,false,false,false,false,true,true,false,true,false,true,true,true,false,false,false,true,false,false,false,false,false,true,false,true,false,false,false,\"missing\",false,true,false,true,false,false,true,false,false,false,true,true,true,false,false,false,false,false,true,false,\"missing\",true,false,true,false,false,true,false,true,false,false,true,false,true,true,true,false,false,true,\"missing\",false,true,true,false,true,true,false,false,false,true,false,false,true,false,false,false,false,false,false,false,false,false,true,true,true,true,false,false,true,true,false,false,false,false,true,true,true,true,false,true,true,true,true,true,true,true,true,false,true,false,false,true,false,true,true,false,true,false,false,false,false,false,\"missing\",true,false,false,false,false,false,false,\"missing\",true,false,false,false,true,false,true,false,false,false,false,true,false,\"missing\",false,true,false,false,true,false,true,false,false,true,false,false,false,true,true,false,true,false,false,false,true,true,false,false,true,true,false,false,false,true,false,true,false,true,false,true,true,false,false,false,true,false,false,true,false,false,false,false,false,true,false,false,false,true,false,true,false,false,false,true,true,false,false,false,true,false,false,true,false,true,false,false,false,true,false,false,false,true,false,false,false,true,true,false,false,false,false,\"missing\",true,false,false,false,true,true,true,true,false,false,false,false,false,false,false,true,true,true,false,false,false,false,false,true,true,false,\"missing\",true,false,true,true,false,false,false,true,false,false,false,false,false,true,false,false,true,true,true,false,false,true,true,\"missing\",false,false,false,true,false,false,false,true,false,false,false,false,true,false,true,false,true,false,false,true,false,true,true,true,\"missing\",false,false,false,true,true,false,true,true,\"missing\",true,true,false,false,true,false,false,true,false,true,true,false,true,true,false,false,true,true,false,true,false,false,false,false,true,false,false,false,false,false,true,false,false,false,true,false,false,true,true,false,false,\"missing\",false,true,false,true,false,false,false,false,true,true,false,false,false,false,false,true,false,true,false,false,true,false,false,true,true,true,false,true,false,false,false,false,false,true,true,true,true,true,false,true,false,true,false,true,false,true,false,true,false,false,false,false,false,true,false,true,true,\"missing\",false,true,false,false,true,false,true,false,true,false,false,true,false,false,false,true,true,true,true,true,false,true,false,false,false,true,true,true,false,false,false,true,true,false,false,true,true,false,false,false,false,false,false,false,true,true,false,false,false,true,false,true,false,true,true,false,false,true,false,true,false,false,false,false,false,false,false,false,true,false,false,false,false,true,false,false,false,false,false,false,true,false,false,true,false,false,true,false,false,false,false,true,false,false,false,true,true,false,true,false,true,true,true,\"missing\",false,false,true,false,false,false,true,false,true,true,false,false,false,false,true,false,true,true,false,true,true,false,false,true,false,true,true,false,true,false,false,false,false,true,false,false,false,true,true,true,false,true,true,false,false,false,false,true,false,false,false,false,false,false,false,false,true,false,false,false,false,false,false,true,true,false,false,true,false,false,true,false,false,true,false,true,false,true,false,false,false,false,false,true,false,false,true,false,false,true,false,true,false,false,\"missing\",true,true,false,false,true,false,false,true,false,false,true,\"missing\",false,true,false,false,true,false,true,true,true,false,true,false,false,false,false,false,false,false,false,true,false,false,false,false,false,true,false,true,false,\"missing\",true,true,false,false,false,false,false,true,true,false,true,true,false,true,true,false,false,false,false,true,true,false,true,\"missing\",true,true,false,false,false,false,false,false,false,true,true,true,true,false,false,true,false,false,false,false,false,false,true,false,false,true,true,false,false,false,false,false,false,true,false,false,true,false,true,false,false,true,false,true,false,true,true,false,true,false,true,false,true,true,false,true,false,\"missing\",false,false,true,false,false,true,false,true,false,false,true,true,true,true,true,true,false,false,false,true,false,false,true,false,\"missing\",true,false,true,false,false,false,true,false,true,false,false,false,true,false,false,true,true,false,true,false,false,false,false,false,false,true,false,false,false,false,false,true,true,true,true,true,true,false,false,false,true,false,false,false,false,true,false,false,true,false,false,false,true,true,false,true,\"missing\",true,false,false,false,true,false,false,false,true,false,false,false,true,false,true,true,false,false,true,false,false,true,true,true,false,false,true,false,false,false,false,true,false,true,false,true,\"missing\",false,true,\"missing\",false,false,false,false,false,false,false,true,true,true,true,\"missing\",true,false,false,true,false,false,false,false,false,false,true,false,true,false,true,true,false,false,false,false,\"missing\",false,false,false,false,true,false,false,false,false,true,false,true,false,false,false,false,true,false,false,false,true,false,false,false,false,false,false,true,true,false,false,true,true,true,false,false,true,false,false,false,true,true,\"missing\",true,false,true,true,false,true,true,false,false,false,false,true,false,false,false,true,true,true,true,false,true,false,false,true,false,true,true,false,true,false,true,true,false,true,true,false,false,false,false,true,false,false,false,false,false,true,false,true,false,false,true,false,false,false,false,true,false,false,true,true,false,false,false,true,true,false,false,true,false,false,true,false,false,false,false,true,false,false,false,false,false,true,false,true,false,true,true,false,false,false,true,false,false,false,false,false,false,true,false,false,true,false,false,false,false,false,true,false,false,true,false,true,false,false,false,false,false,false,true,false,false,true,true,true,false,true,false,true,false,false,false,true,false,false,false,false,true,false,false,false,false,false,\"missing\",false,true,true,false,false,false,\"missing\",false,false,false,true,true,false,false,false,false,false,false,false,false,true,false,true,false,false,\"missing\",false,false,false,false,false,false,false,false,false,true,false,false,false,false,false,true,true,false,false,true,false,false,false,false,false,false,true,false,false,true,false,false,false,false,true,false,true,false,false,true,false,false,false,false,false,false,false,false,true,true,false,false,false,true,false,false,false,false,true,false,false,false,false,false,false,true,false,false,true,true,true,true,false,false,true,false,true,false,false,true,false,true,false,false,false,false,false,false,true,true,true,false,true,false,true,false,false,true,false,false,false,false,false,false,true,false,true,false,false,true,true,false,true,true,true,false,false,false,false,true,true,true,false,true,false,true,true,false,true,false,true,true,true,false,false,true,false,false,false,false,false,true,false,false,false,false,false,false,true,true,true,false,false,true,false,false,false,false,false,true,false,false,false,false,true,false,false,true,false,false,true,true,true,true,false,false,false,false,false,true,\"missing\",false,false,false,true,false,false,false,false,false,true,false,false,true,false,false,false,true,true,false,false,false,true,false,false,true,false,false,true,false,false,true,true,false,false,false,false,false,false,false,false,false,false,false,true,true,true,true,true,false,true,false,true,false,true,true,false,false,\"missing\",false,true,false,true,false,false,false,false,true,true,true,false,true,true,true,false,false,false,false,false,true,false,false,false,false,false,false,false,false,true,false,false,false,false,\"missing\",true,true,true,false,false,false,false,true,false,true,true,false,true,true,false,true,true,false,false,false,true,false,false,false,false,false,false,true,true,true,false,false,false,true,false,false,false,true,true,false,true,true,true,false,false,\"missing\",false,true,false,false,false,false,false,true,false,false,false,true,true,false,false,false,true,false,true,false,true,false,false,false,false,true,false,true,true,false,false,false,false,true,false,false,false,false,true,false,true,false,true,true,true,false,false,true,false,true,false,true,false,false,false,false,false,false,true,true,false,false,true,false,true,false,false,true,true,true,false,true,false,false,false,false,true,true,false,false,true,true,true,false,false,false,false,true,false,\"missing\",false,false,false,false,false,false,true,false,true,true,false,false,false,false,false,true,false,false,false,false,\"missing\",false,false,true,true,false,false,false,\"missing\",false,false,false,true,false,false,true,true,true,true,true,false,false,false,false,true,false,false,false,true,false,true,true,false,false,false,true,true,true,true,\"missing\",false,true,false,false,false,false,false,true,false,false,false,true,\"missing\",true,false,false,true,false,true,true,true,true,false,\"missing\",true,true,true,true,true,true,false,false,true,false,false,\"missing\",false,true,false,false,false],\"type\":\"pie\",\"marker\":{\"line\":{\"color\":\"#000000\",\"width\":2},\"colors\":[\"darkorange\",\"blue\"]},\"hoverinfo\":\"label+percent+value\",\"textinfo\":\"percent+label\",\"textposition\":\"outside\"}],                        {\"template\":{\"data\":{\"bar\":[{\"error_x\":{\"color\":\"#2a3f5f\"},\"error_y\":{\"color\":\"#2a3f5f\"},\"marker\":{\"line\":{\"color\":\"#E5ECF6\",\"width\":0.5},\"pattern\":{\"fillmode\":\"overlay\",\"size\":10,\"solidity\":0.2}},\"type\":\"bar\"}],\"barpolar\":[{\"marker\":{\"line\":{\"color\":\"#E5ECF6\",\"width\":0.5},\"pattern\":{\"fillmode\":\"overlay\",\"size\":10,\"solidity\":0.2}},\"type\":\"barpolar\"}],\"carpet\":[{\"aaxis\":{\"endlinecolor\":\"#2a3f5f\",\"gridcolor\":\"white\",\"linecolor\":\"white\",\"minorgridcolor\":\"white\",\"startlinecolor\":\"#2a3f5f\"},\"baxis\":{\"endlinecolor\":\"#2a3f5f\",\"gridcolor\":\"white\",\"linecolor\":\"white\",\"minorgridcolor\":\"white\",\"startlinecolor\":\"#2a3f5f\"},\"type\":\"carpet\"}],\"choropleth\":[{\"colorbar\":{\"outlinewidth\":0,\"ticks\":\"\"},\"type\":\"choropleth\"}],\"contour\":[{\"colorbar\":{\"outlinewidth\":0,\"ticks\":\"\"},\"colorscale\":[[0.0,\"#0d0887\"],[0.1111111111111111,\"#46039f\"],[0.2222222222222222,\"#7201a8\"],[0.3333333333333333,\"#9c179e\"],[0.4444444444444444,\"#bd3786\"],[0.5555555555555556,\"#d8576b\"],[0.6666666666666666,\"#ed7953\"],[0.7777777777777778,\"#fb9f3a\"],[0.8888888888888888,\"#fdca26\"],[1.0,\"#f0f921\"]],\"type\":\"contour\"}],\"contourcarpet\":[{\"colorbar\":{\"outlinewidth\":0,\"ticks\":\"\"},\"type\":\"contourcarpet\"}],\"heatmap\":[{\"colorbar\":{\"outlinewidth\":0,\"ticks\":\"\"},\"colorscale\":[[0.0,\"#0d0887\"],[0.1111111111111111,\"#46039f\"],[0.2222222222222222,\"#7201a8\"],[0.3333333333333333,\"#9c179e\"],[0.4444444444444444,\"#bd3786\"],[0.5555555555555556,\"#d8576b\"],[0.6666666666666666,\"#ed7953\"],[0.7777777777777778,\"#fb9f3a\"],[0.8888888888888888,\"#fdca26\"],[1.0,\"#f0f921\"]],\"type\":\"heatmap\"}],\"heatmapgl\":[{\"colorbar\":{\"outlinewidth\":0,\"ticks\":\"\"},\"colorscale\":[[0.0,\"#0d0887\"],[0.1111111111111111,\"#46039f\"],[0.2222222222222222,\"#7201a8\"],[0.3333333333333333,\"#9c179e\"],[0.4444444444444444,\"#bd3786\"],[0.5555555555555556,\"#d8576b\"],[0.6666666666666666,\"#ed7953\"],[0.7777777777777778,\"#fb9f3a\"],[0.8888888888888888,\"#fdca26\"],[1.0,\"#f0f921\"]],\"type\":\"heatmapgl\"}],\"histogram\":[{\"marker\":{\"pattern\":{\"fillmode\":\"overlay\",\"size\":10,\"solidity\":0.2}},\"type\":\"histogram\"}],\"histogram2d\":[{\"colorbar\":{\"outlinewidth\":0,\"ticks\":\"\"},\"colorscale\":[[0.0,\"#0d0887\"],[0.1111111111111111,\"#46039f\"],[0.2222222222222222,\"#7201a8\"],[0.3333333333333333,\"#9c179e\"],[0.4444444444444444,\"#bd3786\"],[0.5555555555555556,\"#d8576b\"],[0.6666666666666666,\"#ed7953\"],[0.7777777777777778,\"#fb9f3a\"],[0.8888888888888888,\"#fdca26\"],[1.0,\"#f0f921\"]],\"type\":\"histogram2d\"}],\"histogram2dcontour\":[{\"colorbar\":{\"outlinewidth\":0,\"ticks\":\"\"},\"colorscale\":[[0.0,\"#0d0887\"],[0.1111111111111111,\"#46039f\"],[0.2222222222222222,\"#7201a8\"],[0.3333333333333333,\"#9c179e\"],[0.4444444444444444,\"#bd3786\"],[0.5555555555555556,\"#d8576b\"],[0.6666666666666666,\"#ed7953\"],[0.7777777777777778,\"#fb9f3a\"],[0.8888888888888888,\"#fdca26\"],[1.0,\"#f0f921\"]],\"type\":\"histogram2dcontour\"}],\"mesh3d\":[{\"colorbar\":{\"outlinewidth\":0,\"ticks\":\"\"},\"type\":\"mesh3d\"}],\"parcoords\":[{\"line\":{\"colorbar\":{\"outlinewidth\":0,\"ticks\":\"\"}},\"type\":\"parcoords\"}],\"pie\":[{\"automargin\":true,\"type\":\"pie\"}],\"scatter\":[{\"marker\":{\"colorbar\":{\"outlinewidth\":0,\"ticks\":\"\"}},\"type\":\"scatter\"}],\"scatter3d\":[{\"line\":{\"colorbar\":{\"outlinewidth\":0,\"ticks\":\"\"}},\"marker\":{\"colorbar\":{\"outlinewidth\":0,\"ticks\":\"\"}},\"type\":\"scatter3d\"}],\"scattercarpet\":[{\"marker\":{\"colorbar\":{\"outlinewidth\":0,\"ticks\":\"\"}},\"type\":\"scattercarpet\"}],\"scattergeo\":[{\"marker\":{\"colorbar\":{\"outlinewidth\":0,\"ticks\":\"\"}},\"type\":\"scattergeo\"}],\"scattergl\":[{\"marker\":{\"colorbar\":{\"outlinewidth\":0,\"ticks\":\"\"}},\"type\":\"scattergl\"}],\"scattermapbox\":[{\"marker\":{\"colorbar\":{\"outlinewidth\":0,\"ticks\":\"\"}},\"type\":\"scattermapbox\"}],\"scatterpolar\":[{\"marker\":{\"colorbar\":{\"outlinewidth\":0,\"ticks\":\"\"}},\"type\":\"scatterpolar\"}],\"scatterpolargl\":[{\"marker\":{\"colorbar\":{\"outlinewidth\":0,\"ticks\":\"\"}},\"type\":\"scatterpolargl\"}],\"scatterternary\":[{\"marker\":{\"colorbar\":{\"outlinewidth\":0,\"ticks\":\"\"}},\"type\":\"scatterternary\"}],\"surface\":[{\"colorbar\":{\"outlinewidth\":0,\"ticks\":\"\"},\"colorscale\":[[0.0,\"#0d0887\"],[0.1111111111111111,\"#46039f\"],[0.2222222222222222,\"#7201a8\"],[0.3333333333333333,\"#9c179e\"],[0.4444444444444444,\"#bd3786\"],[0.5555555555555556,\"#d8576b\"],[0.6666666666666666,\"#ed7953\"],[0.7777777777777778,\"#fb9f3a\"],[0.8888888888888888,\"#fdca26\"],[1.0,\"#f0f921\"]],\"type\":\"surface\"}],\"table\":[{\"cells\":{\"fill\":{\"color\":\"#EBF0F8\"},\"line\":{\"color\":\"white\"}},\"header\":{\"fill\":{\"color\":\"#C8D4E3\"},\"line\":{\"color\":\"white\"}},\"type\":\"table\"}]},\"layout\":{\"annotationdefaults\":{\"arrowcolor\":\"#2a3f5f\",\"arrowhead\":0,\"arrowwidth\":1},\"autotypenumbers\":\"strict\",\"coloraxis\":{\"colorbar\":{\"outlinewidth\":0,\"ticks\":\"\"}},\"colorscale\":{\"diverging\":[[0,\"#8e0152\"],[0.1,\"#c51b7d\"],[0.2,\"#de77ae\"],[0.3,\"#f1b6da\"],[0.4,\"#fde0ef\"],[0.5,\"#f7f7f7\"],[0.6,\"#e6f5d0\"],[0.7,\"#b8e186\"],[0.8,\"#7fbc41\"],[0.9,\"#4d9221\"],[1,\"#276419\"]],\"sequential\":[[0.0,\"#0d0887\"],[0.1111111111111111,\"#46039f\"],[0.2222222222222222,\"#7201a8\"],[0.3333333333333333,\"#9c179e\"],[0.4444444444444444,\"#bd3786\"],[0.5555555555555556,\"#d8576b\"],[0.6666666666666666,\"#ed7953\"],[0.7777777777777778,\"#fb9f3a\"],[0.8888888888888888,\"#fdca26\"],[1.0,\"#f0f921\"]],\"sequentialminus\":[[0.0,\"#0d0887\"],[0.1111111111111111,\"#46039f\"],[0.2222222222222222,\"#7201a8\"],[0.3333333333333333,\"#9c179e\"],[0.4444444444444444,\"#bd3786\"],[0.5555555555555556,\"#d8576b\"],[0.6666666666666666,\"#ed7953\"],[0.7777777777777778,\"#fb9f3a\"],[0.8888888888888888,\"#fdca26\"],[1.0,\"#f0f921\"]]},\"colorway\":[\"#636efa\",\"#EF553B\",\"#00cc96\",\"#ab63fa\",\"#FFA15A\",\"#19d3f3\",\"#FF6692\",\"#B6E880\",\"#FF97FF\",\"#FECB52\"],\"font\":{\"color\":\"#2a3f5f\"},\"geo\":{\"bgcolor\":\"white\",\"lakecolor\":\"white\",\"landcolor\":\"#E5ECF6\",\"showlakes\":true,\"showland\":true,\"subunitcolor\":\"white\"},\"hoverlabel\":{\"align\":\"left\"},\"hovermode\":\"closest\",\"mapbox\":{\"style\":\"light\"},\"paper_bgcolor\":\"white\",\"plot_bgcolor\":\"#E5ECF6\",\"polar\":{\"angularaxis\":{\"gridcolor\":\"white\",\"linecolor\":\"white\",\"ticks\":\"\"},\"bgcolor\":\"#E5ECF6\",\"radialaxis\":{\"gridcolor\":\"white\",\"linecolor\":\"white\",\"ticks\":\"\"}},\"scene\":{\"xaxis\":{\"backgroundcolor\":\"#E5ECF6\",\"gridcolor\":\"white\",\"gridwidth\":2,\"linecolor\":\"white\",\"showbackground\":true,\"ticks\":\"\",\"zerolinecolor\":\"white\"},\"yaxis\":{\"backgroundcolor\":\"#E5ECF6\",\"gridcolor\":\"white\",\"gridwidth\":2,\"linecolor\":\"white\",\"showbackground\":true,\"ticks\":\"\",\"zerolinecolor\":\"white\"},\"zaxis\":{\"backgroundcolor\":\"#E5ECF6\",\"gridcolor\":\"white\",\"gridwidth\":2,\"linecolor\":\"white\",\"showbackground\":true,\"ticks\":\"\",\"zerolinecolor\":\"white\"}},\"shapedefaults\":{\"line\":{\"color\":\"#2a3f5f\"}},\"ternary\":{\"aaxis\":{\"gridcolor\":\"white\",\"linecolor\":\"white\",\"ticks\":\"\"},\"baxis\":{\"gridcolor\":\"white\",\"linecolor\":\"white\",\"ticks\":\"\"},\"bgcolor\":\"#E5ECF6\",\"caxis\":{\"gridcolor\":\"white\",\"linecolor\":\"white\",\"ticks\":\"\"}},\"title\":{\"x\":0.05},\"xaxis\":{\"automargin\":true,\"gridcolor\":\"white\",\"linecolor\":\"white\",\"ticks\":\"\",\"title\":{\"standoff\":15},\"zerolinecolor\":\"white\",\"zerolinewidth\":2},\"yaxis\":{\"automargin\":true,\"gridcolor\":\"white\",\"linecolor\":\"white\",\"ticks\":\"\",\"title\":{\"standoff\":15},\"zerolinecolor\":\"white\",\"zerolinewidth\":2}}},\"annotations\":[{\"font\":{\"family\":\"monospace\",\"size\":14},\"opacity\":0.7,\"showarrow\":false,\"text\":\"CryoSleep\",\"x\":0.5,\"y\":0.5}],\"font\":{\"family\":\"monospace\"},\"title\":{\"font\":{\"color\":\"black\",\"size\":20},\"text\":\"CryoSleep\",\"x\":0.47,\"y\":0.98},\"legend\":{\"orientation\":\"v\",\"traceorder\":\"reversed\"},\"hoverlabel\":{\"bgcolor\":\"white\"}},                        {\"responsive\": true}                    ).then(function(){\n",
       "                            \n",
       "var gd = document.getElementById('5f795dd6-0e1c-4dd2-88ec-9a801b1de815');\n",
       "var x = new MutationObserver(function (mutations, observer) {{\n",
       "        var display = window.getComputedStyle(gd).display;\n",
       "        if (!display || display === 'none') {{\n",
       "            console.log([gd, 'removed!']);\n",
       "            Plotly.purge(gd);\n",
       "            observer.disconnect();\n",
       "        }}\n",
       "}});\n",
       "\n",
       "// Listen for the removal of the full notebook cells\n",
       "var notebookContainer = gd.closest('#notebook-container');\n",
       "if (notebookContainer) {{\n",
       "    x.observe(notebookContainer, {childList: true});\n",
       "}}\n",
       "\n",
       "// Listen for the clearing of the current output cell\n",
       "var outputEl = gd.closest('.output');\n",
       "if (outputEl) {{\n",
       "    x.observe(outputEl, {childList: true});\n",
       "}}\n",
       "\n",
       "                        })                };                });            </script>        </div>"
      ]
     },
     "metadata": {},
     "output_type": "display_data"
    }
   ],
   "source": [
    "fig = go.Figure(data=[go.Pie(labels=train.CryoSleep, hole=.4)])\n",
    "fig.add_annotation(text='CryoSleep',\n",
    "                   x=0.5,y=0.5,showarrow=False,font_size=14,opacity=0.7,font_family='monospace')\n",
    "fig.update_traces(hoverinfo='label+percent+value',\n",
    "                  marker=dict(colors=['darkorange','blue'], line=dict(color='#000000', width=2)))\n",
    "fig.update_layout(\n",
    "    font_family='monospace',\n",
    "    title=dict(text='CryoSleep',x=0.47,y=0.98,\n",
    "               font=dict(color='black',size=20)),\n",
    "    legend=dict(orientation='v',traceorder='reversed'),\n",
    "    hoverlabel=dict(bgcolor='white'))\n",
    "fig.update_traces(textposition='outside', textinfo='percent+label')\n",
    "fig.show()"
   ]
  },
  {
   "cell_type": "code",
   "execution_count": null,
   "id": "49c4a4d3",
   "metadata": {
    "papermill": {
     "duration": 0.022291,
     "end_time": "2022-04-01T08:37:45.141094",
     "exception": false,
     "start_time": "2022-04-01T08:37:45.118803",
     "status": "completed"
    },
    "tags": []
   },
   "outputs": [],
   "source": []
  }
 ],
 "metadata": {
  "kernelspec": {
   "display_name": "Python 3",
   "language": "python",
   "name": "python3"
  },
  "language_info": {
   "codemirror_mode": {
    "name": "ipython",
    "version": 3
   },
   "file_extension": ".py",
   "mimetype": "text/x-python",
   "name": "python",
   "nbconvert_exporter": "python",
   "pygments_lexer": "ipython3",
   "version": "3.7.12"
  },
  "papermill": {
   "default_parameters": {},
   "duration": 11.817865,
   "end_time": "2022-04-01T08:37:45.874690",
   "environment_variables": {},
   "exception": null,
   "input_path": "__notebook__.ipynb",
   "output_path": "__notebook__.ipynb",
   "parameters": {},
   "start_time": "2022-04-01T08:37:34.056825",
   "version": "2.3.3"
  }
 },
 "nbformat": 4,
 "nbformat_minor": 5
}
